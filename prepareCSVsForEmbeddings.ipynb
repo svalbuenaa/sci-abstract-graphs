{
 "cells": [
  {
   "cell_type": "code",
   "execution_count": 1,
   "id": "a356b58f-8ce5-4d47-a97d-5015affdd118",
   "metadata": {},
   "outputs": [],
   "source": [
    "import pandas as pd\n",
    "import os"
   ]
  },
  {
   "cell_type": "code",
   "execution_count": 2,
   "id": "8143cd17-7145-4062-8365-e17b7b1abdbf",
   "metadata": {},
   "outputs": [
    {
     "name": "stdin",
     "output_type": "stream",
     "text": [
      " E:\\sciAbstractsProject_sortedDFs\\\n"
     ]
    }
   ],
   "source": [
    "sortedDFs_input = input().strip()"
   ]
  },
  {
   "cell_type": "code",
   "execution_count": 34,
   "id": "2721aa1b-7177-44d4-8dc1-70d87a8e5619",
   "metadata": {},
   "outputs": [
    {
     "name": "stdin",
     "output_type": "stream",
     "text": [
      " E:\\sciAbstractsProject_DFsPreparedForEmbedding\\\n"
     ]
    }
   ],
   "source": [
    "DFsPreparedForEmbeeding_output = input().strip()"
   ]
  },
  {
   "cell_type": "code",
   "execution_count": 10,
   "id": "aa99b282-cc91-4f52-8875-bb78a1e1c5d2",
   "metadata": {},
   "outputs": [],
   "source": [
    "# Extract and add names of files in directories containing .csv files to a list, keep only .csv files\n",
    "sorted_DFs = []\n",
    "for root, dirs, files in os.walk(sortedDFs_input):\n",
    "        for file in files:\n",
    "            if file[-4:] == \".csv\":\n",
    "                sorted_DFs.append(os.path.join(root, file))"
   ]
  },
  {
   "cell_type": "code",
   "execution_count": 27,
   "id": "317d9d69-114c-4188-bfdf-99332a04be6c",
   "metadata": {},
   "outputs": [],
   "source": [
    "# Organize csvs in the list based on ascending PMID\n",
    "# Extract number of first PMID in each csv, add to a list\n",
    "numbers_sorted_DFs = []\n",
    "for csv in sorted_DFs:\n",
    "    numbers_sorted_DFs.append(int(csv.split(\"_\")[3]))\n",
    "\n",
    "# Sort the list by ascending PMID\n",
    "numbers_sorted_DFs.sort()\n",
    "\n",
    "# Add csvs to a list based on ascending PMIDs\n",
    "temp_csvs = []\n",
    "for number in numbers_sorted_DFs:\n",
    "    for csv in sorted_DFs:\n",
    "        if int(csv.split(\"_\")[3]) == number:\n",
    "            temp_csvs.append(csv)\n",
    "\n",
    "# Replace original list by new one, remove new one\n",
    "sorted_DFs = temp_csvs\n",
    "del temp_csvs"
   ]
  },
  {
   "cell_type": "code",
   "execution_count": null,
   "id": "758c7d52-a457-4219-bd5a-92dbc3b0eeb9",
   "metadata": {
    "scrolled": true
   },
   "outputs": [
    {
     "name": "stdout",
     "output_type": "stream",
     "text": [
      "Parsing csv: E:\\sciAbstractsProject_sortedDFs\\sortedPMIDs_from_21_to_208034.csv (0/263)\n"
     ]
    }
   ],
   "source": [
    "for el in range(0, 263, 60):\n",
    "    dataframe_container = []\n",
    "    if el <= len(sorted_DFs) + 60:\n",
    "        for csv in sorted_DFs[el:el+60]:\n",
    "            print(\"Parsing csv: \" + csv + \" (\" + str(sorted_DFs.index(csv)) + \"/\" + str(len(sorted_DFs)) + \")\")\n",
    "            dataframe_container.append(pd.read_csv(csv))\n",
    "        df_save = pd.concat(dataframe_container)    \n",
    "        df_save.to_csv(\n",
    "            DFsPreparedForEmbeeding_output + \"DFsPreparedForEmbedding_\" + sorted_DFs[el].split(\"_\")[3] + \"_to_\" + sorted_DFs[el+60].split(\"_\")[3] + \".csv\")\n",
    "    else:\n",
    "        for csv in sorted_DFs[el:el+(len(sorted_DFs-el))]:\n",
    "            print(\"Parsing csv: \" + csv + \" (\" + str(sorted_DFs.index(csv)) + \"/\" + str(len(sorted_DFs)) + \")\")\n",
    "            dataframe_container.append(pd.read_csv(csv))\n",
    "        df_save = pd.concat(dataframe_container)    \n",
    "        df_save.to_csv(\n",
    "            DFsPreparedForEmbeeding_output + \"DFsPreparedForEmbedding_\" + sorted_DFs[el].split(\"_\")[3] + \"_to_\" + sorted_DFs[el+(len(sorted_DFs-el))].split(\"_\")[3] + \".csv\")"
   ]
  },
  {
   "cell_type": "code",
   "execution_count": null,
   "id": "962495e9-7e1b-462a-a301-69b92be9d98c",
   "metadata": {},
   "outputs": [],
   "source": []
  }
 ],
 "metadata": {
  "kernelspec": {
   "display_name": "Python 3 (ipykernel)",
   "language": "python",
   "name": "python3"
  },
  "language_info": {
   "codemirror_mode": {
    "name": "ipython",
    "version": 3
   },
   "file_extension": ".py",
   "mimetype": "text/x-python",
   "name": "python",
   "nbconvert_exporter": "python",
   "pygments_lexer": "ipython3",
   "version": "3.12.7"
  }
 },
 "nbformat": 4,
 "nbformat_minor": 5
}
