{
 "cells": [
  {
   "cell_type": "code",
   "execution_count": 1,
   "id": "a356b58f-8ce5-4d47-a97d-5015affdd118",
   "metadata": {},
   "outputs": [],
   "source": [
    "import pandas as pd\n",
    "import os"
   ]
  },
  {
   "cell_type": "code",
   "execution_count": 2,
   "id": "8143cd17-7145-4062-8365-e17b7b1abdbf",
   "metadata": {},
   "outputs": [
    {
     "name": "stdin",
     "output_type": "stream",
     "text": [
      " E:\\sciAbstractsProject_sortedDFs\\\n"
     ]
    }
   ],
   "source": [
    "sortedDFs_input = input().strip()"
   ]
  },
  {
   "cell_type": "code",
   "execution_count": 3,
   "id": "2721aa1b-7177-44d4-8dc1-70d87a8e5619",
   "metadata": {},
   "outputs": [
    {
     "name": "stdin",
     "output_type": "stream",
     "text": [
      " E:\\sciAbstractsProject_DFsPreparedForEmbedding\\\n"
     ]
    }
   ],
   "source": [
    "DFsPreparedForEmbeeding_output = input().strip()"
   ]
  },
  {
   "cell_type": "code",
   "execution_count": 4,
   "id": "aa99b282-cc91-4f52-8875-bb78a1e1c5d2",
   "metadata": {},
   "outputs": [],
   "source": [
    "# Extract and add names of files in directories containing .csv files to a list, keep only .csv files\n",
    "sorted_DFs = []\n",
    "for root, dirs, files in os.walk(sortedDFs_input):\n",
    "        for file in files:\n",
    "            if file[-4:] == \".csv\":\n",
    "                sorted_DFs.append(os.path.join(root, file))"
   ]
  },
  {
   "cell_type": "code",
   "execution_count": 5,
   "id": "317d9d69-114c-4188-bfdf-99332a04be6c",
   "metadata": {},
   "outputs": [],
   "source": [
    "# Organize csvs in the list based on ascending PMID\n",
    "# Extract number of first PMID in each csv, add to a list\n",
    "numbers_sorted_DFs = []\n",
    "for csv in sorted_DFs:\n",
    "    numbers_sorted_DFs.append(int(csv.split(\"_\")[3]))\n",
    "\n",
    "# Sort the list by ascending PMID\n",
    "numbers_sorted_DFs.sort()\n",
    "\n",
    "# Add csvs to a list based on ascending PMIDs\n",
    "temp_csvs = []\n",
    "for number in numbers_sorted_DFs:\n",
    "    for csv in sorted_DFs:\n",
    "        if int(csv.split(\"_\")[3]) == number:\n",
    "            temp_csvs.append(csv)\n",
    "\n",
    "# Replace original list by new one, remove new one\n",
    "sorted_DFs = temp_csvs\n",
    "del temp_csvs"
   ]
  },
  {
   "cell_type": "code",
   "execution_count": 11,
   "id": "758c7d52-a457-4219-bd5a-92dbc3b0eeb9",
   "metadata": {
    "scrolled": true
   },
   "outputs": [
    {
     "name": "stdout",
     "output_type": "stream",
     "text": [
      "Parsing csv: E:\\sciAbstractsProject_sortedDFs\\sortedPMIDs_from_21_to_208034.csv (0/263)\n",
      "Parsing csv: E:\\sciAbstractsProject_sortedDFs\\sortedPMIDs_from_208035_to_461283.csv (1/263)\n",
      "Parsing csv: E:\\sciAbstractsProject_sortedDFs\\sortedPMIDs_from_461284_to_702461.csv (2/263)\n",
      "Parsing csv: E:\\sciAbstractsProject_sortedDFs\\sortedPMIDs_from_702462_to_946755.csv (3/263)\n",
      "Parsing csv: E:\\sciAbstractsProject_sortedDFs\\sortedPMIDs_from_946756_to_1211897.csv (4/263)\n",
      "Parsing csv: E:\\sciAbstractsProject_sortedDFs\\sortedPMIDs_from_1211899_to_1374715.csv (5/263)\n",
      "Parsing csv: E:\\sciAbstractsProject_sortedDFs\\sortedPMIDs_from_1374716_to_1510306.csv (6/263)\n",
      "Parsing csv: E:\\sciAbstractsProject_sortedDFs\\sortedPMIDs_from_1510307_to_1646801.csv (7/263)\n",
      "Parsing csv: E:\\sciAbstractsProject_sortedDFs\\sortedPMIDs_from_1646802_to_1775883.csv (8/263)\n",
      "Parsing csv: E:\\sciAbstractsProject_sortedDFs\\sortedPMIDs_from_1775884_to_1913119.csv (9/263)\n",
      "Parsing csv: E:\\sciAbstractsProject_sortedDFs\\sortedPMIDs_from_1913121_to_2054058.csv (10/263)\n",
      "Parsing csv: E:\\sciAbstractsProject_sortedDFs\\sortedPMIDs_from_2054059_to_2187872.csv (11/263)\n",
      "Parsing csv: E:\\sciAbstractsProject_sortedDFs\\sortedPMIDs_from_2187873_to_2330140.csv (12/263)\n",
      "Parsing csv: E:\\sciAbstractsProject_sortedDFs\\sortedPMIDs_from_2330141_to_2465793.csv (13/263)\n",
      "Parsing csv: E:\\sciAbstractsProject_sortedDFs\\sortedPMIDs_from_2465794_to_2597661.csv (14/263)\n",
      "Parsing csv: E:\\sciAbstractsProject_sortedDFs\\sortedPMIDs_from_2597662_to_2741740.csv (15/263)\n",
      "Parsing csv: E:\\sciAbstractsProject_sortedDFs\\sortedPMIDs_from_2741741_to_2880927.csv (16/263)\n",
      "Parsing csv: E:\\sciAbstractsProject_sortedDFs\\sortedPMIDs_from_2880928_to_3028603.csv (17/263)\n",
      "Parsing csv: E:\\sciAbstractsProject_sortedDFs\\sortedPMIDs_from_3028604_to_3193460.csv (18/263)\n",
      "Parsing csv: E:\\sciAbstractsProject_sortedDFs\\sortedPMIDs_from_3193461_to_3379170.csv (19/263)\n",
      "Parsing csv: E:\\sciAbstractsProject_sortedDFs\\sortedPMIDs_from_3379171_to_3563888.csv (20/263)\n",
      "Parsing csv: E:\\sciAbstractsProject_sortedDFs\\sortedPMIDs_from_3563889_to_3748797.csv (21/263)\n",
      "Parsing csv: E:\\sciAbstractsProject_sortedDFs\\sortedPMIDs_from_3748798_to_3931505.csv (22/263)\n",
      "Parsing csv: E:\\sciAbstractsProject_sortedDFs\\sortedPMIDs_from_3931506_to_4090815.csv (23/263)\n",
      "Parsing csv: E:\\sciAbstractsProject_sortedDFs\\sortedPMIDs_from_4090816_to_6149468.csv (24/263)\n",
      "Parsing csv: E:\\sciAbstractsProject_sortedDFs\\sortedPMIDs_from_6149469_to_6310968.csv (25/263)\n",
      "Parsing csv: E:\\sciAbstractsProject_sortedDFs\\sortedPMIDs_from_6310969_to_6480348.csv (26/263)\n",
      "Parsing csv: E:\\sciAbstractsProject_sortedDFs\\sortedPMIDs_from_6480349_to_6686946.csv (27/263)\n",
      "Parsing csv: E:\\sciAbstractsProject_sortedDFs\\sortedPMIDs_from_6686949_to_6862787.csv (28/263)\n",
      "Parsing csv: E:\\sciAbstractsProject_sortedDFs\\sortedPMIDs_from_6862789_to_7099710.csv (29/263)\n",
      "Parsing csv: E:\\sciAbstractsProject_sortedDFs\\sortedPMIDs_from_7099711_to_7316500.csv (30/263)\n",
      "Parsing csv: E:\\sciAbstractsProject_sortedDFs\\sortedPMIDs_from_7316501_to_7507694.csv (31/263)\n",
      "Parsing csv: E:\\sciAbstractsProject_sortedDFs\\sortedPMIDs_from_7507695_to_7634260.csv (32/263)\n",
      "Parsing csv: E:\\sciAbstractsProject_sortedDFs\\sortedPMIDs_from_7634261_to_7766681.csv (33/263)\n",
      "Parsing csv: E:\\sciAbstractsProject_sortedDFs\\sortedPMIDs_from_7766682_to_7901586.csv (34/263)\n",
      "Parsing csv: E:\\sciAbstractsProject_sortedDFs\\sortedPMIDs_from_7901587_to_8036683.csv (35/263)\n",
      "Parsing csv: E:\\sciAbstractsProject_sortedDFs\\sortedPMIDs_from_8036685_to_8172960.csv (36/263)\n",
      "Parsing csv: E:\\sciAbstractsProject_sortedDFs\\sortedPMIDs_from_8172961_to_8306947.csv (37/263)\n",
      "Parsing csv: E:\\sciAbstractsProject_sortedDFs\\sortedPMIDs_from_8306948_to_8439362.csv (38/263)\n",
      "Parsing csv: E:\\sciAbstractsProject_sortedDFs\\sortedPMIDs_from_8439366_to_8574863.csv (39/263)\n",
      "Parsing csv: E:\\sciAbstractsProject_sortedDFs\\sortedPMIDs_from_8574864_to_8710043.csv (40/263)\n",
      "Parsing csv: E:\\sciAbstractsProject_sortedDFs\\sortedPMIDs_from_8710044_to_8841992.csv (41/263)\n",
      "Parsing csv: E:\\sciAbstractsProject_sortedDFs\\sortedPMIDs_from_8841993_to_8971995.csv (42/263)\n",
      "Parsing csv: E:\\sciAbstractsProject_sortedDFs\\sortedPMIDs_from_8971997_to_9113684.csv (43/263)\n",
      "Parsing csv: E:\\sciAbstractsProject_sortedDFs\\sortedPMIDs_from_9113685_to_9246038.csv (44/263)\n",
      "Parsing csv: E:\\sciAbstractsProject_sortedDFs\\sortedPMIDs_from_9246039_to_9388873.csv (45/263)\n",
      "Parsing csv: E:\\sciAbstractsProject_sortedDFs\\sortedPMIDs_from_9388874_to_9524067.csv (46/263)\n",
      "Parsing csv: E:\\sciAbstractsProject_sortedDFs\\sortedPMIDs_from_9524068_to_9657422.csv (47/263)\n",
      "Parsing csv: E:\\sciAbstractsProject_sortedDFs\\sortedPMIDs_from_9657423_to_9787780.csv (48/263)\n",
      "Parsing csv: E:\\sciAbstractsProject_sortedDFs\\sortedPMIDs_from_9787781_to_9952046.csv (49/263)\n",
      "Parsing csv: E:\\sciAbstractsProject_sortedDFs\\sortedPMIDs_from_9952047_to_10217318.csv (50/263)\n",
      "Parsing csv: E:\\sciAbstractsProject_sortedDFs\\sortedPMIDs_from_10217319_to_10416803.csv (51/263)\n",
      "Parsing csv: E:\\sciAbstractsProject_sortedDFs\\sortedPMIDs_from_10416804_to_10548866.csv (52/263)\n",
      "Parsing csv: E:\\sciAbstractsProject_sortedDFs\\sortedPMIDs_from_10548867_to_10682870.csv (53/263)\n",
      "Parsing csv: E:\\sciAbstractsProject_sortedDFs\\sortedPMIDs_from_10682871_to_10815321.csv (54/263)\n",
      "Parsing csv: E:\\sciAbstractsProject_sortedDFs\\sortedPMIDs_from_10815322_to_10948273.csv (55/263)\n",
      "Parsing csv: E:\\sciAbstractsProject_sortedDFs\\sortedPMIDs_from_10948274_to_11086442.csv (56/263)\n",
      "Parsing csv: E:\\sciAbstractsProject_sortedDFs\\sortedPMIDs_from_11086443_to_11221004.csv (57/263)\n",
      "Parsing csv: E:\\sciAbstractsProject_sortedDFs\\sortedPMIDs_from_11221007_to_11354879.csv (58/263)\n",
      "Parsing csv: E:\\sciAbstractsProject_sortedDFs\\sortedPMIDs_from_11354880_to_11495371.csv (59/263)\n",
      "Parsing csv: E:\\sciAbstractsProject_sortedDFs\\sortedPMIDs_from_11495372_to_11678341.csv (60/263)\n",
      "Parsing csv: E:\\sciAbstractsProject_sortedDFs\\sortedPMIDs_from_11678342_to_11811425.csv (61/263)\n",
      "Parsing csv: E:\\sciAbstractsProject_sortedDFs\\sortedPMIDs_from_11811427_to_11951482.csv (62/263)\n",
      "Parsing csv: E:\\sciAbstractsProject_sortedDFs\\sortedPMIDs_from_11951483_to_12094667.csv (63/263)\n",
      "Parsing csv: E:\\sciAbstractsProject_sortedDFs\\sortedPMIDs_from_12094668_to_12237950.csv (64/263)\n",
      "Parsing csv: E:\\sciAbstractsProject_sortedDFs\\sortedPMIDs_from_12237951_to_12464342.csv (65/263)\n",
      "Parsing csv: E:\\sciAbstractsProject_sortedDFs\\sortedPMIDs_from_12464343_to_12598811.csv (66/263)\n",
      "Parsing csv: E:\\sciAbstractsProject_sortedDFs\\sortedPMIDs_from_12598812_to_12732932.csv (67/263)\n",
      "Parsing csv: E:\\sciAbstractsProject_sortedDFs\\sortedPMIDs_from_12732933_to_12870007.csv (68/263)\n",
      "Parsing csv: E:\\sciAbstractsProject_sortedDFs\\sortedPMIDs_from_12870008_to_14505332.csv (69/263)\n",
      "Parsing csv: E:\\sciAbstractsProject_sortedDFs\\sortedPMIDs_from_14505333_to_14657754.csv (70/263)\n",
      "Parsing csv: E:\\sciAbstractsProject_sortedDFs\\sortedPMIDs_from_14657755_to_14981757.csv (71/263)\n",
      "Parsing csv: E:\\sciAbstractsProject_sortedDFs\\sortedPMIDs_from_14981758_to_15117323.csv (72/263)\n",
      "Parsing csv: E:\\sciAbstractsProject_sortedDFs\\sortedPMIDs_from_15117324_to_15249251.csv (73/263)\n",
      "Parsing csv: E:\\sciAbstractsProject_sortedDFs\\sortedPMIDs_from_15249252_to_15382240.csv (74/263)\n",
      "Parsing csv: E:\\sciAbstractsProject_sortedDFs\\sortedPMIDs_from_15382241_to_15570272.csv (75/263)\n",
      "Parsing csv: E:\\sciAbstractsProject_sortedDFs\\sortedPMIDs_from_15570273_to_15702335.csv (76/263)\n",
      "Parsing csv: E:\\sciAbstractsProject_sortedDFs\\sortedPMIDs_from_15702336_to_15833681.csv (77/263)\n",
      "Parsing csv: E:\\sciAbstractsProject_sortedDFs\\sortedPMIDs_from_15833682_to_15965027.csv (78/263)\n",
      "Parsing csv: E:\\sciAbstractsProject_sortedDFs\\sortedPMIDs_from_15965028_to_16112644.csv (79/263)\n",
      "Parsing csv: E:\\sciAbstractsProject_sortedDFs\\sortedPMIDs_from_16112645_to_16243563.csv (80/263)\n",
      "Parsing csv: E:\\sciAbstractsProject_sortedDFs\\sortedPMIDs_from_16243564_to_16376012.csv (81/263)\n",
      "Parsing csv: E:\\sciAbstractsProject_sortedDFs\\sortedPMIDs_from_16376013_to_16505607.csv (82/263)\n",
      "Parsing csv: E:\\sciAbstractsProject_sortedDFs\\sortedPMIDs_from_16505608_to_16646696.csv (83/263)\n",
      "Parsing csv: E:\\sciAbstractsProject_sortedDFs\\sortedPMIDs_from_16646697_to_16788751.csv (84/263)\n"
     ]
    },
    {
     "name": "stderr",
     "output_type": "stream",
     "text": [
      "C:\\Users\\svalb\\AppData\\Local\\Temp\\ipykernel_21928\\2523766749.py:6: DtypeWarning: Columns (12) have mixed types. Specify dtype option on import or set low_memory=False.\n",
      "  dataframe_container.append(pd.read_csv(csv))\n"
     ]
    },
    {
     "name": "stdout",
     "output_type": "stream",
     "text": [
      "Parsing csv: E:\\sciAbstractsProject_sortedDFs\\sortedPMIDs_from_16788752_to_16916958.csv (85/263)\n"
     ]
    },
    {
     "name": "stderr",
     "output_type": "stream",
     "text": [
      "C:\\Users\\svalb\\AppData\\Local\\Temp\\ipykernel_21928\\2523766749.py:6: DtypeWarning: Columns (12) have mixed types. Specify dtype option on import or set low_memory=False.\n",
      "  dataframe_container.append(pd.read_csv(csv))\n"
     ]
    },
    {
     "name": "stdout",
     "output_type": "stream",
     "text": [
      "Parsing csv: E:\\sciAbstractsProject_sortedDFs\\sortedPMIDs_from_16916959_to_17052964.csv (86/263)\n",
      "Parsing csv: E:\\sciAbstractsProject_sortedDFs\\sortedPMIDs_from_17052965_to_17181928.csv (87/263)\n",
      "Parsing csv: E:\\sciAbstractsProject_sortedDFs\\sortedPMIDs_from_17181929_to_17316681.csv (88/263)\n",
      "Parsing csv: E:\\sciAbstractsProject_sortedDFs\\sortedPMIDs_from_17316682_to_17450535.csv (89/263)\n",
      "Parsing csv: E:\\sciAbstractsProject_sortedDFs\\sortedPMIDs_from_17450536_to_17584465.csv (90/263)\n"
     ]
    },
    {
     "name": "stderr",
     "output_type": "stream",
     "text": [
      "C:\\Users\\svalb\\AppData\\Local\\Temp\\ipykernel_21928\\2523766749.py:6: DtypeWarning: Columns (12) have mixed types. Specify dtype option on import or set low_memory=False.\n",
      "  dataframe_container.append(pd.read_csv(csv))\n"
     ]
    },
    {
     "name": "stdout",
     "output_type": "stream",
     "text": [
      "Parsing csv: E:\\sciAbstractsProject_sortedDFs\\sortedPMIDs_from_17584466_to_17713208.csv (91/263)\n",
      "Parsing csv: E:\\sciAbstractsProject_sortedDFs\\sortedPMIDs_from_17713209_to_17933199.csv (92/263)\n",
      "Parsing csv: E:\\sciAbstractsProject_sortedDFs\\sortedPMIDs_from_17933200_to_18067576.csv (93/263)\n",
      "Parsing csv: E:\\sciAbstractsProject_sortedDFs\\sortedPMIDs_from_18067577_to_18257108.csv (94/263)\n",
      "Parsing csv: E:\\sciAbstractsProject_sortedDFs\\sortedPMIDs_from_18257109_to_18382222.csv (95/263)\n",
      "Parsing csv: E:\\sciAbstractsProject_sortedDFs\\sortedPMIDs_from_18382223_to_18508228.csv (96/263)\n",
      "Parsing csv: E:\\sciAbstractsProject_sortedDFs\\sortedPMIDs_from_18508229_to_18641427.csv (97/263)\n",
      "Parsing csv: E:\\sciAbstractsProject_sortedDFs\\sortedPMIDs_from_18641428_to_18794380.csv (98/263)\n"
     ]
    },
    {
     "name": "stderr",
     "output_type": "stream",
     "text": [
      "C:\\Users\\svalb\\AppData\\Local\\Temp\\ipykernel_21928\\2523766749.py:6: DtypeWarning: Columns (12) have mixed types. Specify dtype option on import or set low_memory=False.\n",
      "  dataframe_container.append(pd.read_csv(csv))\n"
     ]
    },
    {
     "name": "stdout",
     "output_type": "stream",
     "text": [
      "Parsing csv: E:\\sciAbstractsProject_sortedDFs\\sortedPMIDs_from_18794381_to_18989937.csv (99/263)\n",
      "Parsing csv: E:\\sciAbstractsProject_sortedDFs\\sortedPMIDs_from_18989938_to_19121184.csv (100/263)\n",
      "Parsing csv: E:\\sciAbstractsProject_sortedDFs\\sortedPMIDs_from_19121185_to_19248581.csv (101/263)\n",
      "Parsing csv: E:\\sciAbstractsProject_sortedDFs\\sortedPMIDs_from_19248582_to_19384795.csv (102/263)\n",
      "Parsing csv: E:\\sciAbstractsProject_sortedDFs\\sortedPMIDs_from_19384796_to_19514849.csv (103/263)\n",
      "Parsing csv: E:\\sciAbstractsProject_sortedDFs\\sortedPMIDs_from_19514850_to_19649151.csv (104/263)\n",
      "Parsing csv: E:\\sciAbstractsProject_sortedDFs\\sortedPMIDs_from_19649152_to_19778862.csv (105/263)\n",
      "Parsing csv: E:\\sciAbstractsProject_sortedDFs\\sortedPMIDs_from_19778863_to_19908149.csv (106/263)\n",
      "Parsing csv: E:\\sciAbstractsProject_sortedDFs\\sortedPMIDs_from_19908150_to_20059111.csv (107/263)\n",
      "Parsing csv: E:\\sciAbstractsProject_sortedDFs\\sortedPMIDs_from_20059112_to_20190106.csv (108/263)\n",
      "Parsing csv: E:\\sciAbstractsProject_sortedDFs\\sortedPMIDs_from_20190107_to_20399943.csv (109/263)\n"
     ]
    },
    {
     "name": "stderr",
     "output_type": "stream",
     "text": [
      "C:\\Users\\svalb\\AppData\\Local\\Temp\\ipykernel_21928\\2523766749.py:6: DtypeWarning: Columns (13,14,15) have mixed types. Specify dtype option on import or set low_memory=False.\n",
      "  dataframe_container.append(pd.read_csv(csv))\n"
     ]
    },
    {
     "name": "stdout",
     "output_type": "stream",
     "text": [
      "Parsing csv: E:\\sciAbstractsProject_sortedDFs\\sortedPMIDs_from_20399945_to_20531005.csv (110/263)\n"
     ]
    },
    {
     "name": "stderr",
     "output_type": "stream",
     "text": [
      "C:\\Users\\svalb\\AppData\\Local\\Temp\\ipykernel_21928\\2523766749.py:6: DtypeWarning: Columns (12,13,14,15) have mixed types. Specify dtype option on import or set low_memory=False.\n",
      "  dataframe_container.append(pd.read_csv(csv))\n"
     ]
    },
    {
     "name": "stdout",
     "output_type": "stream",
     "text": [
      "Parsing csv: E:\\sciAbstractsProject_sortedDFs\\sortedPMIDs_from_20531006_to_20658122.csv (111/263)\n"
     ]
    },
    {
     "name": "stderr",
     "output_type": "stream",
     "text": [
      "C:\\Users\\svalb\\AppData\\Local\\Temp\\ipykernel_21928\\2523766749.py:6: DtypeWarning: Columns (13,14,15) have mixed types. Specify dtype option on import or set low_memory=False.\n",
      "  dataframe_container.append(pd.read_csv(csv))\n"
     ]
    },
    {
     "name": "stdout",
     "output_type": "stream",
     "text": [
      "Parsing csv: E:\\sciAbstractsProject_sortedDFs\\sortedPMIDs_from_20658123_to_20839256.csv (112/263)\n"
     ]
    },
    {
     "name": "stderr",
     "output_type": "stream",
     "text": [
      "C:\\Users\\svalb\\AppData\\Local\\Temp\\ipykernel_21928\\2523766749.py:6: DtypeWarning: Columns (13,14,15) have mixed types. Specify dtype option on import or set low_memory=False.\n",
      "  dataframe_container.append(pd.read_csv(csv))\n"
     ]
    },
    {
     "name": "stdout",
     "output_type": "stream",
     "text": [
      "Parsing csv: E:\\sciAbstractsProject_sortedDFs\\sortedPMIDs_from_20839257_to_21043262.csv (113/263)\n"
     ]
    },
    {
     "name": "stderr",
     "output_type": "stream",
     "text": [
      "C:\\Users\\svalb\\AppData\\Local\\Temp\\ipykernel_21928\\2523766749.py:6: DtypeWarning: Columns (13,14,15) have mixed types. Specify dtype option on import or set low_memory=False.\n",
      "  dataframe_container.append(pd.read_csv(csv))\n"
     ]
    },
    {
     "name": "stdout",
     "output_type": "stream",
     "text": [
      "Parsing csv: E:\\sciAbstractsProject_sortedDFs\\sortedPMIDs_from_21043263_to_21175515.csv (114/263)\n"
     ]
    },
    {
     "name": "stderr",
     "output_type": "stream",
     "text": [
      "C:\\Users\\svalb\\AppData\\Local\\Temp\\ipykernel_21928\\2523766749.py:6: DtypeWarning: Columns (13,14,15) have mixed types. Specify dtype option on import or set low_memory=False.\n",
      "  dataframe_container.append(pd.read_csv(csv))\n"
     ]
    },
    {
     "name": "stdout",
     "output_type": "stream",
     "text": [
      "Parsing csv: E:\\sciAbstractsProject_sortedDFs\\sortedPMIDs_from_21175516_to_21305359.csv (115/263)\n"
     ]
    },
    {
     "name": "stderr",
     "output_type": "stream",
     "text": [
      "C:\\Users\\svalb\\AppData\\Local\\Temp\\ipykernel_21928\\2523766749.py:6: DtypeWarning: Columns (13,14,15) have mixed types. Specify dtype option on import or set low_memory=False.\n",
      "  dataframe_container.append(pd.read_csv(csv))\n"
     ]
    },
    {
     "name": "stdout",
     "output_type": "stream",
     "text": [
      "Parsing csv: E:\\sciAbstractsProject_sortedDFs\\sortedPMIDs_from_21305360_to_21436282.csv (116/263)\n",
      "Parsing csv: E:\\sciAbstractsProject_sortedDFs\\sortedPMIDs_from_21436283_to_21560682.csv (117/263)\n"
     ]
    },
    {
     "name": "stderr",
     "output_type": "stream",
     "text": [
      "C:\\Users\\svalb\\AppData\\Local\\Temp\\ipykernel_21928\\2523766749.py:6: DtypeWarning: Columns (13,14,15) have mixed types. Specify dtype option on import or set low_memory=False.\n",
      "  dataframe_container.append(pd.read_csv(csv))\n"
     ]
    },
    {
     "name": "stdout",
     "output_type": "stream",
     "text": [
      "Parsing csv: E:\\sciAbstractsProject_sortedDFs\\sortedPMIDs_from_21560683_to_21688070.csv (118/263)\n"
     ]
    },
    {
     "name": "stderr",
     "output_type": "stream",
     "text": [
      "C:\\Users\\svalb\\AppData\\Local\\Temp\\ipykernel_21928\\2523766749.py:6: DtypeWarning: Columns (13,14,15) have mixed types. Specify dtype option on import or set low_memory=False.\n",
      "  dataframe_container.append(pd.read_csv(csv))\n"
     ]
    },
    {
     "name": "stdout",
     "output_type": "stream",
     "text": [
      "Parsing csv: E:\\sciAbstractsProject_sortedDFs\\sortedPMIDs_from_21688071_to_21814842.csv (119/263)\n"
     ]
    },
    {
     "name": "stderr",
     "output_type": "stream",
     "text": [
      "C:\\Users\\svalb\\AppData\\Local\\Temp\\ipykernel_21928\\2523766749.py:6: DtypeWarning: Columns (13,14,15) have mixed types. Specify dtype option on import or set low_memory=False.\n",
      "  dataframe_container.append(pd.read_csv(csv))\n"
     ]
    },
    {
     "name": "stdout",
     "output_type": "stream",
     "text": [
      "Parsing csv: E:\\sciAbstractsProject_sortedDFs\\sortedPMIDs_from_21814843_to_21939732.csv (120/263)\n",
      "Parsing csv: E:\\sciAbstractsProject_sortedDFs\\sortedPMIDs_from_21939733_to_22065268.csv (121/263)\n"
     ]
    },
    {
     "name": "stderr",
     "output_type": "stream",
     "text": [
      "C:\\Users\\svalb\\AppData\\Local\\Temp\\ipykernel_21928\\2523766749.py:6: DtypeWarning: Columns (13,14,15) have mixed types. Specify dtype option on import or set low_memory=False.\n",
      "  dataframe_container.append(pd.read_csv(csv))\n"
     ]
    },
    {
     "name": "stdout",
     "output_type": "stream",
     "text": [
      "Parsing csv: E:\\sciAbstractsProject_sortedDFs\\sortedPMIDs_from_22065269_to_22192368.csv (122/263)\n",
      "Parsing csv: E:\\sciAbstractsProject_sortedDFs\\sortedPMIDs_from_22192369_to_22320030.csv (123/263)\n",
      "Parsing csv: E:\\sciAbstractsProject_sortedDFs\\sortedPMIDs_from_22320031_to_22445333.csv (124/263)\n"
     ]
    },
    {
     "name": "stderr",
     "output_type": "stream",
     "text": [
      "C:\\Users\\svalb\\AppData\\Local\\Temp\\ipykernel_21928\\2523766749.py:6: DtypeWarning: Columns (13,14,15) have mixed types. Specify dtype option on import or set low_memory=False.\n",
      "  dataframe_container.append(pd.read_csv(csv))\n"
     ]
    },
    {
     "name": "stdout",
     "output_type": "stream",
     "text": [
      "Parsing csv: E:\\sciAbstractsProject_sortedDFs\\sortedPMIDs_from_22445334_to_22570866.csv (125/263)\n"
     ]
    },
    {
     "name": "stderr",
     "output_type": "stream",
     "text": [
      "C:\\Users\\svalb\\AppData\\Local\\Temp\\ipykernel_21928\\2523766749.py:6: DtypeWarning: Columns (13,14,15) have mixed types. Specify dtype option on import or set low_memory=False.\n",
      "  dataframe_container.append(pd.read_csv(csv))\n"
     ]
    },
    {
     "name": "stdout",
     "output_type": "stream",
     "text": [
      "Parsing csv: E:\\sciAbstractsProject_sortedDFs\\sortedPMIDs_from_22570867_to_22721703.csv (126/263)\n",
      "Parsing csv: E:\\sciAbstractsProject_sortedDFs\\sortedPMIDs_from_22721704_to_22866604.csv (127/263)\n"
     ]
    },
    {
     "name": "stderr",
     "output_type": "stream",
     "text": [
      "C:\\Users\\svalb\\AppData\\Local\\Temp\\ipykernel_21928\\2523766749.py:6: DtypeWarning: Columns (13,14,15) have mixed types. Specify dtype option on import or set low_memory=False.\n",
      "  dataframe_container.append(pd.read_csv(csv))\n"
     ]
    },
    {
     "name": "stdout",
     "output_type": "stream",
     "text": [
      "Parsing csv: E:\\sciAbstractsProject_sortedDFs\\sortedPMIDs_from_22866605_to_22994936.csv (128/263)\n",
      "Parsing csv: E:\\sciAbstractsProject_sortedDFs\\sortedPMIDs_from_22994937_to_23123461.csv (129/263)\n"
     ]
    },
    {
     "name": "stderr",
     "output_type": "stream",
     "text": [
      "C:\\Users\\svalb\\AppData\\Local\\Temp\\ipykernel_21928\\2523766749.py:6: DtypeWarning: Columns (13,14,15) have mixed types. Specify dtype option on import or set low_memory=False.\n",
      "  dataframe_container.append(pd.read_csv(csv))\n"
     ]
    },
    {
     "name": "stdout",
     "output_type": "stream",
     "text": [
      "Parsing csv: E:\\sciAbstractsProject_sortedDFs\\sortedPMIDs_from_23123462_to_23250427.csv (130/263)\n"
     ]
    },
    {
     "name": "stderr",
     "output_type": "stream",
     "text": [
      "C:\\Users\\svalb\\AppData\\Local\\Temp\\ipykernel_21928\\2523766749.py:6: DtypeWarning: Columns (13,14,15) have mixed types. Specify dtype option on import or set low_memory=False.\n",
      "  dataframe_container.append(pd.read_csv(csv))\n"
     ]
    },
    {
     "name": "stdout",
     "output_type": "stream",
     "text": [
      "Parsing csv: E:\\sciAbstractsProject_sortedDFs\\sortedPMIDs_from_23250428_to_23377586.csv (131/263)\n"
     ]
    },
    {
     "name": "stderr",
     "output_type": "stream",
     "text": [
      "C:\\Users\\svalb\\AppData\\Local\\Temp\\ipykernel_21928\\2523766749.py:6: DtypeWarning: Columns (13,14,15) have mixed types. Specify dtype option on import or set low_memory=False.\n",
      "  dataframe_container.append(pd.read_csv(csv))\n"
     ]
    },
    {
     "name": "stdout",
     "output_type": "stream",
     "text": [
      "Parsing csv: E:\\sciAbstractsProject_sortedDFs\\sortedPMIDs_from_23377587_to_23503903.csv (132/263)\n"
     ]
    },
    {
     "name": "stderr",
     "output_type": "stream",
     "text": [
      "C:\\Users\\svalb\\AppData\\Local\\Temp\\ipykernel_21928\\2523766749.py:6: DtypeWarning: Columns (13,14,15) have mixed types. Specify dtype option on import or set low_memory=False.\n",
      "  dataframe_container.append(pd.read_csv(csv))\n"
     ]
    },
    {
     "name": "stdout",
     "output_type": "stream",
     "text": [
      "Parsing csv: E:\\sciAbstractsProject_sortedDFs\\sortedPMIDs_from_23503904_to_23627536.csv (133/263)\n"
     ]
    },
    {
     "name": "stderr",
     "output_type": "stream",
     "text": [
      "C:\\Users\\svalb\\AppData\\Local\\Temp\\ipykernel_21928\\2523766749.py:6: DtypeWarning: Columns (13,14,15) have mixed types. Specify dtype option on import or set low_memory=False.\n",
      "  dataframe_container.append(pd.read_csv(csv))\n"
     ]
    },
    {
     "name": "stdout",
     "output_type": "stream",
     "text": [
      "Parsing csv: E:\\sciAbstractsProject_sortedDFs\\sortedPMIDs_from_23627537_to_23756616.csv (134/263)\n"
     ]
    },
    {
     "name": "stderr",
     "output_type": "stream",
     "text": [
      "C:\\Users\\svalb\\AppData\\Local\\Temp\\ipykernel_21928\\2523766749.py:6: DtypeWarning: Columns (13,14,15) have mixed types. Specify dtype option on import or set low_memory=False.\n",
      "  dataframe_container.append(pd.read_csv(csv))\n"
     ]
    },
    {
     "name": "stdout",
     "output_type": "stream",
     "text": [
      "Parsing csv: E:\\sciAbstractsProject_sortedDFs\\sortedPMIDs_from_23756617_to_23881548.csv (135/263)\n"
     ]
    },
    {
     "name": "stderr",
     "output_type": "stream",
     "text": [
      "C:\\Users\\svalb\\AppData\\Local\\Temp\\ipykernel_21928\\2523766749.py:6: DtypeWarning: Columns (13,14,15) have mixed types. Specify dtype option on import or set low_memory=False.\n",
      "  dataframe_container.append(pd.read_csv(csv))\n"
     ]
    },
    {
     "name": "stdout",
     "output_type": "stream",
     "text": [
      "Parsing csv: E:\\sciAbstractsProject_sortedDFs\\sortedPMIDs_from_23881549_to_24006474.csv (136/263)\n"
     ]
    },
    {
     "name": "stderr",
     "output_type": "stream",
     "text": [
      "C:\\Users\\svalb\\AppData\\Local\\Temp\\ipykernel_21928\\2523766749.py:6: DtypeWarning: Columns (13,14,15) have mixed types. Specify dtype option on import or set low_memory=False.\n",
      "  dataframe_container.append(pd.read_csv(csv))\n"
     ]
    },
    {
     "name": "stdout",
     "output_type": "stream",
     "text": [
      "Parsing csv: E:\\sciAbstractsProject_sortedDFs\\sortedPMIDs_from_24006476_to_24131880.csv (137/263)\n"
     ]
    },
    {
     "name": "stderr",
     "output_type": "stream",
     "text": [
      "C:\\Users\\svalb\\AppData\\Local\\Temp\\ipykernel_21928\\2523766749.py:6: DtypeWarning: Columns (13,14,15) have mixed types. Specify dtype option on import or set low_memory=False.\n",
      "  dataframe_container.append(pd.read_csv(csv))\n"
     ]
    },
    {
     "name": "stdout",
     "output_type": "stream",
     "text": [
      "Parsing csv: E:\\sciAbstractsProject_sortedDFs\\sortedPMIDs_from_24131881_to_24259578.csv (138/263)\n"
     ]
    },
    {
     "name": "stderr",
     "output_type": "stream",
     "text": [
      "C:\\Users\\svalb\\AppData\\Local\\Temp\\ipykernel_21928\\2523766749.py:6: DtypeWarning: Columns (13,14,15) have mixed types. Specify dtype option on import or set low_memory=False.\n",
      "  dataframe_container.append(pd.read_csv(csv))\n"
     ]
    },
    {
     "name": "stdout",
     "output_type": "stream",
     "text": [
      "Parsing csv: E:\\sciAbstractsProject_sortedDFs\\sortedPMIDs_from_24259579_to_24380674.csv (139/263)\n"
     ]
    },
    {
     "name": "stderr",
     "output_type": "stream",
     "text": [
      "C:\\Users\\svalb\\AppData\\Local\\Temp\\ipykernel_21928\\2523766749.py:6: DtypeWarning: Columns (13,14,15) have mixed types. Specify dtype option on import or set low_memory=False.\n",
      "  dataframe_container.append(pd.read_csv(csv))\n"
     ]
    },
    {
     "name": "stdout",
     "output_type": "stream",
     "text": [
      "Parsing csv: E:\\sciAbstractsProject_sortedDFs\\sortedPMIDs_from_24380675_to_24505235.csv (140/263)\n"
     ]
    },
    {
     "name": "stderr",
     "output_type": "stream",
     "text": [
      "C:\\Users\\svalb\\AppData\\Local\\Temp\\ipykernel_21928\\2523766749.py:6: DtypeWarning: Columns (13,14,15) have mixed types. Specify dtype option on import or set low_memory=False.\n",
      "  dataframe_container.append(pd.read_csv(csv))\n"
     ]
    },
    {
     "name": "stdout",
     "output_type": "stream",
     "text": [
      "Parsing csv: E:\\sciAbstractsProject_sortedDFs\\sortedPMIDs_from_24505236_to_24642344.csv (141/263)\n"
     ]
    },
    {
     "name": "stderr",
     "output_type": "stream",
     "text": [
      "C:\\Users\\svalb\\AppData\\Local\\Temp\\ipykernel_21928\\2523766749.py:6: DtypeWarning: Columns (13,14,15) have mixed types. Specify dtype option on import or set low_memory=False.\n",
      "  dataframe_container.append(pd.read_csv(csv))\n"
     ]
    },
    {
     "name": "stdout",
     "output_type": "stream",
     "text": [
      "Parsing csv: E:\\sciAbstractsProject_sortedDFs\\sortedPMIDs_from_24642345_to_24766522.csv (142/263)\n"
     ]
    },
    {
     "name": "stderr",
     "output_type": "stream",
     "text": [
      "C:\\Users\\svalb\\AppData\\Local\\Temp\\ipykernel_21928\\2523766749.py:6: DtypeWarning: Columns (13,14,15) have mixed types. Specify dtype option on import or set low_memory=False.\n",
      "  dataframe_container.append(pd.read_csv(csv))\n"
     ]
    },
    {
     "name": "stdout",
     "output_type": "stream",
     "text": [
      "Parsing csv: E:\\sciAbstractsProject_sortedDFs\\sortedPMIDs_from_24766523_to_24895995.csv (143/263)\n"
     ]
    },
    {
     "name": "stderr",
     "output_type": "stream",
     "text": [
      "C:\\Users\\svalb\\AppData\\Local\\Temp\\ipykernel_21928\\2523766749.py:6: DtypeWarning: Columns (13,14,15) have mixed types. Specify dtype option on import or set low_memory=False.\n",
      "  dataframe_container.append(pd.read_csv(csv))\n"
     ]
    },
    {
     "name": "stdout",
     "output_type": "stream",
     "text": [
      "Parsing csv: E:\\sciAbstractsProject_sortedDFs\\sortedPMIDs_from_24895996_to_25017864.csv (144/263)\n"
     ]
    },
    {
     "name": "stderr",
     "output_type": "stream",
     "text": [
      "C:\\Users\\svalb\\AppData\\Local\\Temp\\ipykernel_21928\\2523766749.py:6: DtypeWarning: Columns (13,14,15) have mixed types. Specify dtype option on import or set low_memory=False.\n",
      "  dataframe_container.append(pd.read_csv(csv))\n"
     ]
    },
    {
     "name": "stdout",
     "output_type": "stream",
     "text": [
      "Parsing csv: E:\\sciAbstractsProject_sortedDFs\\sortedPMIDs_from_25017865_to_25144995.csv (145/263)\n",
      "Parsing csv: E:\\sciAbstractsProject_sortedDFs\\sortedPMIDs_from_25144996_to_25269755.csv (146/263)\n"
     ]
    },
    {
     "name": "stderr",
     "output_type": "stream",
     "text": [
      "C:\\Users\\svalb\\AppData\\Local\\Temp\\ipykernel_21928\\2523766749.py:6: DtypeWarning: Columns (13,14,15) have mixed types. Specify dtype option on import or set low_memory=False.\n",
      "  dataframe_container.append(pd.read_csv(csv))\n"
     ]
    },
    {
     "name": "stdout",
     "output_type": "stream",
     "text": [
      "Parsing csv: E:\\sciAbstractsProject_sortedDFs\\sortedPMIDs_from_25269756_to_25394687.csv (147/263)\n",
      "Parsing csv: E:\\sciAbstractsProject_sortedDFs\\sortedPMIDs_from_25394688_to_25519010.csv (148/263)\n"
     ]
    },
    {
     "name": "stderr",
     "output_type": "stream",
     "text": [
      "C:\\Users\\svalb\\AppData\\Local\\Temp\\ipykernel_21928\\2523766749.py:6: DtypeWarning: Columns (13,14,15) have mixed types. Specify dtype option on import or set low_memory=False.\n",
      "  dataframe_container.append(pd.read_csv(csv))\n"
     ]
    },
    {
     "name": "stdout",
     "output_type": "stream",
     "text": [
      "Parsing csv: E:\\sciAbstractsProject_sortedDFs\\sortedPMIDs_from_25519011_to_25641365.csv (149/263)\n"
     ]
    },
    {
     "name": "stderr",
     "output_type": "stream",
     "text": [
      "C:\\Users\\svalb\\AppData\\Local\\Temp\\ipykernel_21928\\2523766749.py:6: DtypeWarning: Columns (13,14,15) have mixed types. Specify dtype option on import or set low_memory=False.\n",
      "  dataframe_container.append(pd.read_csv(csv))\n"
     ]
    },
    {
     "name": "stdout",
     "output_type": "stream",
     "text": [
      "Parsing csv: E:\\sciAbstractsProject_sortedDFs\\sortedPMIDs_from_25641366_to_25765183.csv (150/263)\n",
      "Parsing csv: E:\\sciAbstractsProject_sortedDFs\\sortedPMIDs_from_25765184_to_25888973.csv (151/263)\n"
     ]
    },
    {
     "name": "stderr",
     "output_type": "stream",
     "text": [
      "C:\\Users\\svalb\\AppData\\Local\\Temp\\ipykernel_21928\\2523766749.py:6: DtypeWarning: Columns (13,14,15) have mixed types. Specify dtype option on import or set low_memory=False.\n",
      "  dataframe_container.append(pd.read_csv(csv))\n"
     ]
    },
    {
     "name": "stdout",
     "output_type": "stream",
     "text": [
      "Parsing csv: E:\\sciAbstractsProject_sortedDFs\\sortedPMIDs_from_25888974_to_26014141.csv (152/263)\n"
     ]
    },
    {
     "name": "stderr",
     "output_type": "stream",
     "text": [
      "C:\\Users\\svalb\\AppData\\Local\\Temp\\ipykernel_21928\\2523766749.py:6: DtypeWarning: Columns (13,14,15) have mixed types. Specify dtype option on import or set low_memory=False.\n",
      "  dataframe_container.append(pd.read_csv(csv))\n"
     ]
    },
    {
     "name": "stdout",
     "output_type": "stream",
     "text": [
      "Parsing csv: E:\\sciAbstractsProject_sortedDFs\\sortedPMIDs_from_26014142_to_26138780.csv (153/263)\n"
     ]
    },
    {
     "name": "stderr",
     "output_type": "stream",
     "text": [
      "C:\\Users\\svalb\\AppData\\Local\\Temp\\ipykernel_21928\\2523766749.py:6: DtypeWarning: Columns (13,14,15) have mixed types. Specify dtype option on import or set low_memory=False.\n",
      "  dataframe_container.append(pd.read_csv(csv))\n"
     ]
    },
    {
     "name": "stdout",
     "output_type": "stream",
     "text": [
      "Parsing csv: E:\\sciAbstractsProject_sortedDFs\\sortedPMIDs_from_26138781_to_26261549.csv (154/263)\n"
     ]
    },
    {
     "name": "stderr",
     "output_type": "stream",
     "text": [
      "C:\\Users\\svalb\\AppData\\Local\\Temp\\ipykernel_21928\\2523766749.py:6: DtypeWarning: Columns (13,14,15) have mixed types. Specify dtype option on import or set low_memory=False.\n",
      "  dataframe_container.append(pd.read_csv(csv))\n"
     ]
    },
    {
     "name": "stdout",
     "output_type": "stream",
     "text": [
      "Parsing csv: E:\\sciAbstractsProject_sortedDFs\\sortedPMIDs_from_26261550_to_26384475.csv (155/263)\n"
     ]
    },
    {
     "name": "stderr",
     "output_type": "stream",
     "text": [
      "C:\\Users\\svalb\\AppData\\Local\\Temp\\ipykernel_21928\\2523766749.py:6: DtypeWarning: Columns (13,14,15) have mixed types. Specify dtype option on import or set low_memory=False.\n",
      "  dataframe_container.append(pd.read_csv(csv))\n"
     ]
    },
    {
     "name": "stdout",
     "output_type": "stream",
     "text": [
      "Parsing csv: E:\\sciAbstractsProject_sortedDFs\\sortedPMIDs_from_26384476_to_26506799.csv (156/263)\n"
     ]
    },
    {
     "name": "stderr",
     "output_type": "stream",
     "text": [
      "C:\\Users\\svalb\\AppData\\Local\\Temp\\ipykernel_21928\\2523766749.py:6: DtypeWarning: Columns (13,14,15) have mixed types. Specify dtype option on import or set low_memory=False.\n",
      "  dataframe_container.append(pd.read_csv(csv))\n"
     ]
    },
    {
     "name": "stdout",
     "output_type": "stream",
     "text": [
      "Parsing csv: E:\\sciAbstractsProject_sortedDFs\\sortedPMIDs_from_26506800_to_26632126.csv (157/263)\n"
     ]
    },
    {
     "name": "stderr",
     "output_type": "stream",
     "text": [
      "C:\\Users\\svalb\\AppData\\Local\\Temp\\ipykernel_21928\\2523766749.py:6: DtypeWarning: Columns (13,14,15) have mixed types. Specify dtype option on import or set low_memory=False.\n",
      "  dataframe_container.append(pd.read_csv(csv))\n"
     ]
    },
    {
     "name": "stdout",
     "output_type": "stream",
     "text": [
      "Parsing csv: E:\\sciAbstractsProject_sortedDFs\\sortedPMIDs_from_26632127_to_26762811.csv (158/263)\n"
     ]
    },
    {
     "name": "stderr",
     "output_type": "stream",
     "text": [
      "C:\\Users\\svalb\\AppData\\Local\\Temp\\ipykernel_21928\\2523766749.py:6: DtypeWarning: Columns (13,14,15) have mixed types. Specify dtype option on import or set low_memory=False.\n",
      "  dataframe_container.append(pd.read_csv(csv))\n"
     ]
    },
    {
     "name": "stdout",
     "output_type": "stream",
     "text": [
      "Parsing csv: E:\\sciAbstractsProject_sortedDFs\\sortedPMIDs_from_26762812_to_26888187.csv (159/263)\n"
     ]
    },
    {
     "name": "stderr",
     "output_type": "stream",
     "text": [
      "C:\\Users\\svalb\\AppData\\Local\\Temp\\ipykernel_21928\\2523766749.py:6: DtypeWarning: Columns (13,14,15) have mixed types. Specify dtype option on import or set low_memory=False.\n",
      "  dataframe_container.append(pd.read_csv(csv))\n"
     ]
    },
    {
     "name": "stdout",
     "output_type": "stream",
     "text": [
      "Parsing csv: E:\\sciAbstractsProject_sortedDFs\\sortedPMIDs_from_26888188_to_27011517.csv (160/263)\n",
      "Parsing csv: E:\\sciAbstractsProject_sortedDFs\\sortedPMIDs_from_27011518_to_27136750.csv (161/263)\n"
     ]
    },
    {
     "name": "stderr",
     "output_type": "stream",
     "text": [
      "C:\\Users\\svalb\\AppData\\Local\\Temp\\ipykernel_21928\\2523766749.py:6: DtypeWarning: Columns (13,14,15) have mixed types. Specify dtype option on import or set low_memory=False.\n",
      "  dataframe_container.append(pd.read_csv(csv))\n"
     ]
    },
    {
     "name": "stdout",
     "output_type": "stream",
     "text": [
      "Parsing csv: E:\\sciAbstractsProject_sortedDFs\\sortedPMIDs_from_27136751_to_27272211.csv (162/263)\n"
     ]
    },
    {
     "name": "stderr",
     "output_type": "stream",
     "text": [
      "C:\\Users\\svalb\\AppData\\Local\\Temp\\ipykernel_21928\\2523766749.py:6: DtypeWarning: Columns (13,14,15) have mixed types. Specify dtype option on import or set low_memory=False.\n",
      "  dataframe_container.append(pd.read_csv(csv))\n"
     ]
    },
    {
     "name": "stdout",
     "output_type": "stream",
     "text": [
      "Parsing csv: E:\\sciAbstractsProject_sortedDFs\\sortedPMIDs_from_27272212_to_27409084.csv (163/263)\n"
     ]
    },
    {
     "name": "stderr",
     "output_type": "stream",
     "text": [
      "C:\\Users\\svalb\\AppData\\Local\\Temp\\ipykernel_21928\\2523766749.py:6: DtypeWarning: Columns (13,14,15) have mixed types. Specify dtype option on import or set low_memory=False.\n",
      "  dataframe_container.append(pd.read_csv(csv))\n"
     ]
    },
    {
     "name": "stdout",
     "output_type": "stream",
     "text": [
      "Parsing csv: E:\\sciAbstractsProject_sortedDFs\\sortedPMIDs_from_27409086_to_27536419.csv (164/263)\n"
     ]
    },
    {
     "name": "stderr",
     "output_type": "stream",
     "text": [
      "C:\\Users\\svalb\\AppData\\Local\\Temp\\ipykernel_21928\\2523766749.py:6: DtypeWarning: Columns (13,14,15) have mixed types. Specify dtype option on import or set low_memory=False.\n",
      "  dataframe_container.append(pd.read_csv(csv))\n"
     ]
    },
    {
     "name": "stdout",
     "output_type": "stream",
     "text": [
      "Parsing csv: E:\\sciAbstractsProject_sortedDFs\\sortedPMIDs_from_27536420_to_27668603.csv (165/263)\n"
     ]
    },
    {
     "name": "stderr",
     "output_type": "stream",
     "text": [
      "C:\\Users\\svalb\\AppData\\Local\\Temp\\ipykernel_21928\\2523766749.py:6: DtypeWarning: Columns (13,14,15) have mixed types. Specify dtype option on import or set low_memory=False.\n",
      "  dataframe_container.append(pd.read_csv(csv))\n"
     ]
    },
    {
     "name": "stdout",
     "output_type": "stream",
     "text": [
      "Parsing csv: E:\\sciAbstractsProject_sortedDFs\\sortedPMIDs_from_27668604_to_27807551.csv (166/263)\n"
     ]
    },
    {
     "name": "stderr",
     "output_type": "stream",
     "text": [
      "C:\\Users\\svalb\\AppData\\Local\\Temp\\ipykernel_21928\\2523766749.py:6: DtypeWarning: Columns (13,14,15) have mixed types. Specify dtype option on import or set low_memory=False.\n",
      "  dataframe_container.append(pd.read_csv(csv))\n"
     ]
    },
    {
     "name": "stdout",
     "output_type": "stream",
     "text": [
      "Parsing csv: E:\\sciAbstractsProject_sortedDFs\\sortedPMIDs_from_27807552_to_27942692.csv (167/263)\n"
     ]
    },
    {
     "name": "stderr",
     "output_type": "stream",
     "text": [
      "C:\\Users\\svalb\\AppData\\Local\\Temp\\ipykernel_21928\\2523766749.py:6: DtypeWarning: Columns (13,14,15) have mixed types. Specify dtype option on import or set low_memory=False.\n",
      "  dataframe_container.append(pd.read_csv(csv))\n"
     ]
    },
    {
     "name": "stdout",
     "output_type": "stream",
     "text": [
      "Parsing csv: E:\\sciAbstractsProject_sortedDFs\\sortedPMIDs_from_27942693_to_28107795.csv (168/263)\n"
     ]
    },
    {
     "name": "stderr",
     "output_type": "stream",
     "text": [
      "C:\\Users\\svalb\\AppData\\Local\\Temp\\ipykernel_21928\\2523766749.py:6: DtypeWarning: Columns (13,14,15) have mixed types. Specify dtype option on import or set low_memory=False.\n",
      "  dataframe_container.append(pd.read_csv(csv))\n"
     ]
    },
    {
     "name": "stdout",
     "output_type": "stream",
     "text": [
      "Parsing csv: E:\\sciAbstractsProject_sortedDFs\\sortedPMIDs_from_28107796_to_28244825.csv (169/263)\n"
     ]
    },
    {
     "name": "stderr",
     "output_type": "stream",
     "text": [
      "C:\\Users\\svalb\\AppData\\Local\\Temp\\ipykernel_21928\\2523766749.py:6: DtypeWarning: Columns (13,14,15) have mixed types. Specify dtype option on import or set low_memory=False.\n",
      "  dataframe_container.append(pd.read_csv(csv))\n"
     ]
    },
    {
     "name": "stdout",
     "output_type": "stream",
     "text": [
      "Parsing csv: E:\\sciAbstractsProject_sortedDFs\\sortedPMIDs_from_28244827_to_28364785.csv (170/263)\n"
     ]
    },
    {
     "name": "stderr",
     "output_type": "stream",
     "text": [
      "C:\\Users\\svalb\\AppData\\Local\\Temp\\ipykernel_21928\\2523766749.py:6: DtypeWarning: Columns (13,14,15) have mixed types. Specify dtype option on import or set low_memory=False.\n",
      "  dataframe_container.append(pd.read_csv(csv))\n"
     ]
    },
    {
     "name": "stdout",
     "output_type": "stream",
     "text": [
      "Parsing csv: E:\\sciAbstractsProject_sortedDFs\\sortedPMIDs_from_28364786_to_28483742.csv (171/263)\n"
     ]
    },
    {
     "name": "stderr",
     "output_type": "stream",
     "text": [
      "C:\\Users\\svalb\\AppData\\Local\\Temp\\ipykernel_21928\\2523766749.py:6: DtypeWarning: Columns (13,14,15) have mixed types. Specify dtype option on import or set low_memory=False.\n",
      "  dataframe_container.append(pd.read_csv(csv))\n"
     ]
    },
    {
     "name": "stdout",
     "output_type": "stream",
     "text": [
      "Parsing csv: E:\\sciAbstractsProject_sortedDFs\\sortedPMIDs_from_28483743_to_28607348.csv (172/263)\n"
     ]
    },
    {
     "name": "stderr",
     "output_type": "stream",
     "text": [
      "C:\\Users\\svalb\\AppData\\Local\\Temp\\ipykernel_21928\\2523766749.py:6: DtypeWarning: Columns (13,14,15) have mixed types. Specify dtype option on import or set low_memory=False.\n",
      "  dataframe_container.append(pd.read_csv(csv))\n"
     ]
    },
    {
     "name": "stdout",
     "output_type": "stream",
     "text": [
      "Parsing csv: E:\\sciAbstractsProject_sortedDFs\\sortedPMIDs_from_28607349_to_28726631.csv (173/263)\n"
     ]
    },
    {
     "name": "stderr",
     "output_type": "stream",
     "text": [
      "C:\\Users\\svalb\\AppData\\Local\\Temp\\ipykernel_21928\\2523766749.py:6: DtypeWarning: Columns (13,14,15) have mixed types. Specify dtype option on import or set low_memory=False.\n",
      "  dataframe_container.append(pd.read_csv(csv))\n"
     ]
    },
    {
     "name": "stdout",
     "output_type": "stream",
     "text": [
      "Parsing csv: E:\\sciAbstractsProject_sortedDFs\\sortedPMIDs_from_28726632_to_28844425.csv (174/263)\n"
     ]
    },
    {
     "name": "stderr",
     "output_type": "stream",
     "text": [
      "C:\\Users\\svalb\\AppData\\Local\\Temp\\ipykernel_21928\\2523766749.py:6: DtypeWarning: Columns (13,14,15) have mixed types. Specify dtype option on import or set low_memory=False.\n",
      "  dataframe_container.append(pd.read_csv(csv))\n"
     ]
    },
    {
     "name": "stdout",
     "output_type": "stream",
     "text": [
      "Parsing csv: E:\\sciAbstractsProject_sortedDFs\\sortedPMIDs_from_28844426_to_28968184.csv (175/263)\n",
      "Parsing csv: E:\\sciAbstractsProject_sortedDFs\\sortedPMIDs_from_28968185_to_29107482.csv (176/263)\n",
      "Parsing csv: E:\\sciAbstractsProject_sortedDFs\\sortedPMIDs_from_29107483_to_29226465.csv (177/263)\n"
     ]
    },
    {
     "name": "stderr",
     "output_type": "stream",
     "text": [
      "C:\\Users\\svalb\\AppData\\Local\\Temp\\ipykernel_21928\\2523766749.py:6: DtypeWarning: Columns (13,14,15) have mixed types. Specify dtype option on import or set low_memory=False.\n",
      "  dataframe_container.append(pd.read_csv(csv))\n"
     ]
    },
    {
     "name": "stdout",
     "output_type": "stream",
     "text": [
      "Parsing csv: E:\\sciAbstractsProject_sortedDFs\\sortedPMIDs_from_29226466_to_29345692.csv (178/263)\n"
     ]
    },
    {
     "name": "stderr",
     "output_type": "stream",
     "text": [
      "C:\\Users\\svalb\\AppData\\Local\\Temp\\ipykernel_21928\\2523766749.py:6: DtypeWarning: Columns (13,14,15) have mixed types. Specify dtype option on import or set low_memory=False.\n",
      "  dataframe_container.append(pd.read_csv(csv))\n"
     ]
    },
    {
     "name": "stdout",
     "output_type": "stream",
     "text": [
      "Parsing csv: E:\\sciAbstractsProject_sortedDFs\\sortedPMIDs_from_29345693_to_29465776.csv (179/263)\n"
     ]
    },
    {
     "name": "stderr",
     "output_type": "stream",
     "text": [
      "C:\\Users\\svalb\\AppData\\Local\\Temp\\ipykernel_21928\\2523766749.py:6: DtypeWarning: Columns (13,14,15) have mixed types. Specify dtype option on import or set low_memory=False.\n",
      "  dataframe_container.append(pd.read_csv(csv))\n"
     ]
    },
    {
     "name": "stdout",
     "output_type": "stream",
     "text": [
      "Parsing csv: E:\\sciAbstractsProject_sortedDFs\\sortedPMIDs_from_29465777_to_29588221.csv (180/263)\n"
     ]
    },
    {
     "name": "stderr",
     "output_type": "stream",
     "text": [
      "C:\\Users\\svalb\\AppData\\Local\\Temp\\ipykernel_21928\\2523766749.py:6: DtypeWarning: Columns (13,14,15) have mixed types. Specify dtype option on import or set low_memory=False.\n",
      "  dataframe_container.append(pd.read_csv(csv))\n"
     ]
    },
    {
     "name": "stdout",
     "output_type": "stream",
     "text": [
      "Parsing csv: E:\\sciAbstractsProject_sortedDFs\\sortedPMIDs_from_29588222_to_29716877.csv (181/263)\n"
     ]
    },
    {
     "name": "stderr",
     "output_type": "stream",
     "text": [
      "C:\\Users\\svalb\\AppData\\Local\\Temp\\ipykernel_21928\\2523766749.py:6: DtypeWarning: Columns (13,14,15) have mixed types. Specify dtype option on import or set low_memory=False.\n",
      "  dataframe_container.append(pd.read_csv(csv))\n"
     ]
    },
    {
     "name": "stdout",
     "output_type": "stream",
     "text": [
      "Parsing csv: E:\\sciAbstractsProject_sortedDFs\\sortedPMIDs_from_29716878_to_29866605.csv (182/263)\n"
     ]
    },
    {
     "name": "stderr",
     "output_type": "stream",
     "text": [
      "C:\\Users\\svalb\\AppData\\Local\\Temp\\ipykernel_21928\\2523766749.py:6: DtypeWarning: Columns (13,14,15) have mixed types. Specify dtype option on import or set low_memory=False.\n",
      "  dataframe_container.append(pd.read_csv(csv))\n"
     ]
    },
    {
     "name": "stdout",
     "output_type": "stream",
     "text": [
      "Parsing csv: E:\\sciAbstractsProject_sortedDFs\\sortedPMIDs_from_29866608_to_29986549.csv (183/263)\n"
     ]
    },
    {
     "name": "stderr",
     "output_type": "stream",
     "text": [
      "C:\\Users\\svalb\\AppData\\Local\\Temp\\ipykernel_21928\\2523766749.py:6: DtypeWarning: Columns (13,14,15) have mixed types. Specify dtype option on import or set low_memory=False.\n",
      "  dataframe_container.append(pd.read_csv(csv))\n"
     ]
    },
    {
     "name": "stdout",
     "output_type": "stream",
     "text": [
      "Parsing csv: E:\\sciAbstractsProject_sortedDFs\\sortedPMIDs_from_29986550_to_30101999.csv (184/263)\n"
     ]
    },
    {
     "name": "stderr",
     "output_type": "stream",
     "text": [
      "C:\\Users\\svalb\\AppData\\Local\\Temp\\ipykernel_21928\\2523766749.py:6: DtypeWarning: Columns (13,14,15) have mixed types. Specify dtype option on import or set low_memory=False.\n",
      "  dataframe_container.append(pd.read_csv(csv))\n"
     ]
    },
    {
     "name": "stdout",
     "output_type": "stream",
     "text": [
      "Parsing csv: E:\\sciAbstractsProject_sortedDFs\\sortedPMIDs_from_30102000_to_30222467.csv (185/263)\n",
      "Parsing csv: E:\\sciAbstractsProject_sortedDFs\\sortedPMIDs_from_30222468_to_30342145.csv (186/263)\n"
     ]
    },
    {
     "name": "stderr",
     "output_type": "stream",
     "text": [
      "C:\\Users\\svalb\\AppData\\Local\\Temp\\ipykernel_21928\\2523766749.py:6: DtypeWarning: Columns (13,14,15) have mixed types. Specify dtype option on import or set low_memory=False.\n",
      "  dataframe_container.append(pd.read_csv(csv))\n"
     ]
    },
    {
     "name": "stdout",
     "output_type": "stream",
     "text": [
      "Parsing csv: E:\\sciAbstractsProject_sortedDFs\\sortedPMIDs_from_30342146_to_30467563.csv (187/263)\n"
     ]
    },
    {
     "name": "stderr",
     "output_type": "stream",
     "text": [
      "C:\\Users\\svalb\\AppData\\Local\\Temp\\ipykernel_21928\\2523766749.py:6: DtypeWarning: Columns (13,14,15) have mixed types. Specify dtype option on import or set low_memory=False.\n",
      "  dataframe_container.append(pd.read_csv(csv))\n"
     ]
    },
    {
     "name": "stdout",
     "output_type": "stream",
     "text": [
      "Parsing csv: E:\\sciAbstractsProject_sortedDFs\\sortedPMIDs_from_30467564_to_30590841.csv (188/263)\n",
      "Parsing csv: E:\\sciAbstractsProject_sortedDFs\\sortedPMIDs_from_30590842_to_30707836.csv (189/263)\n"
     ]
    },
    {
     "name": "stderr",
     "output_type": "stream",
     "text": [
      "C:\\Users\\svalb\\AppData\\Local\\Temp\\ipykernel_21928\\2523766749.py:6: DtypeWarning: Columns (13,14,15) have mixed types. Specify dtype option on import or set low_memory=False.\n",
      "  dataframe_container.append(pd.read_csv(csv))\n"
     ]
    },
    {
     "name": "stdout",
     "output_type": "stream",
     "text": [
      "Parsing csv: E:\\sciAbstractsProject_sortedDFs\\sortedPMIDs_from_30707837_to_30830532.csv (190/263)\n"
     ]
    },
    {
     "name": "stderr",
     "output_type": "stream",
     "text": [
      "C:\\Users\\svalb\\AppData\\Local\\Temp\\ipykernel_21928\\2523766749.py:6: DtypeWarning: Columns (13,14,15) have mixed types. Specify dtype option on import or set low_memory=False.\n",
      "  dataframe_container.append(pd.read_csv(csv))\n"
     ]
    },
    {
     "name": "stdout",
     "output_type": "stream",
     "text": [
      "Parsing csv: E:\\sciAbstractsProject_sortedDFs\\sortedPMIDs_from_30830533_to_30947100.csv (191/263)\n",
      "Parsing csv: E:\\sciAbstractsProject_sortedDFs\\sortedPMIDs_from_30947101_to_31064220.csv (192/263)\n",
      "Parsing csv: E:\\sciAbstractsProject_sortedDFs\\sortedPMIDs_from_31064221_to_31181132.csv (193/263)\n"
     ]
    },
    {
     "name": "stderr",
     "output_type": "stream",
     "text": [
      "C:\\Users\\svalb\\AppData\\Local\\Temp\\ipykernel_21928\\2523766749.py:6: DtypeWarning: Columns (13,14,15) have mixed types. Specify dtype option on import or set low_memory=False.\n",
      "  dataframe_container.append(pd.read_csv(csv))\n"
     ]
    },
    {
     "name": "stdout",
     "output_type": "stream",
     "text": [
      "Parsing csv: E:\\sciAbstractsProject_sortedDFs\\sortedPMIDs_from_31181133_to_31299081.csv (194/263)\n"
     ]
    },
    {
     "name": "stderr",
     "output_type": "stream",
     "text": [
      "C:\\Users\\svalb\\AppData\\Local\\Temp\\ipykernel_21928\\2523766749.py:6: DtypeWarning: Columns (13,14,15) have mixed types. Specify dtype option on import or set low_memory=False.\n",
      "  dataframe_container.append(pd.read_csv(csv))\n"
     ]
    },
    {
     "name": "stdout",
     "output_type": "stream",
     "text": [
      "Parsing csv: E:\\sciAbstractsProject_sortedDFs\\sortedPMIDs_from_31299082_to_31415998.csv (195/263)\n",
      "Parsing csv: E:\\sciAbstractsProject_sortedDFs\\sortedPMIDs_from_31415999_to_31531025.csv (196/263)\n"
     ]
    },
    {
     "name": "stderr",
     "output_type": "stream",
     "text": [
      "C:\\Users\\svalb\\AppData\\Local\\Temp\\ipykernel_21928\\2523766749.py:6: DtypeWarning: Columns (13,14,15) have mixed types. Specify dtype option on import or set low_memory=False.\n",
      "  dataframe_container.append(pd.read_csv(csv))\n"
     ]
    },
    {
     "name": "stdout",
     "output_type": "stream",
     "text": [
      "Parsing csv: E:\\sciAbstractsProject_sortedDFs\\sortedPMIDs_from_31531026_to_31648043.csv (197/263)\n",
      "Parsing csv: E:\\sciAbstractsProject_sortedDFs\\sortedPMIDs_from_31648044_to_31763845.csv (198/263)\n"
     ]
    },
    {
     "name": "stderr",
     "output_type": "stream",
     "text": [
      "C:\\Users\\svalb\\AppData\\Local\\Temp\\ipykernel_21928\\2523766749.py:6: DtypeWarning: Columns (13,14,15) have mixed types. Specify dtype option on import or set low_memory=False.\n",
      "  dataframe_container.append(pd.read_csv(csv))\n"
     ]
    },
    {
     "name": "stdout",
     "output_type": "stream",
     "text": [
      "Parsing csv: E:\\sciAbstractsProject_sortedDFs\\sortedPMIDs_from_31763846_to_31879586.csv (199/263)\n"
     ]
    },
    {
     "name": "stderr",
     "output_type": "stream",
     "text": [
      "C:\\Users\\svalb\\AppData\\Local\\Temp\\ipykernel_21928\\2523766749.py:6: DtypeWarning: Columns (13,14,15) have mixed types. Specify dtype option on import or set low_memory=False.\n",
      "  dataframe_container.append(pd.read_csv(csv))\n"
     ]
    },
    {
     "name": "stdout",
     "output_type": "stream",
     "text": [
      "Parsing csv: E:\\sciAbstractsProject_sortedDFs\\sortedPMIDs_from_31879587_to_31996529.csv (200/263)\n"
     ]
    },
    {
     "name": "stderr",
     "output_type": "stream",
     "text": [
      "C:\\Users\\svalb\\AppData\\Local\\Temp\\ipykernel_21928\\2523766749.py:6: DtypeWarning: Columns (13,14,15) have mixed types. Specify dtype option on import or set low_memory=False.\n",
      "  dataframe_container.append(pd.read_csv(csv))\n"
     ]
    },
    {
     "name": "stdout",
     "output_type": "stream",
     "text": [
      "Parsing csv: E:\\sciAbstractsProject_sortedDFs\\sortedPMIDs_from_31996530_to_32115136.csv (201/263)\n"
     ]
    },
    {
     "name": "stderr",
     "output_type": "stream",
     "text": [
      "C:\\Users\\svalb\\AppData\\Local\\Temp\\ipykernel_21928\\2523766749.py:6: DtypeWarning: Columns (13,14,15) have mixed types. Specify dtype option on import or set low_memory=False.\n",
      "  dataframe_container.append(pd.read_csv(csv))\n"
     ]
    },
    {
     "name": "stdout",
     "output_type": "stream",
     "text": [
      "Parsing csv: E:\\sciAbstractsProject_sortedDFs\\sortedPMIDs_from_32115137_to_32235641.csv (202/263)\n"
     ]
    },
    {
     "name": "stderr",
     "output_type": "stream",
     "text": [
      "C:\\Users\\svalb\\AppData\\Local\\Temp\\ipykernel_21928\\2523766749.py:6: DtypeWarning: Columns (13,14,15) have mixed types. Specify dtype option on import or set low_memory=False.\n",
      "  dataframe_container.append(pd.read_csv(csv))\n"
     ]
    },
    {
     "name": "stdout",
     "output_type": "stream",
     "text": [
      "Parsing csv: E:\\sciAbstractsProject_sortedDFs\\sortedPMIDs_from_32235642_to_32353697.csv (203/263)\n",
      "Parsing csv: E:\\sciAbstractsProject_sortedDFs\\sortedPMIDs_from_32353699_to_32475237.csv (204/263)\n"
     ]
    },
    {
     "name": "stderr",
     "output_type": "stream",
     "text": [
      "C:\\Users\\svalb\\AppData\\Local\\Temp\\ipykernel_21928\\2523766749.py:6: DtypeWarning: Columns (13,14,15) have mixed types. Specify dtype option on import or set low_memory=False.\n",
      "  dataframe_container.append(pd.read_csv(csv))\n"
     ]
    },
    {
     "name": "stdout",
     "output_type": "stream",
     "text": [
      "Parsing csv: E:\\sciAbstractsProject_sortedDFs\\sortedPMIDs_from_32475239_to_32593216.csv (205/263)\n"
     ]
    },
    {
     "name": "stderr",
     "output_type": "stream",
     "text": [
      "C:\\Users\\svalb\\AppData\\Local\\Temp\\ipykernel_21928\\2523766749.py:6: DtypeWarning: Columns (13,14,15) have mixed types. Specify dtype option on import or set low_memory=False.\n",
      "  dataframe_container.append(pd.read_csv(csv))\n"
     ]
    },
    {
     "name": "stdout",
     "output_type": "stream",
     "text": [
      "Parsing csv: E:\\sciAbstractsProject_sortedDFs\\sortedPMIDs_from_32593217_to_32710152.csv (206/263)\n"
     ]
    },
    {
     "name": "stderr",
     "output_type": "stream",
     "text": [
      "C:\\Users\\svalb\\AppData\\Local\\Temp\\ipykernel_21928\\2523766749.py:6: DtypeWarning: Columns (13,14,15) have mixed types. Specify dtype option on import or set low_memory=False.\n",
      "  dataframe_container.append(pd.read_csv(csv))\n"
     ]
    },
    {
     "name": "stdout",
     "output_type": "stream",
     "text": [
      "Parsing csv: E:\\sciAbstractsProject_sortedDFs\\sortedPMIDs_from_32710153_to_32826186.csv (207/263)\n"
     ]
    },
    {
     "name": "stderr",
     "output_type": "stream",
     "text": [
      "C:\\Users\\svalb\\AppData\\Local\\Temp\\ipykernel_21928\\2523766749.py:6: DtypeWarning: Columns (13,14,15) have mixed types. Specify dtype option on import or set low_memory=False.\n",
      "  dataframe_container.append(pd.read_csv(csv))\n"
     ]
    },
    {
     "name": "stdout",
     "output_type": "stream",
     "text": [
      "Parsing csv: E:\\sciAbstractsProject_sortedDFs\\sortedPMIDs_from_32826187_to_32943588.csv (208/263)\n"
     ]
    },
    {
     "name": "stderr",
     "output_type": "stream",
     "text": [
      "C:\\Users\\svalb\\AppData\\Local\\Temp\\ipykernel_21928\\2523766749.py:6: DtypeWarning: Columns (13,14,15) have mixed types. Specify dtype option on import or set low_memory=False.\n",
      "  dataframe_container.append(pd.read_csv(csv))\n"
     ]
    },
    {
     "name": "stdout",
     "output_type": "stream",
     "text": [
      "Parsing csv: E:\\sciAbstractsProject_sortedDFs\\sortedPMIDs_from_32943589_to_33059269.csv (209/263)\n"
     ]
    },
    {
     "name": "stderr",
     "output_type": "stream",
     "text": [
      "C:\\Users\\svalb\\AppData\\Local\\Temp\\ipykernel_21928\\2523766749.py:6: DtypeWarning: Columns (13,14,15) have mixed types. Specify dtype option on import or set low_memory=False.\n",
      "  dataframe_container.append(pd.read_csv(csv))\n"
     ]
    },
    {
     "name": "stdout",
     "output_type": "stream",
     "text": [
      "Parsing csv: E:\\sciAbstractsProject_sortedDFs\\sortedPMIDs_from_33059270_to_33174454.csv (210/263)\n"
     ]
    },
    {
     "name": "stderr",
     "output_type": "stream",
     "text": [
      "C:\\Users\\svalb\\AppData\\Local\\Temp\\ipykernel_21928\\2523766749.py:6: DtypeWarning: Columns (13,14,15) have mixed types. Specify dtype option on import or set low_memory=False.\n",
      "  dataframe_container.append(pd.read_csv(csv))\n"
     ]
    },
    {
     "name": "stdout",
     "output_type": "stream",
     "text": [
      "Parsing csv: E:\\sciAbstractsProject_sortedDFs\\sortedPMIDs_from_33174455_to_33289686.csv (211/263)\n"
     ]
    },
    {
     "name": "stderr",
     "output_type": "stream",
     "text": [
      "C:\\Users\\svalb\\AppData\\Local\\Temp\\ipykernel_21928\\2523766749.py:6: DtypeWarning: Columns (13,14,15) have mixed types. Specify dtype option on import or set low_memory=False.\n",
      "  dataframe_container.append(pd.read_csv(csv))\n"
     ]
    },
    {
     "name": "stdout",
     "output_type": "stream",
     "text": [
      "Parsing csv: E:\\sciAbstractsProject_sortedDFs\\sortedPMIDs_from_33289687_to_33404193.csv (212/263)\n"
     ]
    },
    {
     "name": "stderr",
     "output_type": "stream",
     "text": [
      "C:\\Users\\svalb\\AppData\\Local\\Temp\\ipykernel_21928\\2523766749.py:6: DtypeWarning: Columns (13,14,15) have mixed types. Specify dtype option on import or set low_memory=False.\n",
      "  dataframe_container.append(pd.read_csv(csv))\n"
     ]
    },
    {
     "name": "stdout",
     "output_type": "stream",
     "text": [
      "Parsing csv: E:\\sciAbstractsProject_sortedDFs\\sortedPMIDs_from_33404195_to_33519695.csv (213/263)\n"
     ]
    },
    {
     "name": "stderr",
     "output_type": "stream",
     "text": [
      "C:\\Users\\svalb\\AppData\\Local\\Temp\\ipykernel_21928\\2523766749.py:6: DtypeWarning: Columns (13,14,15) have mixed types. Specify dtype option on import or set low_memory=False.\n",
      "  dataframe_container.append(pd.read_csv(csv))\n"
     ]
    },
    {
     "name": "stdout",
     "output_type": "stream",
     "text": [
      "Parsing csv: E:\\sciAbstractsProject_sortedDFs\\sortedPMIDs_from_33519696_to_33637035.csv (214/263)\n"
     ]
    },
    {
     "name": "stderr",
     "output_type": "stream",
     "text": [
      "C:\\Users\\svalb\\AppData\\Local\\Temp\\ipykernel_21928\\2523766749.py:6: DtypeWarning: Columns (13,14,15) have mixed types. Specify dtype option on import or set low_memory=False.\n",
      "  dataframe_container.append(pd.read_csv(csv))\n"
     ]
    },
    {
     "name": "stdout",
     "output_type": "stream",
     "text": [
      "Parsing csv: E:\\sciAbstractsProject_sortedDFs\\sortedPMIDs_from_33637036_to_33762189.csv (215/263)\n",
      "Parsing csv: E:\\sciAbstractsProject_sortedDFs\\sortedPMIDs_from_33762190_to_33876836.csv (216/263)\n"
     ]
    },
    {
     "name": "stderr",
     "output_type": "stream",
     "text": [
      "C:\\Users\\svalb\\AppData\\Local\\Temp\\ipykernel_21928\\2523766749.py:6: DtypeWarning: Columns (13,14,15) have mixed types. Specify dtype option on import or set low_memory=False.\n",
      "  dataframe_container.append(pd.read_csv(csv))\n"
     ]
    },
    {
     "name": "stdout",
     "output_type": "stream",
     "text": [
      "Parsing csv: E:\\sciAbstractsProject_sortedDFs\\sortedPMIDs_from_33876837_to_33995145.csv (217/263)\n"
     ]
    },
    {
     "name": "stderr",
     "output_type": "stream",
     "text": [
      "C:\\Users\\svalb\\AppData\\Local\\Temp\\ipykernel_21928\\2523766749.py:6: DtypeWarning: Columns (13,14,15) have mixed types. Specify dtype option on import or set low_memory=False.\n",
      "  dataframe_container.append(pd.read_csv(csv))\n"
     ]
    },
    {
     "name": "stdout",
     "output_type": "stream",
     "text": [
      "Parsing csv: E:\\sciAbstractsProject_sortedDFs\\sortedPMIDs_from_33995146_to_34111082.csv (218/263)\n",
      "Parsing csv: E:\\sciAbstractsProject_sortedDFs\\sortedPMIDs_from_34111083_to_34225102.csv (219/263)\n"
     ]
    },
    {
     "name": "stderr",
     "output_type": "stream",
     "text": [
      "C:\\Users\\svalb\\AppData\\Local\\Temp\\ipykernel_21928\\2523766749.py:6: DtypeWarning: Columns (13,14,15) have mixed types. Specify dtype option on import or set low_memory=False.\n",
      "  dataframe_container.append(pd.read_csv(csv))\n"
     ]
    },
    {
     "name": "stdout",
     "output_type": "stream",
     "text": [
      "Parsing csv: E:\\sciAbstractsProject_sortedDFs\\sortedPMIDs_from_34225103_to_34340817.csv (220/263)\n",
      "Parsing csv: E:\\sciAbstractsProject_sortedDFs\\sortedPMIDs_from_34340820_to_34455088.csv (221/263)\n"
     ]
    },
    {
     "name": "stderr",
     "output_type": "stream",
     "text": [
      "C:\\Users\\svalb\\AppData\\Local\\Temp\\ipykernel_21928\\2523766749.py:6: DtypeWarning: Columns (13,14,15) have mixed types. Specify dtype option on import or set low_memory=False.\n",
      "  dataframe_container.append(pd.read_csv(csv))\n"
     ]
    },
    {
     "name": "stdout",
     "output_type": "stream",
     "text": [
      "Parsing csv: E:\\sciAbstractsProject_sortedDFs\\sortedPMIDs_from_34455089_to_34570231.csv (222/263)\n"
     ]
    },
    {
     "name": "stderr",
     "output_type": "stream",
     "text": [
      "C:\\Users\\svalb\\AppData\\Local\\Temp\\ipykernel_21928\\2523766749.py:6: DtypeWarning: Columns (13,14,15) have mixed types. Specify dtype option on import or set low_memory=False.\n",
      "  dataframe_container.append(pd.read_csv(csv))\n"
     ]
    },
    {
     "name": "stdout",
     "output_type": "stream",
     "text": [
      "Parsing csv: E:\\sciAbstractsProject_sortedDFs\\sortedPMIDs_from_34570232_to_34683810.csv (223/263)\n"
     ]
    },
    {
     "name": "stderr",
     "output_type": "stream",
     "text": [
      "C:\\Users\\svalb\\AppData\\Local\\Temp\\ipykernel_21928\\2523766749.py:6: DtypeWarning: Columns (13,14,15) have mixed types. Specify dtype option on import or set low_memory=False.\n",
      "  dataframe_container.append(pd.read_csv(csv))\n"
     ]
    },
    {
     "name": "stdout",
     "output_type": "stream",
     "text": [
      "Parsing csv: E:\\sciAbstractsProject_sortedDFs\\sortedPMIDs_from_34683811_to_34800142.csv (224/263)\n"
     ]
    },
    {
     "name": "stderr",
     "output_type": "stream",
     "text": [
      "C:\\Users\\svalb\\AppData\\Local\\Temp\\ipykernel_21928\\2523766749.py:6: DtypeWarning: Columns (13,14,15) have mixed types. Specify dtype option on import or set low_memory=False.\n",
      "  dataframe_container.append(pd.read_csv(csv))\n"
     ]
    },
    {
     "name": "stdout",
     "output_type": "stream",
     "text": [
      "Parsing csv: E:\\sciAbstractsProject_sortedDFs\\sortedPMIDs_from_34800143_to_34913106.csv (225/263)\n"
     ]
    },
    {
     "name": "stderr",
     "output_type": "stream",
     "text": [
      "C:\\Users\\svalb\\AppData\\Local\\Temp\\ipykernel_21928\\2523766749.py:6: DtypeWarning: Columns (13,14,15) have mixed types. Specify dtype option on import or set low_memory=False.\n",
      "  dataframe_container.append(pd.read_csv(csv))\n"
     ]
    },
    {
     "name": "stdout",
     "output_type": "stream",
     "text": [
      "Parsing csv: E:\\sciAbstractsProject_sortedDFs\\sortedPMIDs_from_34913107_to_35026238.csv (226/263)\n"
     ]
    },
    {
     "name": "stderr",
     "output_type": "stream",
     "text": [
      "C:\\Users\\svalb\\AppData\\Local\\Temp\\ipykernel_21928\\2523766749.py:6: DtypeWarning: Columns (13,14,15) have mixed types. Specify dtype option on import or set low_memory=False.\n",
      "  dataframe_container.append(pd.read_csv(csv))\n"
     ]
    },
    {
     "name": "stdout",
     "output_type": "stream",
     "text": [
      "Parsing csv: E:\\sciAbstractsProject_sortedDFs\\sortedPMIDs_from_35026239_to_35141510.csv (227/263)\n"
     ]
    },
    {
     "name": "stderr",
     "output_type": "stream",
     "text": [
      "C:\\Users\\svalb\\AppData\\Local\\Temp\\ipykernel_21928\\2523766749.py:6: DtypeWarning: Columns (13,14,15) have mixed types. Specify dtype option on import or set low_memory=False.\n",
      "  dataframe_container.append(pd.read_csv(csv))\n"
     ]
    },
    {
     "name": "stdout",
     "output_type": "stream",
     "text": [
      "Parsing csv: E:\\sciAbstractsProject_sortedDFs\\sortedPMIDs_from_35141511_to_35254994.csv (228/263)\n",
      "Parsing csv: E:\\sciAbstractsProject_sortedDFs\\sortedPMIDs_from_35254995_to_35369120.csv (229/263)\n"
     ]
    },
    {
     "name": "stderr",
     "output_type": "stream",
     "text": [
      "C:\\Users\\svalb\\AppData\\Local\\Temp\\ipykernel_21928\\2523766749.py:6: DtypeWarning: Columns (13,14,15) have mixed types. Specify dtype option on import or set low_memory=False.\n",
      "  dataframe_container.append(pd.read_csv(csv))\n"
     ]
    },
    {
     "name": "stdout",
     "output_type": "stream",
     "text": [
      "Parsing csv: E:\\sciAbstractsProject_sortedDFs\\sortedPMIDs_from_35369121_to_35484669.csv (230/263)\n"
     ]
    },
    {
     "name": "stderr",
     "output_type": "stream",
     "text": [
      "C:\\Users\\svalb\\AppData\\Local\\Temp\\ipykernel_21928\\2523766749.py:6: DtypeWarning: Columns (13,14,15) have mixed types. Specify dtype option on import or set low_memory=False.\n",
      "  dataframe_container.append(pd.read_csv(csv))\n"
     ]
    },
    {
     "name": "stdout",
     "output_type": "stream",
     "text": [
      "Parsing csv: E:\\sciAbstractsProject_sortedDFs\\sortedPMIDs_from_35484670_to_35602188.csv (231/263)\n"
     ]
    },
    {
     "name": "stderr",
     "output_type": "stream",
     "text": [
      "C:\\Users\\svalb\\AppData\\Local\\Temp\\ipykernel_21928\\2523766749.py:6: DtypeWarning: Columns (13,14,15) have mixed types. Specify dtype option on import or set low_memory=False.\n",
      "  dataframe_container.append(pd.read_csv(csv))\n"
     ]
    },
    {
     "name": "stdout",
     "output_type": "stream",
     "text": [
      "Parsing csv: E:\\sciAbstractsProject_sortedDFs\\sortedPMIDs_from_35602189_to_35715135.csv (232/263)\n"
     ]
    },
    {
     "name": "stderr",
     "output_type": "stream",
     "text": [
      "C:\\Users\\svalb\\AppData\\Local\\Temp\\ipykernel_21928\\2523766749.py:6: DtypeWarning: Columns (13,14,15) have mixed types. Specify dtype option on import or set low_memory=False.\n",
      "  dataframe_container.append(pd.read_csv(csv))\n"
     ]
    },
    {
     "name": "stdout",
     "output_type": "stream",
     "text": [
      "Parsing csv: E:\\sciAbstractsProject_sortedDFs\\sortedPMIDs_from_35715136_to_35834540.csv (233/263)\n"
     ]
    },
    {
     "name": "stderr",
     "output_type": "stream",
     "text": [
      "C:\\Users\\svalb\\AppData\\Local\\Temp\\ipykernel_21928\\2523766749.py:6: DtypeWarning: Columns (13,14,15) have mixed types. Specify dtype option on import or set low_memory=False.\n",
      "  dataframe_container.append(pd.read_csv(csv))\n"
     ]
    },
    {
     "name": "stdout",
     "output_type": "stream",
     "text": [
      "Parsing csv: E:\\sciAbstractsProject_sortedDFs\\sortedPMIDs_from_35834541_to_35947556.csv (234/263)\n"
     ]
    },
    {
     "name": "stderr",
     "output_type": "stream",
     "text": [
      "C:\\Users\\svalb\\AppData\\Local\\Temp\\ipykernel_21928\\2523766749.py:6: DtypeWarning: Columns (13,14,15) have mixed types. Specify dtype option on import or set low_memory=False.\n",
      "  dataframe_container.append(pd.read_csv(csv))\n"
     ]
    },
    {
     "name": "stdout",
     "output_type": "stream",
     "text": [
      "Parsing csv: E:\\sciAbstractsProject_sortedDFs\\sortedPMIDs_from_35947557_to_36068603.csv (235/263)\n",
      "Parsing csv: E:\\sciAbstractsProject_sortedDFs\\sortedPMIDs_from_36068605_to_36181048.csv (236/263)\n"
     ]
    },
    {
     "name": "stderr",
     "output_type": "stream",
     "text": [
      "C:\\Users\\svalb\\AppData\\Local\\Temp\\ipykernel_21928\\2523766749.py:6: DtypeWarning: Columns (13,14,15) have mixed types. Specify dtype option on import or set low_memory=False.\n",
      "  dataframe_container.append(pd.read_csv(csv))\n"
     ]
    },
    {
     "name": "stdout",
     "output_type": "stream",
     "text": [
      "Parsing csv: E:\\sciAbstractsProject_sortedDFs\\sortedPMIDs_from_36181049_to_36293987.csv (237/263)\n"
     ]
    },
    {
     "name": "stderr",
     "output_type": "stream",
     "text": [
      "C:\\Users\\svalb\\AppData\\Local\\Temp\\ipykernel_21928\\2523766749.py:6: DtypeWarning: Columns (13,14,15) have mixed types. Specify dtype option on import or set low_memory=False.\n",
      "  dataframe_container.append(pd.read_csv(csv))\n"
     ]
    },
    {
     "name": "stdout",
     "output_type": "stream",
     "text": [
      "Parsing csv: E:\\sciAbstractsProject_sortedDFs\\sortedPMIDs_from_36293988_to_36410324.csv (238/263)\n",
      "Parsing csv: E:\\sciAbstractsProject_sortedDFs\\sortedPMIDs_from_36410325_to_36531601.csv (239/263)\n"
     ]
    },
    {
     "name": "stderr",
     "output_type": "stream",
     "text": [
      "C:\\Users\\svalb\\AppData\\Local\\Temp\\ipykernel_21928\\2523766749.py:6: DtypeWarning: Columns (13,14,15) have mixed types. Specify dtype option on import or set low_memory=False.\n",
      "  dataframe_container.append(pd.read_csv(csv))\n"
     ]
    },
    {
     "name": "stdout",
     "output_type": "stream",
     "text": [
      "Parsing csv: E:\\sciAbstractsProject_sortedDFs\\sortedPMIDs_from_36531602_to_36643858.csv (240/263)\n"
     ]
    },
    {
     "name": "stderr",
     "output_type": "stream",
     "text": [
      "C:\\Users\\svalb\\AppData\\Local\\Temp\\ipykernel_21928\\2523766749.py:6: DtypeWarning: Columns (13,14,15) have mixed types. Specify dtype option on import or set low_memory=False.\n",
      "  dataframe_container.append(pd.read_csv(csv))\n"
     ]
    },
    {
     "name": "stdout",
     "output_type": "stream",
     "text": [
      "Parsing csv: E:\\sciAbstractsProject_sortedDFs\\sortedPMIDs_from_36643859_to_36763969.csv (241/263)\n"
     ]
    },
    {
     "name": "stderr",
     "output_type": "stream",
     "text": [
      "C:\\Users\\svalb\\AppData\\Local\\Temp\\ipykernel_21928\\2523766749.py:6: DtypeWarning: Columns (13,14,15) have mixed types. Specify dtype option on import or set low_memory=False.\n",
      "  dataframe_container.append(pd.read_csv(csv))\n"
     ]
    },
    {
     "name": "stdout",
     "output_type": "stream",
     "text": [
      "Parsing csv: E:\\sciAbstractsProject_sortedDFs\\sortedPMIDs_from_36763970_to_36879301.csv (242/263)\n",
      "Parsing csv: E:\\sciAbstractsProject_sortedDFs\\sortedPMIDs_from_36879302_to_37001416.csv (243/263)\n"
     ]
    },
    {
     "name": "stderr",
     "output_type": "stream",
     "text": [
      "C:\\Users\\svalb\\AppData\\Local\\Temp\\ipykernel_21928\\2523766749.py:6: DtypeWarning: Columns (13,14,15) have mixed types. Specify dtype option on import or set low_memory=False.\n",
      "  dataframe_container.append(pd.read_csv(csv))\n"
     ]
    },
    {
     "name": "stdout",
     "output_type": "stream",
     "text": [
      "Parsing csv: E:\\sciAbstractsProject_sortedDFs\\sortedPMIDs_from_37001417_to_37116135.csv (244/263)\n"
     ]
    },
    {
     "name": "stderr",
     "output_type": "stream",
     "text": [
      "C:\\Users\\svalb\\AppData\\Local\\Temp\\ipykernel_21928\\2523766749.py:6: DtypeWarning: Columns (13,14,15) have mixed types. Specify dtype option on import or set low_memory=False.\n",
      "  dataframe_container.append(pd.read_csv(csv))\n"
     ]
    },
    {
     "name": "stdout",
     "output_type": "stream",
     "text": [
      "Parsing csv: E:\\sciAbstractsProject_sortedDFs\\sortedPMIDs_from_37116136_to_37234181.csv (245/263)\n"
     ]
    },
    {
     "name": "stderr",
     "output_type": "stream",
     "text": [
      "C:\\Users\\svalb\\AppData\\Local\\Temp\\ipykernel_21928\\2523766749.py:6: DtypeWarning: Columns (13,14,15) have mixed types. Specify dtype option on import or set low_memory=False.\n",
      "  dataframe_container.append(pd.read_csv(csv))\n"
     ]
    },
    {
     "name": "stdout",
     "output_type": "stream",
     "text": [
      "Parsing csv: E:\\sciAbstractsProject_sortedDFs\\sortedPMIDs_from_37234182_to_37349849.csv (246/263)\n",
      "Parsing csv: E:\\sciAbstractsProject_sortedDFs\\sortedPMIDs_from_37349850_to_37464925.csv (247/263)\n",
      "Parsing csv: E:\\sciAbstractsProject_sortedDFs\\sortedPMIDs_from_37464927_to_37580759.csv (248/263)\n",
      "Parsing csv: E:\\sciAbstractsProject_sortedDFs\\sortedPMIDs_from_37580760_to_37700386.csv (249/263)\n"
     ]
    },
    {
     "name": "stderr",
     "output_type": "stream",
     "text": [
      "C:\\Users\\svalb\\AppData\\Local\\Temp\\ipykernel_21928\\2523766749.py:6: DtypeWarning: Columns (13,14,15) have mixed types. Specify dtype option on import or set low_memory=False.\n",
      "  dataframe_container.append(pd.read_csv(csv))\n"
     ]
    },
    {
     "name": "stdout",
     "output_type": "stream",
     "text": [
      "Parsing csv: E:\\sciAbstractsProject_sortedDFs\\sortedPMIDs_from_37700387_to_37818538.csv (250/263)\n"
     ]
    },
    {
     "name": "stderr",
     "output_type": "stream",
     "text": [
      "C:\\Users\\svalb\\AppData\\Local\\Temp\\ipykernel_21928\\2523766749.py:6: DtypeWarning: Columns (13,14,15) have mixed types. Specify dtype option on import or set low_memory=False.\n",
      "  dataframe_container.append(pd.read_csv(csv))\n"
     ]
    },
    {
     "name": "stdout",
     "output_type": "stream",
     "text": [
      "Parsing csv: E:\\sciAbstractsProject_sortedDFs\\sortedPMIDs_from_37818539_to_37937190.csv (251/263)\n"
     ]
    },
    {
     "name": "stderr",
     "output_type": "stream",
     "text": [
      "C:\\Users\\svalb\\AppData\\Local\\Temp\\ipykernel_21928\\2523766749.py:6: DtypeWarning: Columns (13,14,15) have mixed types. Specify dtype option on import or set low_memory=False.\n",
      "  dataframe_container.append(pd.read_csv(csv))\n"
     ]
    },
    {
     "name": "stdout",
     "output_type": "stream",
     "text": [
      "Parsing csv: E:\\sciAbstractsProject_sortedDFs\\sortedPMIDs_from_37937191_to_38050944.csv (252/263)\n"
     ]
    },
    {
     "name": "stderr",
     "output_type": "stream",
     "text": [
      "C:\\Users\\svalb\\AppData\\Local\\Temp\\ipykernel_21928\\2523766749.py:6: DtypeWarning: Columns (13,14,15) have mixed types. Specify dtype option on import or set low_memory=False.\n",
      "  dataframe_container.append(pd.read_csv(csv))\n"
     ]
    },
    {
     "name": "stdout",
     "output_type": "stream",
     "text": [
      "Parsing csv: E:\\sciAbstractsProject_sortedDFs\\sortedPMIDs_from_38050945_to_38169750.csv (253/263)\n"
     ]
    },
    {
     "name": "stderr",
     "output_type": "stream",
     "text": [
      "C:\\Users\\svalb\\AppData\\Local\\Temp\\ipykernel_21928\\2523766749.py:6: DtypeWarning: Columns (13,14,15) have mixed types. Specify dtype option on import or set low_memory=False.\n",
      "  dataframe_container.append(pd.read_csv(csv))\n"
     ]
    },
    {
     "name": "stdout",
     "output_type": "stream",
     "text": [
      "Parsing csv: E:\\sciAbstractsProject_sortedDFs\\sortedPMIDs_from_38169751_to_38287784.csv (254/263)\n",
      "Parsing csv: E:\\sciAbstractsProject_sortedDFs\\sortedPMIDs_from_38287785_to_38401703.csv (255/263)\n"
     ]
    },
    {
     "name": "stderr",
     "output_type": "stream",
     "text": [
      "C:\\Users\\svalb\\AppData\\Local\\Temp\\ipykernel_21928\\2523766749.py:6: DtypeWarning: Columns (13,14,15) have mixed types. Specify dtype option on import or set low_memory=False.\n",
      "  dataframe_container.append(pd.read_csv(csv))\n"
     ]
    },
    {
     "name": "stdout",
     "output_type": "stream",
     "text": [
      "Parsing csv: E:\\sciAbstractsProject_sortedDFs\\sortedPMIDs_from_38401704_to_38516829.csv (256/263)\n"
     ]
    },
    {
     "name": "stderr",
     "output_type": "stream",
     "text": [
      "C:\\Users\\svalb\\AppData\\Local\\Temp\\ipykernel_21928\\2523766749.py:6: DtypeWarning: Columns (13,14,15) have mixed types. Specify dtype option on import or set low_memory=False.\n",
      "  dataframe_container.append(pd.read_csv(csv))\n"
     ]
    },
    {
     "name": "stdout",
     "output_type": "stream",
     "text": [
      "Parsing csv: E:\\sciAbstractsProject_sortedDFs\\sortedPMIDs_from_38516831_to_38631939.csv (257/263)\n",
      "Parsing csv: E:\\sciAbstractsProject_sortedDFs\\sortedPMIDs_from_38631940_to_38747692.csv (258/263)\n"
     ]
    },
    {
     "name": "stderr",
     "output_type": "stream",
     "text": [
      "C:\\Users\\svalb\\AppData\\Local\\Temp\\ipykernel_21928\\2523766749.py:6: DtypeWarning: Columns (13,14,15) have mixed types. Specify dtype option on import or set low_memory=False.\n",
      "  dataframe_container.append(pd.read_csv(csv))\n"
     ]
    },
    {
     "name": "stdout",
     "output_type": "stream",
     "text": [
      "Parsing csv: E:\\sciAbstractsProject_sortedDFs\\sortedPMIDs_from_38747693_to_38865405.csv (259/263)\n"
     ]
    },
    {
     "name": "stderr",
     "output_type": "stream",
     "text": [
      "C:\\Users\\svalb\\AppData\\Local\\Temp\\ipykernel_21928\\2523766749.py:6: DtypeWarning: Columns (13,14,15) have mixed types. Specify dtype option on import or set low_memory=False.\n",
      "  dataframe_container.append(pd.read_csv(csv))\n"
     ]
    },
    {
     "name": "stdout",
     "output_type": "stream",
     "text": [
      "Parsing csv: E:\\sciAbstractsProject_sortedDFs\\sortedPMIDs_from_38865406_to_39027665.csv (260/263)\n"
     ]
    },
    {
     "name": "stderr",
     "output_type": "stream",
     "text": [
      "C:\\Users\\svalb\\AppData\\Local\\Temp\\ipykernel_21928\\2523766749.py:6: DtypeWarning: Columns (13,14,15) have mixed types. Specify dtype option on import or set low_memory=False.\n",
      "  dataframe_container.append(pd.read_csv(csv))\n"
     ]
    },
    {
     "name": "stdout",
     "output_type": "stream",
     "text": [
      "Parsing csv: E:\\sciAbstractsProject_sortedDFs\\sortedPMIDs_from_39027666_to_39666451.csv (261/263)\n",
      "Parsing csv: E:\\sciAbstractsProject_sortedDFs\\sortedPMIDs_from_39666600_to_39705556.csv (262/263)\n"
     ]
    }
   ],
   "source": [
    "for el in range(0, 263, 6):\n",
    "    dataframe_container = []\n",
    "    if el <= len(sorted_DFs) + 6:\n",
    "        for csv in sorted_DFs[el:el+6]:\n",
    "            print(\"Parsing csv: \" + csv + \" (\" + str(sorted_DFs.index(csv)+1) + \"/\" + str(len(sorted_DFs)) + \")\")\n",
    "            dataframe_container.append(pd.read_csv(csv))\n",
    "        df_save = pd.concat(dataframe_container)    \n",
    "        df_save.to_csv(\n",
    "            DFsPreparedForEmbeeding_output + \"DFsPreparedForEmbedding_\" + str(df_save[\"PMID\"].to_list()[0]) + \"_to_\" + str(df_save[\"PMID\"].to_list()[len(df_save)-1]) + \".csv\",\n",
    "            index = False)\n",
    "    else:\n",
    "        for csv in sorted_DFs[el:el+(len(sorted_DFs-el))]:\n",
    "            print(\"Parsing csv: \" + csv + \" (\" + str(sorted_DFs.index(csv)+1) + \"/\" + str(len(sorted_DFs)) + \")\")\n",
    "            dataframe_container.append(pd.read_csv(csv))\n",
    "        df_save = pd.concat(dataframe_container)    \n",
    "        df_save.to_csv(\n",
    "            DFsPreparedForEmbeeding_output + \"DFsPreparedForEmbedding_\" + str(df_save[\"PMID\"].to_list()[0]) + \"_to_\" + str(df_save[\"PMID\"].to_list()[len(df_save)-1]) + \".csv\",\n",
    "            index = False)"
   ]
  },
  {
   "cell_type": "code",
   "execution_count": null,
   "id": "96100344-8aae-450b-bbcc-46cf8822da56",
   "metadata": {},
   "outputs": [],
   "source": []
  }
 ],
 "metadata": {
  "kernelspec": {
   "display_name": "Python 3 (ipykernel)",
   "language": "python",
   "name": "python3"
  },
  "language_info": {
   "codemirror_mode": {
    "name": "ipython",
    "version": 3
   },
   "file_extension": ".py",
   "mimetype": "text/x-python",
   "name": "python",
   "nbconvert_exporter": "python",
   "pygments_lexer": "ipython3",
   "version": "3.12.7"
  }
 },
 "nbformat": 4,
 "nbformat_minor": 5
}
