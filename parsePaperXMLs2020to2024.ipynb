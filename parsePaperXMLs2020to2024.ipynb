{
 "cells": [
  {
   "cell_type": "code",
   "execution_count": 1,
   "id": "b7714945-a580-47f3-9553-edaa4c2fc81f",
   "metadata": {},
   "outputs": [],
   "source": [
    "import pandas as pd\n",
    "import time\n",
    "import os\n",
    "from parsingFunctions import parseXML\n",
    "from parsingFunctions import findPMIDInXML\n",
    "pd.set_option('display.max_rows', 500)"
   ]
  },
  {
   "cell_type": "code",
   "execution_count": 2,
   "id": "dce93896-e719-4296-af95-c3c316635a74",
   "metadata": {},
   "outputs": [
    {
     "name": "stdin",
     "output_type": "stream",
     "text": [
      " E:\\sciAbstractsProject_XMLs\\pmids_20200101_until_20240701\\\n"
     ]
    }
   ],
   "source": [
    "XML_dir = input()"
   ]
  },
  {
   "cell_type": "code",
   "execution_count": 3,
   "id": "3ec2c899-02ad-4c96-a3f1-a533871a91d4",
   "metadata": {},
   "outputs": [
    {
     "name": "stdin",
     "output_type": "stream",
     "text": [
      " E:\\sciAbstractsProject_parsedDFs\\pmids_20200101_until_20240701.csv\n"
     ]
    }
   ],
   "source": [
    "DF_output = input()"
   ]
  },
  {
   "cell_type": "code",
   "execution_count": 4,
   "id": "503216eb-4a77-4b8e-b9fe-afb4307c9474",
   "metadata": {},
   "outputs": [],
   "source": [
    "XML_file = os.listdir(XML_dir)"
   ]
  },
  {
   "cell_type": "code",
   "execution_count": null,
   "id": "21435b38-2f97-42fe-9d65-3ffa055ba1f7",
   "metadata": {},
   "outputs": [],
   "source": [
    "parsed_XML_output = []\n",
    "\n",
    "start = time.time()\n",
    "parseXML(XML_dir, XML_file, parsed_XML_output)\n",
    "print(time.time()-start)"
   ]
  },
  {
   "cell_type": "code",
   "execution_count": null,
   "id": "33f7baaf-8f9d-4f5e-91cd-23ec7438095e",
   "metadata": {},
   "outputs": [],
   "source": [
    "df = pd.DataFrame(parsed_XML_output)\n",
    "df.head(5)"
   ]
  },
  {
   "cell_type": "code",
   "execution_count": null,
   "id": "8574ea77-cff1-47ff-87f2-ba54308efc91",
   "metadata": {},
   "outputs": [],
   "source": [
    "df.to_csv(DF_output)"
   ]
  },
  {
   "cell_type": "code",
   "execution_count": null,
   "id": "305ef9c5-4e1c-48d9-a13d-626766c6f92f",
   "metadata": {},
   "outputs": [],
   "source": [
    "len(df)"
   ]
  },
  {
   "cell_type": "code",
   "execution_count": null,
   "id": "8f8020e3-4ba8-4a89-b686-5e51bd9fab9a",
   "metadata": {},
   "outputs": [],
   "source": []
  }
 ],
 "metadata": {
  "kernelspec": {
   "display_name": "Python 3 (ipykernel)",
   "language": "python",
   "name": "python3"
  },
  "language_info": {
   "codemirror_mode": {
    "name": "ipython",
    "version": 3
   },
   "file_extension": ".py",
   "mimetype": "text/x-python",
   "name": "python",
   "nbconvert_exporter": "python",
   "pygments_lexer": "ipython3",
   "version": "3.12.7"
  }
 },
 "nbformat": 4,
 "nbformat_minor": 5
}
