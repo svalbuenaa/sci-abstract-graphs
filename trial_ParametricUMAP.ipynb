{
  "nbformat": 4,
  "nbformat_minor": 0,
  "metadata": {
    "colab": {
      "provenance": [],
      "authorship_tag": "ABX9TyNSgZdbKUsUz848nFsggpYd"
    },
    "kernelspec": {
      "name": "python3",
      "display_name": "Python 3"
    },
    "language_info": {
      "name": "python"
    }
  },
  "cells": [
    {
      "cell_type": "code",
      "execution_count": null,
      "metadata": {
        "id": "9_co15l_5QWH"
      },
      "outputs": [],
      "source": [
        "from umap.parametric_umap import ParametricUMAP\n",
        "import pandas as pd\n",
        "import numpy as np\n",
        "import matplotlib.pyplot as plt"
      ]
    },
    {
      "cell_type": "code",
      "source": [
        "input_path = input().strip()"
      ],
      "metadata": {
        "id": "B4f4GxA25fc9"
      },
      "execution_count": null,
      "outputs": []
    },
    {
      "cell_type": "code",
      "source": [
        "df = pd.read_csv(input_path)"
      ],
      "metadata": {
        "id": "OPNNwvIO5k-K"
      },
      "execution_count": null,
      "outputs": []
    },
    {
      "cell_type": "code",
      "source": [
        "X = df[list(df.columns)[2:]].values"
      ],
      "metadata": {
        "id": "TgclLG1L5nSb"
      },
      "execution_count": null,
      "outputs": []
    },
    {
      "cell_type": "code",
      "source": [
        "dims = (768,)"
      ],
      "metadata": {
        "id": "CDuJxOTR53rd"
      },
      "execution_count": null,
      "outputs": []
    },
    {
      "cell_type": "code",
      "source": [
        "embedder = ParametricUMAP(dims=dims, low_memory=True)"
      ],
      "metadata": {
        "id": "8GpgR4I657bj"
      },
      "execution_count": null,
      "outputs": []
    },
    {
      "cell_type": "code",
      "source": [
        "embedding = embedder.fit_transform(X)"
      ],
      "metadata": {
        "id": "JbCYv9zN59jc"
      },
      "execution_count": null,
      "outputs": []
    }
  ]
}