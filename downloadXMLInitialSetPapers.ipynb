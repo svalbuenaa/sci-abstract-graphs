{
 "cells": [
  {
   "cell_type": "code",
   "execution_count": 2,
   "id": "02f2bb52-9d91-4ffb-8edb-21493d6484e9",
   "metadata": {},
   "outputs": [],
   "source": [
    "import requests\n",
    "import lxml\n",
    "from bs4 import BeautifulSoup\n",
    "import os\n",
    "import time"
   ]
  },
  {
   "cell_type": "code",
   "execution_count": 3,
   "id": "a97fe536-1fd7-440f-811a-e290f5fe1e6e",
   "metadata": {},
   "outputs": [
    {
     "name": "stdin",
     "output_type": "stream",
     "text": [
      " E:\\PMIDsInitialParsing\\not_parsed_PMIDS.txt\n"
     ]
    }
   ],
   "source": [
    "PMID_input = input()"
   ]
  },
  {
   "cell_type": "code",
   "execution_count": 4,
   "id": "3e99c9bc-3196-454c-af44-7d620bae08b5",
   "metadata": {},
   "outputs": [
    {
     "name": "stdin",
     "output_type": "stream",
     "text": [
      " E:\\sciAbstractsProject_XMLs\\not_parsed_first_round\\\n"
     ]
    }
   ],
   "source": [
    "XML_output = input()"
   ]
  },
  {
   "cell_type": "code",
   "execution_count": 5,
   "id": "3034d780-0a77-44ef-88e9-9d1419c153b0",
   "metadata": {},
   "outputs": [],
   "source": [
    "with open(PMID_input) as file:\n",
    "    articles_ids = [line.rstrip() for line in file]"
   ]
  },
  {
   "cell_type": "code",
   "execution_count": 8,
   "id": "63580dd9-2fd1-4870-822f-bf18fb630f62",
   "metadata": {},
   "outputs": [],
   "source": [
    "i = 0"
   ]
  },
  {
   "cell_type": "code",
   "execution_count": null,
   "id": "38a55ac2-1da6-4087-a7e8-a444f47434e6",
   "metadata": {
    "scrolled": true
   },
   "outputs": [
    {
     "name": "stdout",
     "output_type": "stream",
     "text": [
      "0\n",
      "200\n"
     ]
    }
   ],
   "source": [
    "while i < len(articles_ids):\n",
    "    if len(articles_ids) - i >= 200:\n",
    "        response = requests.get(\"https://eutils.ncbi.nlm.nih.gov/entrez/eutils/efetch.fcgi?db=pubmed&id=\" + str(articles_ids[i:i+200]))\n",
    "        print(i)\n",
    "        soup = BeautifulSoup(response.text, \"xml\")\n",
    "        f = open(XML_output+str(i)+\".txt\", \"w\", encoding=\"utf-8\")\n",
    "        f.write(soup.prettify())\n",
    "        f.close()\n",
    "        i+=200\n",
    "        time.sleep(1)\n",
    "    else:\n",
    "        response = requests.get(\n",
    "            \"https://eutils.ncbi.nlm.nih.gov/entrez/eutils/efetch.fcgi?db=pubmed&id=\" + str(articles_ids[i:]))\n",
    "        print(i)\n",
    "        soup = BeautifulSoup(response.text, \"xml\")\n",
    "        f = open(XML_output+str(i) + \".txt\", \"w\", encoding=\"utf-8\")\n",
    "        f.write(soup.prettify())\n",
    "        f.close()\n",
    "        break"
   ]
  },
  {
   "cell_type": "code",
   "execution_count": null,
   "id": "f1e5d67f-dfa0-4adc-8ee4-a5b8c6ad77a1",
   "metadata": {},
   "outputs": [],
   "source": []
  }
 ],
 "metadata": {
  "kernelspec": {
   "display_name": "Python 3 (ipykernel)",
   "language": "python",
   "name": "python3"
  },
  "language_info": {
   "codemirror_mode": {
    "name": "ipython",
    "version": 3
   },
   "file_extension": ".py",
   "mimetype": "text/x-python",
   "name": "python",
   "nbconvert_exporter": "python",
   "pygments_lexer": "ipython3",
   "version": "3.12.7"
  }
 },
 "nbformat": 4,
 "nbformat_minor": 5
}
