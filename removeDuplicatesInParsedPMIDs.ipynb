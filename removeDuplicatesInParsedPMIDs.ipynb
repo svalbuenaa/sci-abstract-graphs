{
 "cells": [
  {
   "cell_type": "code",
   "execution_count": 1,
   "id": "f685a2fd-685d-4af1-b675-b0497945bab4",
   "metadata": {},
   "outputs": [],
   "source": [
    "import pandas as pd\n",
    "import os\n",
    "import warnings\n",
    "\n",
    "# DType warning when importing .csv files with parsed PMIDs. Avoid showing the warning\n",
    "warnings.simplefilter(action='ignore', category=pd.errors.DtypeWarning)\n",
    "warnings.simplefilter(action='ignore', category=pd.errors.SettingWithCopyWarning)"
   ]
  },
  {
   "cell_type": "code",
   "execution_count": 2,
   "id": "78cf82e7-c66a-4036-bb07-563b91099d28",
   "metadata": {},
   "outputs": [
    {
     "name": "stdin",
     "output_type": "stream",
     "text": [
      " E:\\PMIDsInitialParsing\\parsed_duplicated_PMIDs.txt\n"
     ]
    }
   ],
   "source": [
    "# .txt file containing PMIDs which are duplicated in the .csv files with parsed articles data\n",
    "duplicated_pmids_parsed_DFs_input = input().strip()"
   ]
  },
  {
   "cell_type": "code",
   "execution_count": 3,
   "id": "6bbcc2c9-6485-4837-8945-1252b27fed12",
   "metadata": {},
   "outputs": [
    {
     "name": "stdin",
     "output_type": "stream",
     "text": [
      " E:\\sciAbstractsProject_parsedDFs\\\n"
     ]
    }
   ],
   "source": [
    "# Directory containing .csv files with parsed articles from XMLs\n",
    "parsedDFs_input = input().strip()"
   ]
  },
  {
   "cell_type": "code",
   "execution_count": 4,
   "id": "97cda515-f651-4241-8342-0cd9b34e4868",
   "metadata": {},
   "outputs": [
    {
     "name": "stdin",
     "output_type": "stream",
     "text": [
      " E:\\sciAbstractsProject_duplicated_parsedDFs\\\n"
     ]
    }
   ],
   "source": [
    "duplicatedPMIDs_output = input().strip()"
   ]
  },
  {
   "cell_type": "code",
   "execution_count": 5,
   "id": "ef844d5e-aab5-4019-ac16-4bc23d77c582",
   "metadata": {},
   "outputs": [],
   "source": [
    "# Parse duplicated PMIDs from file\n",
    "duplicated_pmids_parsed_DFs = []\n",
    "with open(duplicated_pmids_parsed_DFs_input, \"r\") as dupl_input:\n",
    "    for line in dupl_input:\n",
    "        duplicated_pmids_parsed_DFs.append(line[:-1])"
   ]
  },
  {
   "cell_type": "code",
   "execution_count": 6,
   "id": "d0f57832-e185-47b9-97e6-d011db13d693",
   "metadata": {},
   "outputs": [],
   "source": [
    "# Extract and add names of files in directories containing .csv files to a list, keep only .csv files\n",
    "parsed_DFs = []\n",
    "for root, dirs, files in os.walk(parsedDFs_input):\n",
    "        for file in files:\n",
    "            if file[-4:] == \".csv\":\n",
    "                parsed_DFs.append(os.path.join(root, file))"
   ]
  },
  {
   "cell_type": "code",
   "execution_count": 7,
   "id": "03b59e1f-4943-42f1-a260-1b816d37b84d",
   "metadata": {},
   "outputs": [
    {
     "data": {
      "text/plain": [
       "300894"
      ]
     },
     "execution_count": 7,
     "metadata": {},
     "output_type": "execute_result"
    }
   ],
   "source": [
    "len(duplicated_pmids_parsed_DFs)"
   ]
  },
  {
   "cell_type": "code",
   "execution_count": 8,
   "id": "681fd860-abbc-49cc-ba92-bae3b9ad7eee",
   "metadata": {},
   "outputs": [
    {
     "data": {
      "text/plain": [
       "241"
      ]
     },
     "execution_count": 8,
     "metadata": {},
     "output_type": "execute_result"
    }
   ],
   "source": [
    "parsed_DFs.index(r\"E:\\sciAbstractsProject_parsedDFs\\20200101_until_20240701\\pmids_20200101_until_20240701_7000000.csv\")"
   ]
  },
  {
   "cell_type": "code",
   "execution_count": null,
   "id": "fbe872be-b2d0-4428-9719-353a3e3acc6f",
   "metadata": {},
   "outputs": [
    {
     "name": "stdout",
     "output_type": "stream",
     "text": [
      "Searching duplicated PMIDs in csv: E:\\sciAbstractsProject_parsedDFs\\20200101_until_20240701\\pmids_20200101_until_20240701_7100000.csv (242/382)\n"
     ]
    }
   ],
   "source": [
    "duplicated_PMID_rows = []\n",
    "for df_file in parsed_DFs[242:]:\n",
    "    print(\"Searching duplicated PMIDs in csv: \" + df_file + \" (\" + str(parsed_DFs.index(df_file)) + \"/\" + str(len(parsed_DFs)) + \")\")\n",
    "    df_full = pd.read_csv(df_file)\n",
    "    list_PMIDs = df_full[\"PMID\"].to_list()\n",
    "    for pmid in duplicated_pmids_parsed_DFs:\n",
    "        if int(pmid) in list_PMIDs:\n",
    "            print(\"-----Found duplicate of PMID \" + pmid)\n",
    "            index_list = df_full.index[df_full[\"PMID\"]==int(pmid)].to_list()\n",
    "            df_index = df_full.iloc[index_list]\n",
    "            df_index[\"csv_duplication\"] = df_file\n",
    "            duplicated_PMID_rows.append(df_index)\n",
    "    if len(duplicated_PMID_rows) >= 1:\n",
    "        df_save = pd.concat(duplicated_PMID_rows)\n",
    "        df_save.to_csv(duplicatedPMIDs_output+ \"duplicated_PMIDs_in_\" + df_file.split(\"\\\\\")[-1])\n",
    "        duplicated_PMID_rows.clear()\n",
    "    with open(duplicatedPMIDs_output+\"DFs_parsed_for_duplicates.txt\", \"a\") as dupl_parsed:\n",
    "        dupl_parsed.write(df_file + '\\n')"
   ]
  },
  {
   "cell_type": "code",
   "execution_count": null,
   "id": "f608e49e-d9f8-4fba-b84f-d27fab3fff45",
   "metadata": {},
   "outputs": [],
   "source": []
  }
 ],
 "metadata": {
  "kernelspec": {
   "display_name": "Python 3 (ipykernel)",
   "language": "python",
   "name": "python3"
  },
  "language_info": {
   "codemirror_mode": {
    "name": "ipython",
    "version": 3
   },
   "file_extension": ".py",
   "mimetype": "text/x-python",
   "name": "python",
   "nbconvert_exporter": "python",
   "pygments_lexer": "ipython3",
   "version": "3.12.7"
  }
 },
 "nbformat": 4,
 "nbformat_minor": 5
}
