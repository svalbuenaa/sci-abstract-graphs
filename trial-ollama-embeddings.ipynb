{
 "cells": [
  {
   "cell_type": "code",
   "execution_count": 1,
   "id": "9f702e1d",
   "metadata": {
    "_cell_guid": "b1076dfc-b9ad-4769-8c92-a6c4dae69d19",
    "_uuid": "8f2839f25d086af736a60e9eeb907d3b93b6e0e5",
    "execution": {
     "iopub.execute_input": "2025-02-23T14:56:58.420084Z",
     "iopub.status.busy": "2025-02-23T14:56:58.419770Z",
     "iopub.status.idle": "2025-02-23T14:57:50.585259Z",
     "shell.execute_reply": "2025-02-23T14:57:50.584278Z"
    },
    "papermill": {
     "duration": 52.171138,
     "end_time": "2025-02-23T14:57:50.586916",
     "exception": false,
     "start_time": "2025-02-23T14:56:58.415778",
     "status": "completed"
    },
    "tags": []
   },
   "outputs": [
    {
     "name": "stdout",
     "output_type": "stream",
     "text": [
      ">>> Installing ollama to /usr/local\r\n",
      ">>> Downloading Linux amd64 bundle\r\n",
      "############################################################################################# 100.0%\r\n",
      ">>> Creating ollama user...\r\n",
      ">>> Adding ollama user to video group...\r\n",
      ">>> Adding current user to ollama group...\r\n",
      ">>> Creating ollama systemd service...\r\n",
      "\u001b[1m\u001b[31mWARNING:\u001b[m systemd is not running\r\n",
      "\u001b[1m\u001b[31mWARNING:\u001b[m Unable to detect NVIDIA/AMD GPU. Install lspci or lshw to automatically detect and install GPU dependencies.\r\n",
      ">>> The Ollama API is now available at 127.0.0.1:11434.\r\n",
      ">>> Install complete. Run \"ollama\" from the command line.\r\n",
      "\u001b[?25lpulling manifest ⠋ \u001b[?25h\u001b[?25l\u001b[2K\u001b[1Gpulling manifest ⠙ \u001b[?25h\u001b[?25l\u001b[2K\u001b[1Gpulling manifest ⠹ \u001b[?25h\u001b[?25l\u001b[2K\u001b[1Gpulling manifest ⠸ \u001b[?25h\u001b[?25l\u001b[2K\u001b[1Gpulling manifest ⠼ \u001b[?25h\u001b[?25l\u001b[2K\u001b[1Gpulling manifest ⠴ \u001b[?25h\u001b[?25l\u001b[2K\u001b[1Gpulling manifest \r\n",
      "pulling 970aa74c0a90...   0% ▕                ▏    0 B/274 MB                  \u001b[?25h\u001b[?25l\u001b[2K\u001b[1G\u001b[A\u001b[2K\u001b[1Gpulling manifest \r\n",
      "pulling 970aa74c0a90...   0% ▕                ▏    0 B/274 MB                  \u001b[?25h\u001b[?25l\u001b[2K\u001b[1G\u001b[A\u001b[2K\u001b[1Gpulling manifest \r\n",
      "pulling 970aa74c0a90...   0% ▕                ▏ 128 KB/274 MB                  \u001b[?25h\u001b[?25l\u001b[2K\u001b[1G\u001b[A\u001b[2K\u001b[1Gpulling manifest \r\n",
      "pulling 970aa74c0a90...  11% ▕█               ▏  28 MB/274 MB                  \u001b[?25h\u001b[?25l\u001b[2K\u001b[1G\u001b[A\u001b[2K\u001b[1Gpulling manifest \r\n",
      "pulling 970aa74c0a90...  28% ▕████            ▏  75 MB/274 MB                  \u001b[?25h\u001b[?25l\u001b[2K\u001b[1G\u001b[A\u001b[2K\u001b[1Gpulling manifest \r\n",
      "pulling 970aa74c0a90...  35% ▕█████           ▏  96 MB/274 MB                  \u001b[?25h\u001b[?25l\u001b[2K\u001b[1G\u001b[A\u001b[2K\u001b[1Gpulling manifest \r\n",
      "pulling 970aa74c0a90...  47% ▕███████         ▏ 130 MB/274 MB                  \u001b[?25h\u001b[?25l\u001b[2K\u001b[1G\u001b[A\u001b[2K\u001b[1Gpulling manifest \r\n",
      "pulling 970aa74c0a90...  61% ▕█████████       ▏ 167 MB/274 MB                  \u001b[?25h\u001b[?25l\u001b[2K\u001b[1G\u001b[A\u001b[2K\u001b[1Gpulling manifest \r\n",
      "pulling 970aa74c0a90...  67% ▕██████████      ▏ 184 MB/274 MB                  \u001b[?25h\u001b[?25l\u001b[2K\u001b[1G\u001b[A\u001b[2K\u001b[1Gpulling manifest \r\n",
      "pulling 970aa74c0a90...  78% ▕████████████    ▏ 214 MB/274 MB                  \u001b[?25h\u001b[?25l\u001b[2K\u001b[1G\u001b[A\u001b[2K\u001b[1Gpulling manifest \r\n",
      "pulling 970aa74c0a90...  93% ▕██████████████  ▏ 254 MB/274 MB  254 MB/s      0s\u001b[?25h\u001b[?25l\u001b[2K\u001b[1G\u001b[A\u001b[2K\u001b[1Gpulling manifest \r\n",
      "pulling 970aa74c0a90...  96% ▕███████████████ ▏ 262 MB/274 MB  254 MB/s      0s\u001b[?25h\u001b[?25l\u001b[2K\u001b[1G\u001b[A\u001b[2K\u001b[1Gpulling manifest \r\n",
      "pulling 970aa74c0a90...  99% ▕███████████████ ▏ 270 MB/274 MB  254 MB/s      0s\u001b[?25h\u001b[?25l\u001b[2K\u001b[1G\u001b[A\u001b[2K\u001b[1Gpulling manifest \r\n",
      "pulling 970aa74c0a90... 100% ▕████████████████▏ 274 MB                         \u001b[?25h\u001b[?25l\u001b[2K\u001b[1G\u001b[A\u001b[2K\u001b[1Gpulling manifest \r\n",
      "pulling 970aa74c0a90... 100% ▕████████████████▏ 274 MB                         \u001b[?25h\u001b[?25l\u001b[2K\u001b[1G\u001b[A\u001b[2K\u001b[1Gpulling manifest \r\n",
      "pulling 970aa74c0a90... 100% ▕████████████████▏ 274 MB                         \u001b[?25h\u001b[?25l\u001b[2K\u001b[1G\u001b[A\u001b[2K\u001b[1Gpulling manifest \r\n",
      "pulling 970aa74c0a90... 100% ▕████████████████▏ 274 MB                         \u001b[?25h\u001b[?25l\u001b[2K\u001b[1G\u001b[A\u001b[2K\u001b[1Gpulling manifest \r\n",
      "pulling 970aa74c0a90... 100% ▕████████████████▏ 274 MB                         \u001b[?25h\u001b[?25l\u001b[2K\u001b[1G\u001b[A\u001b[2K\u001b[1Gpulling manifest \r\n",
      "pulling 970aa74c0a90... 100% ▕████████████████▏ 274 MB                         \u001b[?25h\u001b[?25l\u001b[2K\u001b[1G\u001b[A\u001b[2K\u001b[1Gpulling manifest \r\n",
      "pulling 970aa74c0a90... 100% ▕████████████████▏ 274 MB                         \u001b[?25h\u001b[?25l\u001b[2K\u001b[1G\u001b[A\u001b[2K\u001b[1Gpulling manifest \r\n",
      "pulling 970aa74c0a90... 100% ▕████████████████▏ 274 MB                         \u001b[?25h\u001b[?25l\u001b[2K\u001b[1G\u001b[A\u001b[2K\u001b[1Gpulling manifest \r\n",
      "pulling 970aa74c0a90... 100% ▕████████████████▏ 274 MB                         \u001b[?25h\u001b[?25l\u001b[2K\u001b[1G\u001b[A\u001b[2K\u001b[1Gpulling manifest \r\n",
      "pulling 970aa74c0a90... 100% ▕████████████████▏ 274 MB                         \r\n",
      "pulling c71d239df917...   0% ▕                ▏    0 B/ 11 KB                  \u001b[?25h\u001b[?25l\u001b[2K\u001b[1G\u001b[A\u001b[2K\u001b[1G\u001b[A\u001b[2K\u001b[1Gpulling manifest \r\n",
      "pulling 970aa74c0a90... 100% ▕████████████████▏ 274 MB                         \r\n",
      "pulling c71d239df917... 100% ▕████████████████▏  11 KB                         \u001b[?25h\u001b[?25l\u001b[2K\u001b[1G\u001b[A\u001b[2K\u001b[1G\u001b[A\u001b[2K\u001b[1Gpulling manifest \r\n",
      "pulling 970aa74c0a90... 100% ▕████████████████▏ 274 MB                         \r\n",
      "pulling c71d239df917... 100% ▕████████████████▏  11 KB                         \u001b[?25h\u001b[?25l\u001b[2K\u001b[1G\u001b[A\u001b[2K\u001b[1G\u001b[A\u001b[2K\u001b[1Gpulling manifest \r\n",
      "pulling 970aa74c0a90... 100% ▕████████████████▏ 274 MB                         \r\n",
      "pulling c71d239df917... 100% ▕████████████████▏  11 KB                         \u001b[?25h\u001b[?25l\u001b[2K\u001b[1G\u001b[A\u001b[2K\u001b[1G\u001b[A\u001b[2K\u001b[1Gpulling manifest \r\n",
      "pulling 970aa74c0a90... 100% ▕████████████████▏ 274 MB                         \r\n",
      "pulling c71d239df917... 100% ▕████████████████▏  11 KB                         \u001b[?25h\u001b[?25l\u001b[2K\u001b[1G\u001b[A\u001b[2K\u001b[1G\u001b[A\u001b[2K\u001b[1Gpulling manifest \r\n",
      "pulling 970aa74c0a90... 100% ▕████████████████▏ 274 MB                         \r\n",
      "pulling c71d239df917... 100% ▕████████████████▏  11 KB                         \u001b[?25h\u001b[?25l\u001b[2K\u001b[1G\u001b[A\u001b[2K\u001b[1G\u001b[A\u001b[2K\u001b[1Gpulling manifest \r\n",
      "pulling 970aa74c0a90... 100% ▕████████████████▏ 274 MB                         \r\n",
      "pulling c71d239df917... 100% ▕████████████████▏  11 KB                         \u001b[?25h\u001b[?25l\u001b[2K\u001b[1G\u001b[A\u001b[2K\u001b[1G\u001b[A\u001b[2K\u001b[1Gpulling manifest \r\n",
      "pulling 970aa74c0a90... 100% ▕████████████████▏ 274 MB                         \r\n",
      "pulling c71d239df917... 100% ▕████████████████▏  11 KB                         \u001b[?25h\u001b[?25l\u001b[2K\u001b[1G\u001b[A\u001b[2K\u001b[1G\u001b[A\u001b[2K\u001b[1Gpulling manifest \r\n",
      "pulling 970aa74c0a90... 100% ▕████████████████▏ 274 MB                         \r\n",
      "pulling c71d239df917... 100% ▕████████████████▏  11 KB                         \u001b[?25h\u001b[?25l\u001b[2K\u001b[1G\u001b[A\u001b[2K\u001b[1G\u001b[A\u001b[2K\u001b[1Gpulling manifest \r\n",
      "pulling 970aa74c0a90... 100% ▕████████████████▏ 274 MB                         \r\n",
      "pulling c71d239df917... 100% ▕████████████████▏  11 KB                         \u001b[?25h\u001b[?25l\u001b[2K\u001b[1G\u001b[A\u001b[2K\u001b[1G\u001b[A\u001b[2K\u001b[1Gpulling manifest \r\n",
      "pulling 970aa74c0a90... 100% ▕████████████████▏ 274 MB                         \r\n",
      "pulling c71d239df917... 100% ▕████████████████▏  11 KB                         \u001b[?25h\u001b[?25l\u001b[2K\u001b[1G\u001b[A\u001b[2K\u001b[1G\u001b[A\u001b[2K\u001b[1Gpulling manifest \r\n",
      "pulling 970aa74c0a90... 100% ▕████████████████▏ 274 MB                         \r\n",
      "pulling c71d239df917... 100% ▕████████████████▏  11 KB                         \u001b[?25h\u001b[?25l\u001b[2K\u001b[1G\u001b[A\u001b[2K\u001b[1G\u001b[A\u001b[2K\u001b[1Gpulling manifest \r\n",
      "pulling 970aa74c0a90... 100% ▕████████████████▏ 274 MB                         \r\n",
      "pulling c71d239df917... 100% ▕████████████████▏  11 KB                         \r\n",
      "pulling ce4a164fc046...   0% ▕                ▏    0 B/  17 B                  \u001b[?25h\u001b[?25l\u001b[2K\u001b[1G\u001b[A\u001b[2K\u001b[1G\u001b[A\u001b[2K\u001b[1G\u001b[A\u001b[2K\u001b[1Gpulling manifest \r\n",
      "pulling 970aa74c0a90... 100% ▕████████████████▏ 274 MB                         \r\n",
      "pulling c71d239df917... 100% ▕████████████████▏  11 KB                         \r\n",
      "pulling ce4a164fc046... 100% ▕████████████████▏   17 B                         \u001b[?25h\u001b[?25l\u001b[2K\u001b[1G\u001b[A\u001b[2K\u001b[1G\u001b[A\u001b[2K\u001b[1G\u001b[A\u001b[2K\u001b[1Gpulling manifest \r\n",
      "pulling 970aa74c0a90... 100% ▕████████████████▏ 274 MB                         \r\n",
      "pulling c71d239df917... 100% ▕████████████████▏  11 KB                         \r\n",
      "pulling ce4a164fc046... 100% ▕████████████████▏   17 B                         \u001b[?25h\u001b[?25l\u001b[2K\u001b[1G\u001b[A\u001b[2K\u001b[1G\u001b[A\u001b[2K\u001b[1G\u001b[A\u001b[2K\u001b[1Gpulling manifest \r\n",
      "pulling 970aa74c0a90... 100% ▕████████████████▏ 274 MB                         \r\n",
      "pulling c71d239df917... 100% ▕████████████████▏  11 KB                         \r\n",
      "pulling ce4a164fc046... 100% ▕████████████████▏   17 B                         \u001b[?25h\u001b[?25l\u001b[2K\u001b[1G\u001b[A\u001b[2K\u001b[1G\u001b[A\u001b[2K\u001b[1G\u001b[A\u001b[2K\u001b[1Gpulling manifest \r\n",
      "pulling 970aa74c0a90... 100% ▕████████████████▏ 274 MB                         \r\n",
      "pulling c71d239df917... 100% ▕████████████████▏  11 KB                         \r\n",
      "pulling ce4a164fc046... 100% ▕████████████████▏   17 B                         \u001b[?25h\u001b[?25l\u001b[2K\u001b[1G\u001b[A\u001b[2K\u001b[1G\u001b[A\u001b[2K\u001b[1G\u001b[A\u001b[2K\u001b[1Gpulling manifest \r\n",
      "pulling 970aa74c0a90... 100% ▕████████████████▏ 274 MB                         \r\n",
      "pulling c71d239df917... 100% ▕████████████████▏  11 KB                         \r\n",
      "pulling ce4a164fc046... 100% ▕████████████████▏   17 B                         \u001b[?25h\u001b[?25l\u001b[2K\u001b[1G\u001b[A\u001b[2K\u001b[1G\u001b[A\u001b[2K\u001b[1G\u001b[A\u001b[2K\u001b[1Gpulling manifest \r\n",
      "pulling 970aa74c0a90... 100% ▕████████████████▏ 274 MB                         \r\n",
      "pulling c71d239df917... 100% ▕████████████████▏  11 KB                         \r\n",
      "pulling ce4a164fc046... 100% ▕████████████████▏   17 B                         \u001b[?25h\u001b[?25l\u001b[2K\u001b[1G\u001b[A\u001b[2K\u001b[1G\u001b[A\u001b[2K\u001b[1G\u001b[A\u001b[2K\u001b[1Gpulling manifest \r\n",
      "pulling 970aa74c0a90... 100% ▕████████████████▏ 274 MB                         \r\n",
      "pulling c71d239df917... 100% ▕████████████████▏  11 KB                         \r\n",
      "pulling ce4a164fc046... 100% ▕████████████████▏   17 B                         \u001b[?25h\u001b[?25l\u001b[2K\u001b[1G\u001b[A\u001b[2K\u001b[1G\u001b[A\u001b[2K\u001b[1G\u001b[A\u001b[2K\u001b[1Gpulling manifest \r\n",
      "pulling 970aa74c0a90... 100% ▕████████████████▏ 274 MB                         \r\n",
      "pulling c71d239df917... 100% ▕████████████████▏  11 KB                         \r\n",
      "pulling ce4a164fc046... 100% ▕████████████████▏   17 B                         \u001b[?25h\u001b[?25l\u001b[2K\u001b[1G\u001b[A\u001b[2K\u001b[1G\u001b[A\u001b[2K\u001b[1G\u001b[A\u001b[2K\u001b[1Gpulling manifest \r\n",
      "pulling 970aa74c0a90... 100% ▕████████████████▏ 274 MB                         \r\n",
      "pulling c71d239df917... 100% ▕████████████████▏  11 KB                         \r\n",
      "pulling ce4a164fc046... 100% ▕████████████████▏   17 B                         \u001b[?25h\u001b[?25l\u001b[2K\u001b[1G\u001b[A\u001b[2K\u001b[1G\u001b[A\u001b[2K\u001b[1G\u001b[A\u001b[2K\u001b[1Gpulling manifest \r\n",
      "pulling 970aa74c0a90... 100% ▕████████████████▏ 274 MB                         \r\n",
      "pulling c71d239df917... 100% ▕████████████████▏  11 KB                         \r\n",
      "pulling ce4a164fc046... 100% ▕████████████████▏   17 B                         \u001b[?25h\u001b[?25l\u001b[2K\u001b[1G\u001b[A\u001b[2K\u001b[1G\u001b[A\u001b[2K\u001b[1G\u001b[A\u001b[2K\u001b[1Gpulling manifest \r\n",
      "pulling 970aa74c0a90... 100% ▕████████████████▏ 274 MB                         \r\n",
      "pulling c71d239df917... 100% ▕████████████████▏  11 KB                         \r\n",
      "pulling ce4a164fc046... 100% ▕████████████████▏   17 B                         \r\n",
      "pulling 31df23ea7daa...   0% ▕                ▏    0 B/ 420 B                  \u001b[?25h\u001b[?25l\u001b[2K\u001b[1G\u001b[A\u001b[2K\u001b[1G\u001b[A\u001b[2K\u001b[1G\u001b[A\u001b[2K\u001b[1G\u001b[A\u001b[2K\u001b[1Gpulling manifest \r\n",
      "pulling 970aa74c0a90... 100% ▕████████████████▏ 274 MB                         \r\n",
      "pulling c71d239df917... 100% ▕████████████████▏  11 KB                         \r\n",
      "pulling ce4a164fc046... 100% ▕████████████████▏   17 B                         \r\n",
      "pulling 31df23ea7daa...   0% ▕                ▏    0 B/ 420 B                  \u001b[?25h\u001b[?25l\u001b[2K\u001b[1G\u001b[A\u001b[2K\u001b[1G\u001b[A\u001b[2K\u001b[1G\u001b[A\u001b[2K\u001b[1G\u001b[A\u001b[2K\u001b[1Gpulling manifest \r\n",
      "pulling 970aa74c0a90... 100% ▕████████████████▏ 274 MB                         \r\n",
      "pulling c71d239df917... 100% ▕████████████████▏  11 KB                         \r\n",
      "pulling ce4a164fc046... 100% ▕████████████████▏   17 B                         \r\n",
      "pulling 31df23ea7daa... 100% ▕████████████████▏  420 B                         \u001b[?25h\u001b[?25l\u001b[2K\u001b[1G\u001b[A\u001b[2K\u001b[1G\u001b[A\u001b[2K\u001b[1G\u001b[A\u001b[2K\u001b[1G\u001b[A\u001b[2K\u001b[1Gpulling manifest \r\n",
      "pulling 970aa74c0a90... 100% ▕████████████████▏ 274 MB                         \r\n",
      "pulling c71d239df917... 100% ▕████████████████▏  11 KB                         \r\n",
      "pulling ce4a164fc046... 100% ▕████████████████▏   17 B                         \r\n",
      "pulling 31df23ea7daa... 100% ▕████████████████▏  420 B                         \u001b[?25h\u001b[?25l\u001b[2K\u001b[1G\u001b[A\u001b[2K\u001b[1G\u001b[A\u001b[2K\u001b[1G\u001b[A\u001b[2K\u001b[1G\u001b[A\u001b[2K\u001b[1Gpulling manifest \r\n",
      "pulling 970aa74c0a90... 100% ▕████████████████▏ 274 MB                         \r\n",
      "pulling c71d239df917... 100% ▕████████████████▏  11 KB                         \r\n",
      "pulling ce4a164fc046... 100% ▕████████████████▏   17 B                         \r\n",
      "pulling 31df23ea7daa... 100% ▕████████████████▏  420 B                         \u001b[?25h\u001b[?25l\u001b[2K\u001b[1G\u001b[A\u001b[2K\u001b[1G\u001b[A\u001b[2K\u001b[1G\u001b[A\u001b[2K\u001b[1G\u001b[A\u001b[2K\u001b[1Gpulling manifest \r\n",
      "pulling 970aa74c0a90... 100% ▕████████████████▏ 274 MB                         \r\n",
      "pulling c71d239df917... 100% ▕████████████████▏  11 KB                         \r\n",
      "pulling ce4a164fc046... 100% ▕████████████████▏   17 B                         \r\n",
      "pulling 31df23ea7daa... 100% ▕████████████████▏  420 B                         \u001b[?25h\u001b[?25l\u001b[2K\u001b[1G\u001b[A\u001b[2K\u001b[1G\u001b[A\u001b[2K\u001b[1G\u001b[A\u001b[2K\u001b[1G\u001b[A\u001b[2K\u001b[1Gpulling manifest \r\n",
      "pulling 970aa74c0a90... 100% ▕████████████████▏ 274 MB                         \r\n",
      "pulling c71d239df917... 100% ▕████████████████▏  11 KB                         \r\n",
      "pulling ce4a164fc046... 100% ▕████████████████▏   17 B                         \r\n",
      "pulling 31df23ea7daa... 100% ▕████████████████▏  420 B                         \u001b[?25h\u001b[?25l\u001b[2K\u001b[1G\u001b[A\u001b[2K\u001b[1G\u001b[A\u001b[2K\u001b[1G\u001b[A\u001b[2K\u001b[1G\u001b[A\u001b[2K\u001b[1Gpulling manifest \r\n",
      "pulling 970aa74c0a90... 100% ▕████████████████▏ 274 MB                         \r\n",
      "pulling c71d239df917... 100% ▕████████████████▏  11 KB                         \r\n",
      "pulling ce4a164fc046... 100% ▕████████████████▏   17 B                         \r\n",
      "pulling 31df23ea7daa... 100% ▕████████████████▏  420 B                         \u001b[?25h\u001b[?25l\u001b[2K\u001b[1G\u001b[A\u001b[2K\u001b[1G\u001b[A\u001b[2K\u001b[1G\u001b[A\u001b[2K\u001b[1G\u001b[A\u001b[2K\u001b[1Gpulling manifest \r\n",
      "pulling 970aa74c0a90... 100% ▕████████████████▏ 274 MB                         \r\n",
      "pulling c71d239df917... 100% ▕████████████████▏  11 KB                         \r\n",
      "pulling ce4a164fc046... 100% ▕████████████████▏   17 B                         \r\n",
      "pulling 31df23ea7daa... 100% ▕████████████████▏  420 B                         \u001b[?25h\u001b[?25l\u001b[2K\u001b[1G\u001b[A\u001b[2K\u001b[1G\u001b[A\u001b[2K\u001b[1G\u001b[A\u001b[2K\u001b[1G\u001b[A\u001b[2K\u001b[1Gpulling manifest \r\n",
      "pulling 970aa74c0a90... 100% ▕████████████████▏ 274 MB                         \r\n",
      "pulling c71d239df917... 100% ▕████████████████▏  11 KB                         \r\n",
      "pulling ce4a164fc046... 100% ▕████████████████▏   17 B                         \r\n",
      "pulling 31df23ea7daa... 100% ▕████████████████▏  420 B                         \u001b[?25h\u001b[?25l\u001b[2K\u001b[1G\u001b[A\u001b[2K\u001b[1G\u001b[A\u001b[2K\u001b[1G\u001b[A\u001b[2K\u001b[1G\u001b[A\u001b[2K\u001b[1Gpulling manifest \r\n",
      "pulling 970aa74c0a90... 100% ▕████████████████▏ 274 MB                         \r\n",
      "pulling c71d239df917... 100% ▕████████████████▏  11 KB                         \r\n",
      "pulling ce4a164fc046... 100% ▕████████████████▏   17 B                         \r\n",
      "pulling 31df23ea7daa... 100% ▕████████████████▏  420 B                         \r\n",
      "verifying sha256 digest ⠋ \u001b[?25h\u001b[?25l\u001b[2K\u001b[1G\u001b[A\u001b[2K\u001b[1G\u001b[A\u001b[2K\u001b[1G\u001b[A\u001b[2K\u001b[1G\u001b[A\u001b[2K\u001b[1G\u001b[A\u001b[2K\u001b[1Gpulling manifest \r\n",
      "pulling 970aa74c0a90... 100% ▕████████████████▏ 274 MB                         \r\n",
      "pulling c71d239df917... 100% ▕████████████████▏  11 KB                         \r\n",
      "pulling ce4a164fc046... 100% ▕████████████████▏   17 B                         \r\n",
      "pulling 31df23ea7daa... 100% ▕████████████████▏  420 B                         \r\n",
      "verifying sha256 digest ⠙ \u001b[?25h\u001b[?25l\u001b[2K\u001b[1G\u001b[A\u001b[2K\u001b[1G\u001b[A\u001b[2K\u001b[1G\u001b[A\u001b[2K\u001b[1G\u001b[A\u001b[2K\u001b[1G\u001b[A\u001b[2K\u001b[1Gpulling manifest \r\n",
      "pulling 970aa74c0a90... 100% ▕████████████████▏ 274 MB                         \r\n",
      "pulling c71d239df917... 100% ▕████████████████▏  11 KB                         \r\n",
      "pulling ce4a164fc046... 100% ▕████████████████▏   17 B                         \r\n",
      "pulling 31df23ea7daa... 100% ▕████████████████▏  420 B                         \r\n",
      "verifying sha256 digest ⠹ \u001b[?25h\u001b[?25l\u001b[2K\u001b[1G\u001b[A\u001b[2K\u001b[1G\u001b[A\u001b[2K\u001b[1G\u001b[A\u001b[2K\u001b[1G\u001b[A\u001b[2K\u001b[1G\u001b[A\u001b[2K\u001b[1Gpulling manifest \r\n",
      "pulling 970aa74c0a90... 100% ▕████████████████▏ 274 MB                         \r\n",
      "pulling c71d239df917... 100% ▕████████████████▏  11 KB                         \r\n",
      "pulling ce4a164fc046... 100% ▕████████████████▏   17 B                         \r\n",
      "pulling 31df23ea7daa... 100% ▕████████████████▏  420 B                         \r\n",
      "verifying sha256 digest ⠸ \u001b[?25h\u001b[?25l\u001b[2K\u001b[1G\u001b[A\u001b[2K\u001b[1G\u001b[A\u001b[2K\u001b[1G\u001b[A\u001b[2K\u001b[1G\u001b[A\u001b[2K\u001b[1G\u001b[A\u001b[2K\u001b[1Gpulling manifest \r\n",
      "pulling 970aa74c0a90... 100% ▕████████████████▏ 274 MB                         \r\n",
      "pulling c71d239df917... 100% ▕████████████████▏  11 KB                         \r\n",
      "pulling ce4a164fc046... 100% ▕████████████████▏   17 B                         \r\n",
      "pulling 31df23ea7daa... 100% ▕████████████████▏  420 B                         \r\n",
      "verifying sha256 digest ⠼ \u001b[?25h\u001b[?25l\u001b[2K\u001b[1G\u001b[A\u001b[2K\u001b[1G\u001b[A\u001b[2K\u001b[1G\u001b[A\u001b[2K\u001b[1G\u001b[A\u001b[2K\u001b[1G\u001b[A\u001b[2K\u001b[1Gpulling manifest \r\n",
      "pulling 970aa74c0a90... 100% ▕████████████████▏ 274 MB                         \r\n",
      "pulling c71d239df917... 100% ▕████████████████▏  11 KB                         \r\n",
      "pulling ce4a164fc046... 100% ▕████████████████▏   17 B                         \r\n",
      "pulling 31df23ea7daa... 100% ▕████████████████▏  420 B                         \r\n",
      "verifying sha256 digest ⠴ \u001b[?25h\u001b[?25l\u001b[2K\u001b[1G\u001b[A\u001b[2K\u001b[1G\u001b[A\u001b[2K\u001b[1G\u001b[A\u001b[2K\u001b[1G\u001b[A\u001b[2K\u001b[1G\u001b[A\u001b[2K\u001b[1Gpulling manifest \r\n",
      "pulling 970aa74c0a90... 100% ▕████████████████▏ 274 MB                         \r\n",
      "pulling c71d239df917... 100% ▕████████████████▏  11 KB                         \r\n",
      "pulling ce4a164fc046... 100% ▕████████████████▏   17 B                         \r\n",
      "pulling 31df23ea7daa... 100% ▕████████████████▏  420 B                         \r\n",
      "verifying sha256 digest ⠦ \u001b[?25h\u001b[?25l\u001b[2K\u001b[1G\u001b[A\u001b[2K\u001b[1G\u001b[A\u001b[2K\u001b[1G\u001b[A\u001b[2K\u001b[1G\u001b[A\u001b[2K\u001b[1G\u001b[A\u001b[2K\u001b[1Gpulling manifest \r\n",
      "pulling 970aa74c0a90... 100% ▕████████████████▏ 274 MB                         \r\n",
      "pulling c71d239df917... 100% ▕████████████████▏  11 KB                         \r\n",
      "pulling ce4a164fc046... 100% ▕████████████████▏   17 B                         \r\n",
      "pulling 31df23ea7daa... 100% ▕████████████████▏  420 B                         \r\n",
      "verifying sha256 digest ⠧ \u001b[?25h\u001b[?25l\u001b[2K\u001b[1G\u001b[A\u001b[2K\u001b[1G\u001b[A\u001b[2K\u001b[1G\u001b[A\u001b[2K\u001b[1G\u001b[A\u001b[2K\u001b[1G\u001b[A\u001b[2K\u001b[1Gpulling manifest \r\n",
      "pulling 970aa74c0a90... 100% ▕████████████████▏ 274 MB                         \r\n",
      "pulling c71d239df917... 100% ▕████████████████▏  11 KB                         \r\n",
      "pulling ce4a164fc046... 100% ▕████████████████▏   17 B                         \r\n",
      "pulling 31df23ea7daa... 100% ▕████████████████▏  420 B                         \r\n",
      "verifying sha256 digest ⠇ \u001b[?25h\u001b[?25l\u001b[2K\u001b[1G\u001b[A\u001b[2K\u001b[1G\u001b[A\u001b[2K\u001b[1G\u001b[A\u001b[2K\u001b[1G\u001b[A\u001b[2K\u001b[1G\u001b[A\u001b[2K\u001b[1Gpulling manifest \r\n",
      "pulling 970aa74c0a90... 100% ▕████████████████▏ 274 MB                         \r\n",
      "pulling c71d239df917... 100% ▕████████████████▏  11 KB                         \r\n",
      "pulling ce4a164fc046... 100% ▕████████████████▏   17 B                         \r\n",
      "pulling 31df23ea7daa... 100% ▕████████████████▏  420 B                         \r\n",
      "verifying sha256 digest \r\n",
      "writing manifest \r\n",
      "success \u001b[?25h\r\n",
      "Collecting ollama\r\n",
      "  Downloading ollama-0.4.7-py3-none-any.whl.metadata (4.7 kB)\r\n",
      "Requirement already satisfied: httpx<0.29,>=0.27 in /usr/local/lib/python3.10/dist-packages (from ollama) (0.28.1)\r\n",
      "Requirement already satisfied: pydantic<3.0.0,>=2.9.0 in /usr/local/lib/python3.10/dist-packages (from ollama) (2.11.0a2)\r\n",
      "Requirement already satisfied: anyio in /usr/local/lib/python3.10/dist-packages (from httpx<0.29,>=0.27->ollama) (3.7.1)\r\n",
      "Requirement already satisfied: certifi in /usr/local/lib/python3.10/dist-packages (from httpx<0.29,>=0.27->ollama) (2025.1.31)\r\n",
      "Requirement already satisfied: httpcore==1.* in /usr/local/lib/python3.10/dist-packages (from httpx<0.29,>=0.27->ollama) (1.0.7)\r\n",
      "Requirement already satisfied: idna in /usr/local/lib/python3.10/dist-packages (from httpx<0.29,>=0.27->ollama) (3.10)\r\n",
      "Requirement already satisfied: h11<0.15,>=0.13 in /usr/local/lib/python3.10/dist-packages (from httpcore==1.*->httpx<0.29,>=0.27->ollama) (0.14.0)\r\n",
      "Requirement already satisfied: annotated-types>=0.6.0 in /usr/local/lib/python3.10/dist-packages (from pydantic<3.0.0,>=2.9.0->ollama) (0.7.0)\r\n",
      "Requirement already satisfied: pydantic-core==2.29.0 in /usr/local/lib/python3.10/dist-packages (from pydantic<3.0.0,>=2.9.0->ollama) (2.29.0)\r\n",
      "Requirement already satisfied: typing-extensions>=4.12.2 in /usr/local/lib/python3.10/dist-packages (from pydantic<3.0.0,>=2.9.0->ollama) (4.12.2)\r\n",
      "Requirement already satisfied: sniffio>=1.1 in /usr/local/lib/python3.10/dist-packages (from anyio->httpx<0.29,>=0.27->ollama) (1.3.1)\r\n",
      "Requirement already satisfied: exceptiongroup in /usr/local/lib/python3.10/dist-packages (from anyio->httpx<0.29,>=0.27->ollama) (1.2.2)\r\n",
      "Downloading ollama-0.4.7-py3-none-any.whl (13 kB)\r\n",
      "Installing collected packages: ollama\r\n",
      "Successfully installed ollama-0.4.7\r\n"
     ]
    }
   ],
   "source": [
    "!curl -fsSL https://ollama.com/install.sh | sh\n",
    "import subprocess\n",
    "process = subprocess.Popen(\"ollama serve\", shell=True) #runs on a different thread\n",
    "#Download model\n",
    "!ollama pull nomic-embed-text\n",
    "!pip install ollama\n",
    "import ollama"
   ]
  },
  {
   "cell_type": "code",
   "execution_count": 2,
   "id": "c5678ecb",
   "metadata": {
    "execution": {
     "iopub.execute_input": "2025-02-23T14:57:50.628070Z",
     "iopub.status.busy": "2025-02-23T14:57:50.627796Z",
     "iopub.status.idle": "2025-02-23T14:57:51.424625Z",
     "shell.execute_reply": "2025-02-23T14:57:51.423680Z"
    },
    "papermill": {
     "duration": 0.81858,
     "end_time": "2025-02-23T14:57:51.426153",
     "exception": false,
     "start_time": "2025-02-23T14:57:50.607573",
     "status": "completed"
    },
    "tags": []
   },
   "outputs": [],
   "source": [
    "import pandas as pd\n",
    "from tqdm import tqdm"
   ]
  },
  {
   "cell_type": "code",
   "execution_count": 3,
   "id": "50c704f0",
   "metadata": {
    "execution": {
     "iopub.execute_input": "2025-02-23T14:57:51.467973Z",
     "iopub.status.busy": "2025-02-23T14:57:51.467572Z",
     "iopub.status.idle": "2025-02-23T14:57:54.025830Z",
     "shell.execute_reply": "2025-02-23T14:57:54.024808Z"
    },
    "papermill": {
     "duration": 2.580523,
     "end_time": "2025-02-23T14:57:54.027483",
     "exception": false,
     "start_time": "2025-02-23T14:57:51.446960",
     "status": "completed"
    },
    "tags": []
   },
   "outputs": [],
   "source": [
    "df = pd.read_csv(\"/kaggle/input/input-prueba-embeddings/input_prueba_embeddings.csv\")"
   ]
  },
  {
   "cell_type": "code",
   "execution_count": 4,
   "id": "066c4b39",
   "metadata": {
    "execution": {
     "iopub.execute_input": "2025-02-23T14:57:54.066934Z",
     "iopub.status.busy": "2025-02-23T14:57:54.066663Z",
     "iopub.status.idle": "2025-02-23T14:57:54.094254Z",
     "shell.execute_reply": "2025-02-23T14:57:54.093561Z"
    },
    "papermill": {
     "duration": 0.048469,
     "end_time": "2025-02-23T14:57:54.095507",
     "exception": false,
     "start_time": "2025-02-23T14:57:54.047038",
     "status": "completed"
    },
    "tags": []
   },
   "outputs": [
    {
     "data": {
      "text/html": [
       "<div>\n",
       "<style scoped>\n",
       "    .dataframe tbody tr th:only-of-type {\n",
       "        vertical-align: middle;\n",
       "    }\n",
       "\n",
       "    .dataframe tbody tr th {\n",
       "        vertical-align: top;\n",
       "    }\n",
       "\n",
       "    .dataframe thead th {\n",
       "        text-align: right;\n",
       "    }\n",
       "</style>\n",
       "<table border=\"1\" class=\"dataframe\">\n",
       "  <thead>\n",
       "    <tr style=\"text-align: right;\">\n",
       "      <th></th>\n",
       "      <th>Unnamed: 0</th>\n",
       "      <th>PMID</th>\n",
       "      <th>Abstract</th>\n",
       "    </tr>\n",
       "  </thead>\n",
       "  <tbody>\n",
       "    <tr>\n",
       "      <th>0</th>\n",
       "      <td>0</td>\n",
       "      <td>10217319</td>\n",
       "      <td>In 1996 131.5 million daily doses of preparati...</td>\n",
       "    </tr>\n",
       "    <tr>\n",
       "      <th>1</th>\n",
       "      <td>1</td>\n",
       "      <td>10217320</td>\n",
       "      <td>The bactericidal activity of OPB-2045 (1-(3,4-...</td>\n",
       "    </tr>\n",
       "    <tr>\n",
       "      <th>2</th>\n",
       "      <td>2</td>\n",
       "      <td>10217321</td>\n",
       "      <td>Cell-surface hydrophobicity is different for S...</td>\n",
       "    </tr>\n",
       "    <tr>\n",
       "      <th>3</th>\n",
       "      <td>3</td>\n",
       "      <td>10217322</td>\n",
       "      <td>This study examines the anti-ulcerogenic activ...</td>\n",
       "    </tr>\n",
       "    <tr>\n",
       "      <th>4</th>\n",
       "      <td>4</td>\n",
       "      <td>10217323</td>\n",
       "      <td>We studied the effects of lavender oil on mast...</td>\n",
       "    </tr>\n",
       "    <tr>\n",
       "      <th>...</th>\n",
       "      <td>...</td>\n",
       "      <td>...</td>\n",
       "      <td>...</td>\n",
       "    </tr>\n",
       "    <tr>\n",
       "      <th>99995</th>\n",
       "      <td>99995</td>\n",
       "      <td>10416799</td>\n",
       "      <td>Quantitative estimation of brain glucose metab...</td>\n",
       "    </tr>\n",
       "    <tr>\n",
       "      <th>99996</th>\n",
       "      <td>99996</td>\n",
       "      <td>10416800</td>\n",
       "      <td>For certain medical applications resampling of...</td>\n",
       "    </tr>\n",
       "    <tr>\n",
       "      <th>99997</th>\n",
       "      <td>99997</td>\n",
       "      <td>10416801</td>\n",
       "      <td>In order to perform attenuation correction in ...</td>\n",
       "    </tr>\n",
       "    <tr>\n",
       "      <th>99998</th>\n",
       "      <td>99998</td>\n",
       "      <td>10416802</td>\n",
       "      <td>The registration of retinal images is required...</td>\n",
       "    </tr>\n",
       "    <tr>\n",
       "      <th>99999</th>\n",
       "      <td>99999</td>\n",
       "      <td>10416803</td>\n",
       "      <td>Image registration is a real challenge because...</td>\n",
       "    </tr>\n",
       "  </tbody>\n",
       "</table>\n",
       "<p>100000 rows × 3 columns</p>\n",
       "</div>"
      ],
      "text/plain": [
       "       Unnamed: 0      PMID                                           Abstract\n",
       "0               0  10217319  In 1996 131.5 million daily doses of preparati...\n",
       "1               1  10217320  The bactericidal activity of OPB-2045 (1-(3,4-...\n",
       "2               2  10217321  Cell-surface hydrophobicity is different for S...\n",
       "3               3  10217322  This study examines the anti-ulcerogenic activ...\n",
       "4               4  10217323  We studied the effects of lavender oil on mast...\n",
       "...           ...       ...                                                ...\n",
       "99995       99995  10416799  Quantitative estimation of brain glucose metab...\n",
       "99996       99996  10416800  For certain medical applications resampling of...\n",
       "99997       99997  10416801  In order to perform attenuation correction in ...\n",
       "99998       99998  10416802  The registration of retinal images is required...\n",
       "99999       99999  10416803  Image registration is a real challenge because...\n",
       "\n",
       "[100000 rows x 3 columns]"
      ]
     },
     "execution_count": 4,
     "metadata": {},
     "output_type": "execute_result"
    }
   ],
   "source": [
    "df"
   ]
  },
  {
   "cell_type": "code",
   "execution_count": 5,
   "id": "30417c1d",
   "metadata": {
    "execution": {
     "iopub.execute_input": "2025-02-23T14:57:54.135727Z",
     "iopub.status.busy": "2025-02-23T14:57:54.135513Z",
     "iopub.status.idle": "2025-02-23T14:57:54.857410Z",
     "shell.execute_reply": "2025-02-23T14:57:54.856722Z"
    },
    "papermill": {
     "duration": 0.743519,
     "end_time": "2025-02-23T14:57:54.858973",
     "exception": false,
     "start_time": "2025-02-23T14:57:54.115454",
     "status": "completed"
    },
    "tags": []
   },
   "outputs": [],
   "source": [
    "lista_prueba = []\n",
    "\n",
    "for el in range(0, len(df.Abstract)):\n",
    "    lista_prueba.append(df.Abstract[el])"
   ]
  },
  {
   "cell_type": "code",
   "execution_count": 6,
   "id": "0557ec96",
   "metadata": {
    "execution": {
     "iopub.execute_input": "2025-02-23T14:57:54.901654Z",
     "iopub.status.busy": "2025-02-23T14:57:54.901398Z",
     "iopub.status.idle": "2025-02-23T15:26:59.542697Z",
     "shell.execute_reply": "2025-02-23T15:26:59.541733Z"
    },
    "papermill": {
     "duration": 1744.663657,
     "end_time": "2025-02-23T15:26:59.543895",
     "exception": false,
     "start_time": "2025-02-23T14:57:54.880238",
     "status": "completed"
    },
    "tags": []
   },
   "outputs": [
    {
     "name": "stderr",
     "output_type": "stream",
     "text": [
      "100%|██████████| 100000/100000 [29:04<00:00, 57.32it/s]\n"
     ]
    }
   ],
   "source": [
    "lista_outputs = []\n",
    "for el in tqdm(range(len(lista_prueba))):\n",
    "    lista_outputs.append(ollama.embeddings(model='nomic-embed-text', prompt = lista_prueba[el]))"
   ]
  },
  {
   "cell_type": "code",
   "execution_count": 7,
   "id": "65cc7498",
   "metadata": {
    "execution": {
     "iopub.execute_input": "2025-02-23T15:27:00.935462Z",
     "iopub.status.busy": "2025-02-23T15:27:00.934894Z",
     "iopub.status.idle": "2025-02-23T15:27:00.940438Z",
     "shell.execute_reply": "2025-02-23T15:27:00.939593Z"
    },
    "papermill": {
     "duration": 0.675867,
     "end_time": "2025-02-23T15:27:00.941960",
     "exception": false,
     "start_time": "2025-02-23T15:27:00.266093",
     "status": "completed"
    },
    "tags": []
   },
   "outputs": [
    {
     "data": {
      "text/plain": [
       "'In 1996 131.5 million daily doses of preparations containing extracts of Hypericum perforatum L. were prescribed in Germany for treating mild to moderately severe depressive disorders. New pharmacological and clinical results focus on hyperforin as the main active ingredient of the drug. Hyperforin (C35H52O4) is one of the main components (2-4%) of the dried herb Hypericum perforatum L. It was isolated after six consecutive steps: extraction of deep-frozen blossoms (-20 degrees C) with n-hexane by means of an Ultra Turrax at room temperature; separation of lipophilic substances on a silica gel column; purification of the relevant fraction by preparative HPLC; evaporation of the mobile phase under reduced pressure; removal of the remaining water by freeze-drying; and storage of hyperforin at -20 degrees C under nitrogen. The identity and purity of the isolated substance were determined by high-performance thin-layer chromatography (HPTLC), high-performance liquid chromatography (HPLC) with diode-array and ultraviolet detection (DAD and UV), Fourier-transformed infrared (FTIR) and proton nuclear magnetic resonance (1H NMR) spectroscopy, and liquid chromatography coupled with positive-ion electrospray-ionization tandem mass spectrometry (LC-ESI(+)-MS-MS). By use of these methods the purity of hyperforin was shown to be >99.9%. Peroxides present at each step of the isolation were detected by titration and by means of Merckoquant analytical peroxide test-strips. Elimination of the peroxides and stabilization of hyperforin was achieved by consistent protection from oxidation-the mobile phases were protected by use of ascorbic acid; evaporation and freeze-drying were performed under nitrogen; and the mobile phase used for preparative HPLC was sparged with helium. Stability testing was performed by HPLC-the samples were stored at -30 degrees C in a normal atmosphere and at -20, 4, and 20 degrees C in a normal atmosphere or under nitrogen. Results were compared with those obtained after storage under liquid nitrogen (-196 degrees C). Because of its high sensitivity to oxidation, hyperforin was more stable under nitrogen under all test conditions. There was no statistically significant difference between results obtained after 8 months at -20 degrees C under nitrogen or at -30 degrees C under a normal atmosphere and those from the reference sample stored under liquid nitrogen (-196 degrees C). Despite this, because of the tendency of hyperforin to degrade, long-term storage at -70 degrees C under nitrogen is recommended.'"
      ]
     },
     "execution_count": 7,
     "metadata": {},
     "output_type": "execute_result"
    }
   ],
   "source": [
    "lista_prueba[0]"
   ]
  },
  {
   "cell_type": "code",
   "execution_count": 8,
   "id": "4bfdb15d",
   "metadata": {
    "execution": {
     "iopub.execute_input": "2025-02-23T15:27:02.379831Z",
     "iopub.status.busy": "2025-02-23T15:27:02.379469Z",
     "iopub.status.idle": "2025-02-23T15:27:02.428066Z",
     "shell.execute_reply": "2025-02-23T15:27:02.427446Z"
    },
    "papermill": {
     "duration": 0.744204,
     "end_time": "2025-02-23T15:27:02.429306",
     "exception": false,
     "start_time": "2025-02-23T15:27:01.685102",
     "status": "completed"
    },
    "tags": []
   },
   "outputs": [],
   "source": [
    "outputs = []\n",
    "for el in lista_outputs:\n",
    "    outputs.append(el.embedding)"
   ]
  },
  {
   "cell_type": "code",
   "execution_count": 9,
   "id": "8cd57ad7",
   "metadata": {
    "execution": {
     "iopub.execute_input": "2025-02-23T15:27:03.864419Z",
     "iopub.status.busy": "2025-02-23T15:27:03.864127Z",
     "iopub.status.idle": "2025-02-23T15:27:03.887295Z",
     "shell.execute_reply": "2025-02-23T15:27:03.886685Z"
    },
    "papermill": {
     "duration": 0.744861,
     "end_time": "2025-02-23T15:27:03.888646",
     "exception": false,
     "start_time": "2025-02-23T15:27:03.143785",
     "status": "completed"
    },
    "tags": []
   },
   "outputs": [],
   "source": [
    "df[\"AbstractEmbedding\"] = outputs "
   ]
  },
  {
   "cell_type": "code",
   "execution_count": 10,
   "id": "dc70ec66",
   "metadata": {
    "execution": {
     "iopub.execute_input": "2025-02-23T15:27:05.260102Z",
     "iopub.status.busy": "2025-02-23T15:27:05.259806Z",
     "iopub.status.idle": "2025-02-23T15:28:22.767763Z",
     "shell.execute_reply": "2025-02-23T15:28:22.766802Z"
    },
    "papermill": {
     "duration": 78.222882,
     "end_time": "2025-02-23T15:28:22.769317",
     "exception": false,
     "start_time": "2025-02-23T15:27:04.546435",
     "status": "completed"
    },
    "tags": []
   },
   "outputs": [],
   "source": [
    "df.to_csv(\"/kaggle/working/output_prueba_embeddings.csv\")"
   ]
  },
  {
   "cell_type": "code",
   "execution_count": null,
   "id": "d2ffac28",
   "metadata": {
    "papermill": {
     "duration": 0.665473,
     "end_time": "2025-02-23T15:28:24.164348",
     "exception": false,
     "start_time": "2025-02-23T15:28:23.498875",
     "status": "completed"
    },
    "tags": []
   },
   "outputs": [],
   "source": []
  }
 ],
 "metadata": {
  "kaggle": {
   "accelerator": "nvidiaTeslaT4",
   "dataSources": [
    {
     "datasetId": 6726126,
     "sourceId": 10831757,
     "sourceType": "datasetVersion"
    }
   ],
   "dockerImageVersionId": 30919,
   "isGpuEnabled": true,
   "isInternetEnabled": true,
   "language": "python",
   "sourceType": "notebook"
  },
  "kernelspec": {
   "display_name": "Python 3",
   "language": "python",
   "name": "python3"
  },
  "language_info": {
   "codemirror_mode": {
    "name": "ipython",
    "version": 3
   },
   "file_extension": ".py",
   "mimetype": "text/x-python",
   "name": "python",
   "nbconvert_exporter": "python",
   "pygments_lexer": "ipython3",
   "version": "3.10.12"
  },
  "papermill": {
   "default_parameters": {},
   "duration": 1891.81762,
   "end_time": "2025-02-23T15:28:27.600808",
   "environment_variables": {},
   "exception": null,
   "input_path": "__notebook__.ipynb",
   "output_path": "__notebook__.ipynb",
   "parameters": {},
   "start_time": "2025-02-23T14:56:55.783188",
   "version": "2.6.0"
  }
 },
 "nbformat": 4,
 "nbformat_minor": 5
}
