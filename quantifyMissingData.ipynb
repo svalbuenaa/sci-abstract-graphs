{
 "cells": [
  {
   "cell_type": "code",
   "execution_count": 5,
   "id": "896cb943-6700-4a9e-819c-15c31b088602",
   "metadata": {},
   "outputs": [],
   "source": [
    "import pandas as pd\n",
    "import matplotlib.pyplot as plt\n",
    "import os\n",
    "import warnings\n",
    "import pickle\n",
    "\n",
    "# DType warning when importing .csv files with parsed PMIDs. Avoid showing the warning\n",
    "warnings.simplefilter(action='ignore', category=pd.errors.DtypeWarning)\n",
    "warnings.simplefilter(action='ignore', category=pd.errors.SettingWithCopyWarning)"
   ]
  },
  {
   "cell_type": "code",
   "execution_count": 6,
   "id": "827f55ae-732f-4a13-9da0-d02a239bae64",
   "metadata": {},
   "outputs": [
    {
     "name": "stdin",
     "output_type": "stream",
     "text": [
      " E:\\sciAbstractsProject_parsedDFs\\\n"
     ]
    }
   ],
   "source": [
    "# Directory containing .csv files with parsed articles from XMLs\n",
    "parsedDFs_input = input().strip()"
   ]
  },
  {
   "cell_type": "code",
   "execution_count": 7,
   "id": "8c445959-dc5b-4544-b720-11c0298b7a1b",
   "metadata": {},
   "outputs": [
    {
     "name": "stdin",
     "output_type": "stream",
     "text": [
      " E:\\sciAbstractsProject_parsedDFs\\\n"
     ]
    }
   ],
   "source": [
    "quantifications_output = input().strip()"
   ]
  },
  {
   "cell_type": "code",
   "execution_count": 8,
   "id": "df1810bf-c227-414e-8930-c989d5203401",
   "metadata": {},
   "outputs": [],
   "source": [
    "# Extract and add names of files in directories containing .csv files to a list, keep only .csv files\n",
    "parsed_DFs = []\n",
    "for root, dirs, files in os.walk(parsedDFs_input):\n",
    "        for file in files:\n",
    "            if file[-4:] == \".csv\":\n",
    "                parsed_DFs.append(os.path.join(root, file))"
   ]
  },
  {
   "cell_type": "code",
   "execution_count": 10,
   "id": "1f668ebe-6ec0-4fcc-9941-faea16e6cb9b",
   "metadata": {},
   "outputs": [],
   "source": [
    "dict_quant_data_article = {}\n",
    "dict_quant_data_article[\"Total\"] = 0\n",
    "dict_quant_data_article_keys = [\"Missing\", \"Present\"]\n",
    "for key in dict_quant_data_article_keys:\n",
    "    dict_quant_data_article[key] = {}\n",
    "\n",
    "dict_quant_data_article_subkeys = [\n",
    "    \"PMID\", \"DOI\", \"Journal\", \"Title\", \"Abstract\", \"Authors\", \"MeshHeadings\", \"Chemicals\", \"PublicationTypes\",\n",
    "    \"PublicationDate\", \"Language\", \"Keywords\"]\n",
    "\n",
    "for subkey in dict_quant_data_article_subkeys:\n",
    "    dict_quant_data_article[\"Missing\"][subkey] = 0\n",
    "    dict_quant_data_article[\"Present\"][subkey] = 0\n",
    "\n",
    "dict_quant_data_article[\"Total\"] = 0"
   ]
  },
  {
   "cell_type": "code",
   "execution_count": 11,
   "id": "1814ea19-6c69-452d-9c35-ad18264b433b",
   "metadata": {},
   "outputs": [],
   "source": [
    "dict_quant_data_bookarticle = {}\n",
    "dict_quant_data_bookarticle[\"Total\"] = 0\n",
    "dict_quant_data_bookarticle_keys = [\"Missing\", \"Present\"]\n",
    "for key in dict_quant_data_bookarticle_keys:\n",
    "    dict_quant_data_bookarticle[key] = {}\n",
    "\n",
    "dict_quant_data_bookarticle_subkeys = [\n",
    "    \"PMID\", \"Book Accession\", \"Publisher\", \"BookTitle\", \"Title\", \"Abstract\", \"Authors\", \"PublicationDate\", \"Language\", \"Keywords\"]\n",
    "\n",
    "for subkey in dict_quant_data_bookarticle_subkeys:\n",
    "    dict_quant_data_bookarticle[\"Missing\"][subkey] = 0\n",
    "    dict_quant_data_bookarticle[\"Present\"][subkey] = 0\n",
    "\n",
    "dict_quant_data_bookarticle[\"Total\"] = 0"
   ]
  },
  {
   "cell_type": "code",
   "execution_count": null,
   "id": "4166ff36-94f2-4736-b5bb-72f8c520d93f",
   "metadata": {},
   "outputs": [
    {
     "name": "stdout",
     "output_type": "stream",
     "text": [
      "Parsing csv: E:\\sciAbstractsProject_parsedDFs\\not_parsed_first_round_8400.csv, 1/383\n",
      "Parsing csv: E:\\sciAbstractsProject_parsedDFs\\not_parsed_third_round_52200.csv, 2/383\n",
      "Parsing csv: E:\\sciAbstractsProject_parsedDFs\\20000101_until_20091231\\pmids_20000101_until_20091231_100000.csv, 3/383\n",
      "Parsing csv: E:\\sciAbstractsProject_parsedDFs\\20000101_until_20091231\\pmids_20000101_until_20091231_1000000.csv, 4/383\n",
      "Parsing csv: E:\\sciAbstractsProject_parsedDFs\\20000101_until_20091231\\pmids_20000101_until_20091231_1100000.csv, 5/383\n",
      "Parsing csv: E:\\sciAbstractsProject_parsedDFs\\20000101_until_20091231\\pmids_20000101_until_20091231_1200000.csv, 6/383\n",
      "Parsing csv: E:\\sciAbstractsProject_parsedDFs\\20000101_until_20091231\\pmids_20000101_until_20091231_1300000.csv, 7/383\n",
      "Parsing csv: E:\\sciAbstractsProject_parsedDFs\\20000101_until_20091231\\pmids_20000101_until_20091231_1400000.csv, 8/383\n",
      "Parsing csv: E:\\sciAbstractsProject_parsedDFs\\20000101_until_20091231\\pmids_20000101_until_20091231_1500000.csv, 9/383\n",
      "Parsing csv: E:\\sciAbstractsProject_parsedDFs\\20000101_until_20091231\\pmids_20000101_until_20091231_1600000.csv, 10/383\n",
      "Parsing csv: E:\\sciAbstractsProject_parsedDFs\\20000101_until_20091231\\pmids_20000101_until_20091231_1700000.csv, 11/383\n"
     ]
    }
   ],
   "source": [
    "for csv in parsed_DFs:\n",
    "    print(\"Parsing csv: \" + csv + \", \" + str(parsed_DFs.index(csv)+1) + \"/\" + str(len(parsed_DFs)))\n",
    "    df = pd.read_csv(csv)\n",
    "    df_article = df.loc[df[\"Type\"]==\"Article\"]\n",
    "    df_bookarticle = df.loc[df[\"Type\"]==\"Book Article\"]\n",
    "       \n",
    "    dict_quant_data_article[\"Total\"] += len(df_article)\n",
    "    dict_quant_data_bookarticle[\"Total\"] += len(df_bookarticle)\n",
    "    \n",
    "    for col in dict_quant_data_article_subkeys:\n",
    "        if len(df_article) > 0:\n",
    "            dict_quant_data_article[\"Missing\"][col] += len(df_article.loc[df_article[col].isna()])\n",
    "            dict_quant_data_article[\"Present\"][col] += len(df_article.loc[df_article[col].notna()])\n",
    "    \n",
    "    for col in dict_quant_data_bookarticle_subkeys:\n",
    "        if len(df_bookarticle) > 0:\n",
    "            dict_quant_data_bookarticle[\"Missing\"][col] += len(df_bookarticle.loc[df_bookarticle[col].isna()])\n",
    "            dict_quant_data_bookarticle[\"Present\"][col] += len(df_bookarticle.loc[df_bookarticle[col].notna()])\n",
    "\n",
    "with open(quantifications_output + 'quantifications_missing_data_articles.pkl', 'wb') as f:\n",
    "    pickle.dump(dict_quant_data_article, f)\n",
    "\n",
    "with open(quantifications_output + 'quantifications_missing_data_book_articles.pkl', 'wb') as f:\n",
    "    pickle.dump(dict_quant_data_bookarticle, f)"
   ]
  },
  {
   "cell_type": "code",
   "execution_count": null,
   "id": "04d4b11f-3cb5-4c93-a11a-651c15c2c1ee",
   "metadata": {},
   "outputs": [],
   "source": [
    "if \"dict_quant_data_article\" not in globals():\n",
    "    try:\n",
    "        with open (quantifications_output + 'quantifications_missing_data_articles.pkl', 'rb') as f:\n",
    "            dict_quant_data_article = pickle.load(f)\n",
    "        f.close()\n",
    "    except:\n",
    "        print(\"Missing data in articles not quantified\")"
   ]
  },
  {
   "cell_type": "code",
   "execution_count": null,
   "id": "b8002780-48b5-48c9-a15d-c5547941736f",
   "metadata": {},
   "outputs": [],
   "source": [
    "if \"dict_quant_data_bookarticle\" not in globals():\n",
    "    try:\n",
    "        with open (quantifications_output + 'quantifications_missing_data_book_articles.pkl', 'rb') as f:\n",
    "            dict_quant_data_bookarticle = pickle.load(f)\n",
    "        f.close()\n",
    "    except:\n",
    "        print(\"Missing data in book articles not quantified\")"
   ]
  },
  {
   "cell_type": "code",
   "execution_count": null,
   "id": "b5a233ac-abf4-4865-9a1e-6bcbb8a495ba",
   "metadata": {},
   "outputs": [],
   "source": [
    "df_articles = pd.DataFrame(dict_quant_data_article)\n",
    "df_bookarticles = pd.DataFrame(dict_quant_data_bookarticle)"
   ]
  },
  {
   "cell_type": "code",
   "execution_count": null,
   "id": "ace49429-52ee-4f12-ba03-de9f70c8ca25",
   "metadata": {},
   "outputs": [],
   "source": [
    "df_articles"
   ]
  },
  {
   "cell_type": "code",
   "execution_count": null,
   "id": "f5edc714-287a-436f-a4f6-995a62471320",
   "metadata": {},
   "outputs": [],
   "source": [
    "df_bookarticles"
   ]
  }
 ],
 "metadata": {
  "kernelspec": {
   "display_name": "Python 3 (ipykernel)",
   "language": "python",
   "name": "python3"
  },
  "language_info": {
   "codemirror_mode": {
    "name": "ipython",
    "version": 3
   },
   "file_extension": ".py",
   "mimetype": "text/x-python",
   "name": "python",
   "nbconvert_exporter": "python",
   "pygments_lexer": "ipython3",
   "version": "3.12.7"
  }
 },
 "nbformat": 4,
 "nbformat_minor": 5
}
