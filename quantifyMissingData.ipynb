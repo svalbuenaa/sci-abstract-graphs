{
 "cells": [
  {
   "cell_type": "code",
   "execution_count": 1,
   "id": "896cb943-6700-4a9e-819c-15c31b088602",
   "metadata": {},
   "outputs": [],
   "source": [
    "import pandas as pd\n",
    "import matplotlib.pyplot as plt\n",
    "import os\n",
    "import warnings\n",
    "import pickle\n",
    "\n",
    "# DType warning when importing .csv files with parsed PMIDs. Avoid showing the warning\n",
    "warnings.simplefilter(action='ignore', category=pd.errors.DtypeWarning)\n",
    "warnings.simplefilter(action='ignore', category=pd.errors.SettingWithCopyWarning)"
   ]
  },
  {
   "cell_type": "code",
   "execution_count": 2,
   "id": "827f55ae-732f-4a13-9da0-d02a239bae64",
   "metadata": {},
   "outputs": [
    {
     "name": "stdin",
     "output_type": "stream",
     "text": [
      " E:\\sciAbstractsProject_parsedDFs\\\n"
     ]
    }
   ],
   "source": [
    "# Directory containing .csv files with parsed articles from XMLs\n",
    "parsedDFs_input = input().strip()"
   ]
  },
  {
   "cell_type": "code",
   "execution_count": 3,
   "id": "8c445959-dc5b-4544-b720-11c0298b7a1b",
   "metadata": {},
   "outputs": [
    {
     "name": "stdin",
     "output_type": "stream",
     "text": [
      " E:\\sciAbstractsProject_parsedDFs\\\n"
     ]
    }
   ],
   "source": [
    "quantifications_output = input().strip()"
   ]
  },
  {
   "cell_type": "code",
   "execution_count": 4,
   "id": "df1810bf-c227-414e-8930-c989d5203401",
   "metadata": {},
   "outputs": [],
   "source": [
    "# Extract and add names of files in directories containing .csv files to a list, keep only .csv files\n",
    "parsed_DFs = []\n",
    "for root, dirs, files in os.walk(parsedDFs_input):\n",
    "        for file in files:\n",
    "            if file[-4:] == \".csv\":\n",
    "                parsed_DFs.append(os.path.join(root, file))"
   ]
  },
  {
   "cell_type": "code",
   "execution_count": 5,
   "id": "1f668ebe-6ec0-4fcc-9941-faea16e6cb9b",
   "metadata": {},
   "outputs": [],
   "source": [
    "dict_quant_data_article = {}\n",
    "dict_quant_data_article[\"Total\"] = 0\n",
    "dict_quant_data_article_keys = [\"Missing\", \"Present\"]\n",
    "for key in dict_quant_data_article_keys:\n",
    "    dict_quant_data_article[key] = {}\n",
    "\n",
    "dict_quant_data_article_subkeys = [\n",
    "    \"PMID\", \"DOI\", \"Journal\", \"Title\", \"Abstract\", \"Authors\", \"MeshHeadings\", \"Chemicals\", \"PublicationTypes\",\n",
    "    \"PublicationDate\", \"Language\", \"Keywords\"]\n",
    "\n",
    "for subkey in dict_quant_data_article_subkeys:\n",
    "    dict_quant_data_article[\"Missing\"][subkey] = 0\n",
    "    dict_quant_data_article[\"Present\"][subkey] = 0\n",
    "\n",
    "dict_quant_data_article[\"Total\"] = 0"
   ]
  },
  {
   "cell_type": "code",
   "execution_count": 6,
   "id": "1814ea19-6c69-452d-9c35-ad18264b433b",
   "metadata": {},
   "outputs": [],
   "source": [
    "dict_quant_data_bookarticle = {}\n",
    "dict_quant_data_bookarticle[\"Total\"] = 0\n",
    "dict_quant_data_bookarticle_keys = [\"Missing\", \"Present\"]\n",
    "for key in dict_quant_data_bookarticle_keys:\n",
    "    dict_quant_data_bookarticle[key] = {}\n",
    "\n",
    "dict_quant_data_bookarticle_subkeys = [\n",
    "    \"PMID\", \"Book Accession\", \"Publisher\", \"BookTitle\", \"Title\", \"Abstract\", \"Authors\", \"PublicationDate\", \"Language\", \"Keywords\"]\n",
    "\n",
    "for subkey in dict_quant_data_bookarticle_subkeys:\n",
    "    dict_quant_data_bookarticle[\"Missing\"][subkey] = 0\n",
    "    dict_quant_data_bookarticle[\"Present\"][subkey] = 0\n",
    "\n",
    "dict_quant_data_bookarticle[\"Total\"] = 0"
   ]
  },
  {
   "cell_type": "markdown",
   "id": "04345e3c-431d-4240-b73b-d6eabc9bfe6b",
   "metadata": {},
   "source": [
    "for csv in parsed_DFs:\n",
    "    print(\"Parsing csv: \" + csv + \", \" + str(parsed_DFs.index(csv)+1) + \"/\" + str(len(parsed_DFs)))\n",
    "    df = pd.read_csv(csv)\n",
    "    df_article = df.loc[df[\"Type\"]==\"Article\"]\n",
    "    df_bookarticle = df.loc[df[\"Type\"]==\"Book Article\"]\n",
    "       \n",
    "    dict_quant_data_article[\"Total\"] += len(df_article)\n",
    "    dict_quant_data_bookarticle[\"Total\"] += len(df_bookarticle)\n",
    "    \n",
    "    for col in dict_quant_data_article_subkeys:\n",
    "        if len(df_article) > 0:\n",
    "            dict_quant_data_article[\"Missing\"][col] += len(df_article.loc[df_article[col].isna()])\n",
    "            dict_quant_data_article[\"Present\"][col] += len(df_article.loc[df_article[col].notna()])\n",
    "    \n",
    "    for col in dict_quant_data_bookarticle_subkeys:\n",
    "        if len(df_bookarticle) > 0:\n",
    "            dict_quant_data_bookarticle[\"Missing\"][col] += len(df_bookarticle.loc[df_bookarticle[col].isna()])\n",
    "            dict_quant_data_bookarticle[\"Present\"][col] += len(df_bookarticle.loc[df_bookarticle[col].notna()])\n",
    "\n",
    "with open(quantifications_output + 'quantifications_missing_data_articles.pkl', 'wb') as f:\n",
    "    pickle.dump(dict_quant_data_article, f)\n",
    "\n",
    "with open(quantifications_output + 'quantifications_missing_data_book_articles.pkl', 'wb') as f:\n",
    "    pickle.dump(dict_quant_data_bookarticle, f)"
   ]
  },
  {
   "cell_type": "code",
   "execution_count": null,
   "id": "11b71a83-9130-45df-bb7b-3bb91e04f660",
   "metadata": {},
   "outputs": [],
   "source": []
  },
  {
   "cell_type": "code",
   "execution_count": null,
   "id": "c61c6ada-e203-4e71-a1e3-3704bb0d9a2b",
   "metadata": {},
   "outputs": [],
   "source": []
  },
  {
   "cell_type": "code",
   "execution_count": null,
   "id": "c7c730d6-fe6a-49fa-b6cb-a67701822877",
   "metadata": {},
   "outputs": [],
   "source": []
  },
  {
   "cell_type": "code",
   "execution_count": null,
   "id": "ee35e321-c4f5-4984-ad23-84362dd177ec",
   "metadata": {},
   "outputs": [
    {
     "name": "stdout",
     "output_type": "stream",
     "text": [
      "Parsing csv: E:\\sciAbstractsProject_parsedDFs\\not_parsed_first_round_8400.csv, 1/383\n",
      "Parsing csv: E:\\sciAbstractsProject_parsedDFs\\not_parsed_third_round_52200.csv, 2/383\n",
      "Parsing csv: E:\\sciAbstractsProject_parsedDFs\\20000101_until_20091231\\pmids_20000101_until_20091231_100000.csv, 3/383\n",
      "Parsing csv: E:\\sciAbstractsProject_parsedDFs\\20000101_until_20091231\\pmids_20000101_until_20091231_1000000.csv, 4/383\n",
      "Parsing csv: E:\\sciAbstractsProject_parsedDFs\\20000101_until_20091231\\pmids_20000101_until_20091231_1100000.csv, 5/383\n",
      "Parsing csv: E:\\sciAbstractsProject_parsedDFs\\20000101_until_20091231\\pmids_20000101_until_20091231_1200000.csv, 6/383\n",
      "Parsing csv: E:\\sciAbstractsProject_parsedDFs\\20000101_until_20091231\\pmids_20000101_until_20091231_1300000.csv, 7/383\n",
      "Parsing csv: E:\\sciAbstractsProject_parsedDFs\\20000101_until_20091231\\pmids_20000101_until_20091231_1400000.csv, 8/383\n"
     ]
    }
   ],
   "source": [
    "parsedDFs_PMIDs = []\n",
    "\n",
    "for csv in parsed_DFs:\n",
    "    print(\"Parsing csv: \" + csv + \", \" + str(parsed_DFs.index(csv)+1) + \"/\" + str(len(parsed_DFs)))\n",
    "    df = pd.read_csv(csv)\n",
    "    parsedDFs_PMIDs.extend(list(df[\"PMID\"].values))\n",
    "    df_article = df.loc[df[\"Type\"]==\"Article\"]\n",
    "    df_bookarticle = df.loc[df[\"Type\"]==\"Book Article\"]\n",
    "       \n",
    "    dict_quant_data_article[\"Total\"] += len(df_article)\n",
    "    dict_quant_data_bookarticle[\"Total\"] += len(df_bookarticle)\n",
    "    \n",
    "    for col in dict_quant_data_article_subkeys:\n",
    "        if len(df_article) > 0:\n",
    "            dict_quant_data_article[\"Missing\"][col] += len(df_article.loc[df_article[col].isna()])\n",
    "            dict_quant_data_article[\"Present\"][col] += len(df_article.loc[df_article[col].notna()])\n",
    "    \n",
    "    for col in dict_quant_data_bookarticle_subkeys:\n",
    "        if len(df_bookarticle) > 0:\n",
    "            dict_quant_data_bookarticle[\"Missing\"][col] += len(df_bookarticle.loc[df_bookarticle[col].isna()])\n",
    "            dict_quant_data_bookarticle[\"Present\"][col] += len(df_bookarticle.loc[df_bookarticle[col].notna()])\n",
    "\n",
    "# Separate in unique and duplicates parsed PMIDs\n",
    "unique_pmids_parsed_DFs = set()\n",
    "duplicated_pmids_parsed_DFs = []\n",
    "\n",
    "for parsed_pmid in parsedDFs_PMIDs:\n",
    "    if str(parsed_pmid) in unique_pmids_parsed_DFs:\n",
    "        duplicated_pmids_parsed_DFs.append(str(parsed_pmid))\n",
    "    else:\n",
    "        unique_pmids_parsed_DFs.add(str(parsed_pmid))"
   ]
  },
  {
   "cell_type": "code",
   "execution_count": null,
   "id": "f6f805d6-8573-49bf-9111-e91578ac0ece",
   "metadata": {},
   "outputs": [],
   "source": []
  },
  {
   "cell_type": "code",
   "execution_count": null,
   "id": "5e3275df-66bd-4aec-bf2f-87feb3553910",
   "metadata": {},
   "outputs": [],
   "source": []
  },
  {
   "cell_type": "code",
   "execution_count": null,
   "id": "cd2864d6-7810-43cd-af75-e064d14c4f00",
   "metadata": {},
   "outputs": [],
   "source": []
  },
  {
   "cell_type": "code",
   "execution_count": null,
   "id": "675c9e07-8cbc-483e-98dd-e32c87a267c2",
   "metadata": {},
   "outputs": [],
   "source": []
  },
  {
   "cell_type": "code",
   "execution_count": 35,
   "id": "04d4b11f-3cb5-4c93-a11a-651c15c2c1ee",
   "metadata": {},
   "outputs": [],
   "source": [
    "if \"dict_quant_data_article\" not in globals():\n",
    "    try:\n",
    "        with open (quantifications_output + 'quantifications_missing_data_articles.pkl', 'rb') as f:\n",
    "            dict_quant_data_article = pickle.load(f)\n",
    "        f.close()\n",
    "    except:\n",
    "        print(\"Missing data in articles not quantified\")"
   ]
  },
  {
   "cell_type": "code",
   "execution_count": 36,
   "id": "b8002780-48b5-48c9-a15d-c5547941736f",
   "metadata": {},
   "outputs": [],
   "source": [
    "if \"dict_quant_data_bookarticle\" not in globals():\n",
    "    try:\n",
    "        with open (quantifications_output + 'quantifications_missing_data_book_articles.pkl', 'rb') as f:\n",
    "            dict_quant_data_bookarticle = pickle.load(f)\n",
    "        f.close()\n",
    "    except:\n",
    "        print(\"Missing data in book articles not quantified\")"
   ]
  },
  {
   "cell_type": "code",
   "execution_count": 37,
   "id": "b5a233ac-abf4-4865-9a1e-6bcbb8a495ba",
   "metadata": {},
   "outputs": [],
   "source": [
    "df_articles = pd.DataFrame(dict_quant_data_article)\n",
    "df_bookarticles = pd.DataFrame(dict_quant_data_bookarticle)"
   ]
  },
  {
   "cell_type": "code",
   "execution_count": 40,
   "id": "ace49429-52ee-4f12-ba03-de9f70c8ca25",
   "metadata": {},
   "outputs": [
    {
     "data": {
      "text/html": [
       "<div>\n",
       "<style scoped>\n",
       "    .dataframe tbody tr th:only-of-type {\n",
       "        vertical-align: middle;\n",
       "    }\n",
       "\n",
       "    .dataframe tbody tr th {\n",
       "        vertical-align: top;\n",
       "    }\n",
       "\n",
       "    .dataframe thead th {\n",
       "        text-align: right;\n",
       "    }\n",
       "</style>\n",
       "<table border=\"1\" class=\"dataframe\">\n",
       "  <thead>\n",
       "    <tr style=\"text-align: right;\">\n",
       "      <th></th>\n",
       "      <th>Total</th>\n",
       "      <th>Missing</th>\n",
       "      <th>Present</th>\n",
       "    </tr>\n",
       "  </thead>\n",
       "  <tbody>\n",
       "    <tr>\n",
       "      <th>PMID</th>\n",
       "      <td>39228168</td>\n",
       "      <td>0</td>\n",
       "      <td>39228168</td>\n",
       "    </tr>\n",
       "    <tr>\n",
       "      <th>DOI</th>\n",
       "      <td>39228168</td>\n",
       "      <td>9270901</td>\n",
       "      <td>29957267</td>\n",
       "    </tr>\n",
       "    <tr>\n",
       "      <th>Journal</th>\n",
       "      <td>39228168</td>\n",
       "      <td>0</td>\n",
       "      <td>39228168</td>\n",
       "    </tr>\n",
       "    <tr>\n",
       "      <th>Title</th>\n",
       "      <td>39228168</td>\n",
       "      <td>49243</td>\n",
       "      <td>39178925</td>\n",
       "    </tr>\n",
       "    <tr>\n",
       "      <th>Abstract</th>\n",
       "      <td>39228168</td>\n",
       "      <td>11705377</td>\n",
       "      <td>27522791</td>\n",
       "    </tr>\n",
       "    <tr>\n",
       "      <th>Authors</th>\n",
       "      <td>39228168</td>\n",
       "      <td>0</td>\n",
       "      <td>39228168</td>\n",
       "    </tr>\n",
       "    <tr>\n",
       "      <th>MeshHeadings</th>\n",
       "      <td>39228168</td>\n",
       "      <td>5894732</td>\n",
       "      <td>33333436</td>\n",
       "    </tr>\n",
       "    <tr>\n",
       "      <th>Chemicals</th>\n",
       "      <td>39228168</td>\n",
       "      <td>21416242</td>\n",
       "      <td>17811926</td>\n",
       "    </tr>\n",
       "    <tr>\n",
       "      <th>PublicationTypes</th>\n",
       "      <td>39228168</td>\n",
       "      <td>0</td>\n",
       "      <td>39228168</td>\n",
       "    </tr>\n",
       "    <tr>\n",
       "      <th>PublicationDate</th>\n",
       "      <td>39228168</td>\n",
       "      <td>166124</td>\n",
       "      <td>39062044</td>\n",
       "    </tr>\n",
       "    <tr>\n",
       "      <th>Language</th>\n",
       "      <td>39228168</td>\n",
       "      <td>0</td>\n",
       "      <td>39228168</td>\n",
       "    </tr>\n",
       "    <tr>\n",
       "      <th>Keywords</th>\n",
       "      <td>39228168</td>\n",
       "      <td>28099564</td>\n",
       "      <td>11128604</td>\n",
       "    </tr>\n",
       "  </tbody>\n",
       "</table>\n",
       "</div>"
      ],
      "text/plain": [
       "                     Total   Missing   Present\n",
       "PMID              39228168         0  39228168\n",
       "DOI               39228168   9270901  29957267\n",
       "Journal           39228168         0  39228168\n",
       "Title             39228168     49243  39178925\n",
       "Abstract          39228168  11705377  27522791\n",
       "Authors           39228168         0  39228168\n",
       "MeshHeadings      39228168   5894732  33333436\n",
       "Chemicals         39228168  21416242  17811926\n",
       "PublicationTypes  39228168         0  39228168\n",
       "PublicationDate   39228168    166124  39062044\n",
       "Language          39228168         0  39228168\n",
       "Keywords          39228168  28099564  11128604"
      ]
     },
     "execution_count": 40,
     "metadata": {},
     "output_type": "execute_result"
    }
   ],
   "source": [
    "df_articles"
   ]
  },
  {
   "cell_type": "code",
   "execution_count": 42,
   "id": "f5edc714-287a-436f-a4f6-995a62471320",
   "metadata": {},
   "outputs": [
    {
     "data": {
      "text/html": [
       "<div>\n",
       "<style scoped>\n",
       "    .dataframe tbody tr th:only-of-type {\n",
       "        vertical-align: middle;\n",
       "    }\n",
       "\n",
       "    .dataframe tbody tr th {\n",
       "        vertical-align: top;\n",
       "    }\n",
       "\n",
       "    .dataframe thead th {\n",
       "        text-align: right;\n",
       "    }\n",
       "</style>\n",
       "<table border=\"1\" class=\"dataframe\">\n",
       "  <thead>\n",
       "    <tr style=\"text-align: right;\">\n",
       "      <th></th>\n",
       "      <th>Total</th>\n",
       "      <th>Missing</th>\n",
       "      <th>Present</th>\n",
       "    </tr>\n",
       "  </thead>\n",
       "  <tbody>\n",
       "    <tr>\n",
       "      <th>PMID</th>\n",
       "      <td>35983</td>\n",
       "      <td>0</td>\n",
       "      <td>35983</td>\n",
       "    </tr>\n",
       "    <tr>\n",
       "      <th>Book Accession</th>\n",
       "      <td>35983</td>\n",
       "      <td>0</td>\n",
       "      <td>35983</td>\n",
       "    </tr>\n",
       "    <tr>\n",
       "      <th>Publisher</th>\n",
       "      <td>35983</td>\n",
       "      <td>0</td>\n",
       "      <td>35983</td>\n",
       "    </tr>\n",
       "    <tr>\n",
       "      <th>BookTitle</th>\n",
       "      <td>35983</td>\n",
       "      <td>147</td>\n",
       "      <td>35836</td>\n",
       "    </tr>\n",
       "    <tr>\n",
       "      <th>Title</th>\n",
       "      <td>35983</td>\n",
       "      <td>11897</td>\n",
       "      <td>24086</td>\n",
       "    </tr>\n",
       "    <tr>\n",
       "      <th>Abstract</th>\n",
       "      <td>35983</td>\n",
       "      <td>2378</td>\n",
       "      <td>33605</td>\n",
       "    </tr>\n",
       "    <tr>\n",
       "      <th>Authors</th>\n",
       "      <td>35983</td>\n",
       "      <td>0</td>\n",
       "      <td>35983</td>\n",
       "    </tr>\n",
       "    <tr>\n",
       "      <th>PublicationDate</th>\n",
       "      <td>35983</td>\n",
       "      <td>0</td>\n",
       "      <td>35983</td>\n",
       "    </tr>\n",
       "    <tr>\n",
       "      <th>Language</th>\n",
       "      <td>35983</td>\n",
       "      <td>0</td>\n",
       "      <td>35983</td>\n",
       "    </tr>\n",
       "    <tr>\n",
       "      <th>Keywords</th>\n",
       "      <td>35983</td>\n",
       "      <td>27387</td>\n",
       "      <td>8596</td>\n",
       "    </tr>\n",
       "  </tbody>\n",
       "</table>\n",
       "</div>"
      ],
      "text/plain": [
       "                 Total  Missing  Present\n",
       "PMID             35983        0    35983\n",
       "Book Accession   35983        0    35983\n",
       "Publisher        35983        0    35983\n",
       "BookTitle        35983      147    35836\n",
       "Title            35983    11897    24086\n",
       "Abstract         35983     2378    33605\n",
       "Authors          35983        0    35983\n",
       "PublicationDate  35983        0    35983\n",
       "Language         35983        0    35983\n",
       "Keywords         35983    27387     8596"
      ]
     },
     "execution_count": 42,
     "metadata": {},
     "output_type": "execute_result"
    }
   ],
   "source": [
    "df_bookarticles"
   ]
  },
  {
   "cell_type": "code",
   "execution_count": null,
   "id": "d335a450-7de5-4cef-a355-79dc292f4ca4",
   "metadata": {},
   "outputs": [],
   "source": []
  }
 ],
 "metadata": {
  "kernelspec": {
   "display_name": "Python 3 (ipykernel)",
   "language": "python",
   "name": "python3"
  },
  "language_info": {
   "codemirror_mode": {
    "name": "ipython",
    "version": 3
   },
   "file_extension": ".py",
   "mimetype": "text/x-python",
   "name": "python",
   "nbconvert_exporter": "python",
   "pygments_lexer": "ipython3",
   "version": "3.12.7"
  }
 },
 "nbformat": 4,
 "nbformat_minor": 5
}
