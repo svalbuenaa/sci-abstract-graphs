{
 "cells": [
  {
   "cell_type": "code",
   "execution_count": 1,
   "id": "06a810e9-b076-4aac-834d-cf946ab6af0a",
   "metadata": {},
   "outputs": [],
   "source": [
    "import pandas as pd\n",
    "import time\n",
    "import os\n",
    "from parsingFunctions import parseXML\n",
    "pd.set_option('display.max_rows', 500)"
   ]
  },
  {
   "cell_type": "code",
   "execution_count": 2,
   "id": "df343344-305e-4352-8ac0-4531e8633677",
   "metadata": {},
   "outputs": [
    {
     "name": "stdin",
     "output_type": "stream",
     "text": [
      " E:\\PMIDsParsingXMLs1MPapers\\\n"
     ]
    }
   ],
   "source": [
    "XML_dir = input()"
   ]
  },
  {
   "cell_type": "code",
   "execution_count": null,
   "id": "69454c19-4443-4f7f-80fa-8ce76872fb4f",
   "metadata": {},
   "outputs": [],
   "source": [
    "DF_output = input()"
   ]
  },
  {
   "cell_type": "code",
   "execution_count": 3,
   "id": "46d5f60c-7ce8-4a5c-b606-4698bacd78a9",
   "metadata": {},
   "outputs": [],
   "source": [
    "XML_file = os.listdir(XML_dir)"
   ]
  },
  {
   "cell_type": "code",
   "execution_count": null,
   "id": "436b18e0-bf11-4ab7-90a8-f0bd486551fc",
   "metadata": {},
   "outputs": [],
   "source": [
    "temp_XML_output = []\n",
    "\n",
    "start = time.time()\n",
    "parseXML(XML_dir, XML_file, temp_XML_output)\n",
    "print(time.time()-start)"
   ]
  },
  {
   "cell_type": "code",
   "execution_count": null,
   "id": "af37cafe-14dd-4479-a923-abebdd5ff99a",
   "metadata": {},
   "outputs": [],
   "source": [
    "df = pd.DataFrame(temp_XML_output)\n",
    "df.head(5)"
   ]
  }
 ],
 "metadata": {
  "kernelspec": {
   "display_name": "Python 3 (ipykernel)",
   "language": "python",
   "name": "python3"
  },
  "language_info": {
   "codemirror_mode": {
    "name": "ipython",
    "version": 3
   },
   "file_extension": ".py",
   "mimetype": "text/x-python",
   "name": "python",
   "nbconvert_exporter": "python",
   "pygments_lexer": "ipython3",
   "version": "3.12.7"
  }
 },
 "nbformat": 4,
 "nbformat_minor": 5
}
