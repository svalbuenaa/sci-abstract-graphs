{
 "cells": [
  {
   "cell_type": "code",
   "execution_count": 1,
   "id": "b7714945-a580-47f3-9553-edaa4c2fc81f",
   "metadata": {},
   "outputs": [],
   "source": [
    "import time\n",
    "import os\n",
    "from parsingFunctions import parseXML\n",
    "from parsingFunctions import findPMIDInXML\n",
    "import pandas as pd\n",
    "pd.set_option('display.max_rows', 500)"
   ]
  },
  {
   "cell_type": "code",
   "execution_count": 8,
   "id": "dce93896-e719-4296-af95-c3c316635a74",
   "metadata": {},
   "outputs": [
    {
     "name": "stdin",
     "output_type": "stream",
     "text": [
      " E:\\sciAbstractsProject_XMLs\\pmids_until_19991231\\\n"
     ]
    }
   ],
   "source": [
    "XML_dir = input()"
   ]
  },
  {
   "cell_type": "code",
   "execution_count": 9,
   "id": "3ec2c899-02ad-4c96-a3f1-a533871a91d4",
   "metadata": {},
   "outputs": [
    {
     "name": "stdin",
     "output_type": "stream",
     "text": [
      " E:\\sciAbstractsProject_parsedDFs\\pmids_until_19991231.csv\n"
     ]
    }
   ],
   "source": [
    "DF_output = input()"
   ]
  },
  {
   "cell_type": "code",
   "execution_count": 10,
   "id": "503216eb-4a77-4b8e-b9fe-afb4307c9474",
   "metadata": {},
   "outputs": [],
   "source": [
    "XML_dir_content = os.listdir(XML_dir)"
   ]
  },
  {
   "cell_type": "code",
   "execution_count": 11,
   "id": "3c0f7f26-66cd-49ef-92be-89213b3f91b2",
   "metadata": {},
   "outputs": [],
   "source": [
    "XML_numbers = []\n",
    "XML_file = []\n",
    "        \n",
    "for XML in range(len(XML_dir_content)):\n",
    "    XML_numbers.append(int(XML_dir_content[XML][:-4]))\n",
    "        \n",
    "XML_numbers.sort()\n",
    "\n",
    "for number in range(len(XML_numbers)):\n",
    "    XML_file.append(str(XML_numbers[number]) + \".txt\")"
   ]
  },
  {
   "cell_type": "code",
   "execution_count": 12,
   "id": "21435b38-2f97-42fe-9d65-3ffa055ba1f7",
   "metadata": {},
   "outputs": [
    {
     "name": "stdout",
     "output_type": "stream",
     "text": [
      "Currently parsing article: 0/13588400\n",
      "Currently parsing article: 100000/13588400\n",
      "Currently parsing article: 200000/13588400\n",
      "Currently parsing article: 300000/13588400\n",
      "Currently parsing article: 400000/13588400\n",
      "Currently parsing article: 500000/13588400\n",
      "Currently parsing article: 600000/13588400\n",
      "Currently parsing article: 700000/13588400\n",
      "Currently parsing article: 800000/13588400\n",
      "Currently parsing article: 900000/13588400\n",
      "Currently parsing article: 1000000/13588400\n",
      "Currently parsing article: 1100000/13588400\n",
      "Currently parsing article: 1200000/13588400\n",
      "Currently parsing article: 1300000/13588400\n",
      "Currently parsing article: 1400000/13588400\n",
      "Currently parsing article: 1500000/13588400\n",
      "Currently parsing article: 1600000/13588400\n",
      "Currently parsing article: 1700000/13588400\n",
      "Currently parsing article: 1800000/13588400\n",
      "Currently parsing article: 1900000/13588400\n",
      "Currently parsing article: 2000000/13588400\n",
      "Currently parsing article: 2100000/13588400\n",
      "Currently parsing article: 2200000/13588400\n",
      "Currently parsing article: 2300000/13588400\n",
      "Currently parsing article: 2400000/13588400\n",
      "Currently parsing article: 2500000/13588400\n",
      "Currently parsing article: 2600000/13588400\n",
      "Currently parsing article: 2700000/13588400\n",
      "Currently parsing article: 2800000/13588400\n",
      "Currently parsing article: 2900000/13588400\n",
      "Currently parsing article: 3000000/13588400\n",
      "Currently parsing article: 3100000/13588400\n",
      "Currently parsing article: 3200000/13588400\n",
      "Currently parsing article: 3300000/13588400\n",
      "Currently parsing article: 3400000/13588400\n",
      "Currently parsing article: 3500000/13588400\n",
      "Currently parsing article: 3600000/13588400\n",
      "Currently parsing article: 3700000/13588400\n",
      "Currently parsing article: 3800000/13588400\n",
      "Currently parsing article: 3900000/13588400\n",
      "Currently parsing article: 4000000/13588400\n",
      "Currently parsing article: 4100000/13588400\n",
      "Currently parsing article: 4200000/13588400\n",
      "Currently parsing article: 4300000/13588400\n",
      "Currently parsing article: 4400000/13588400\n",
      "Currently parsing article: 4500000/13588400\n",
      "Currently parsing article: 4600000/13588400\n",
      "Currently parsing article: 4700000/13588400\n",
      "Currently parsing article: 4800000/13588400\n",
      "Currently parsing article: 4900000/13588400\n",
      "Currently parsing article: 5000000/13588400\n",
      "Currently parsing article: 5100000/13588400\n",
      "Currently parsing article: 5200000/13588400\n",
      "Currently parsing article: 5300000/13588400\n",
      "Currently parsing article: 5400000/13588400\n",
      "Currently parsing article: 5500000/13588400\n",
      "Currently parsing article: 5600000/13588400\n",
      "Currently parsing article: 5700000/13588400\n",
      "Currently parsing article: 5800000/13588400\n",
      "Currently parsing article: 5900000/13588400\n",
      "Currently parsing article: 6000000/13588400\n",
      "Currently parsing article: 6100000/13588400\n",
      "Currently parsing article: 6200000/13588400\n",
      "Currently parsing article: 6300000/13588400\n",
      "Currently parsing article: 6400000/13588400\n",
      "Currently parsing article: 6500000/13588400\n",
      "Currently parsing article: 6600000/13588400\n",
      "Currently parsing article: 6700000/13588400\n",
      "Currently parsing article: 6800000/13588400\n",
      "Currently parsing article: 6900000/13588400\n",
      "Currently parsing article: 7000000/13588400\n",
      "Currently parsing article: 7100000/13588400\n",
      "Currently parsing article: 7200000/13588400\n",
      "Currently parsing article: 7300000/13588400\n",
      "Currently parsing article: 7400000/13588400\n",
      "Currently parsing article: 7500000/13588400\n",
      "Currently parsing article: 7600000/13588400\n",
      "Currently parsing article: 7700000/13588400\n",
      "Currently parsing article: 7800000/13588400\n",
      "Currently parsing article: 7900000/13588400\n",
      "Currently parsing article: 8000000/13588400\n",
      "Currently parsing article: 8100000/13588400\n",
      "Currently parsing article: 8200000/13588400\n",
      "Currently parsing article: 8300000/13588400\n",
      "Currently parsing article: 8400000/13588400\n",
      "Currently parsing article: 8500000/13588400\n",
      "Currently parsing article: 8600000/13588400\n",
      "Currently parsing article: 8700000/13588400\n",
      "Currently parsing article: 8800000/13588400\n",
      "Currently parsing article: 8900000/13588400\n",
      "Currently parsing article: 9000000/13588400\n",
      "Currently parsing article: 9100000/13588400\n",
      "Currently parsing article: 9200000/13588400\n",
      "Currently parsing article: 9300000/13588400\n",
      "Currently parsing article: 9400000/13588400\n",
      "Currently parsing article: 9500000/13588400\n",
      "Currently parsing article: 9600000/13588400\n",
      "Currently parsing article: 9700000/13588400\n",
      "Currently parsing article: 9800000/13588400\n",
      "Currently parsing article: 9900000/13588400\n",
      "Currently parsing article: 10000000/13588400\n",
      "Currently parsing article: 10100000/13588400\n",
      "10135800.txt not parsed\n",
      "Currently parsing article: 10200000/13588400\n",
      "Currently parsing article: 10300000/13588400\n",
      "Currently parsing article: 10400000/13588400\n",
      "Currently parsing article: 10500000/13588400\n",
      "Currently parsing article: 10600000/13588400\n",
      "Currently parsing article: 10700000/13588400\n",
      "Currently parsing article: 10800000/13588400\n",
      "10896800.txt not parsed\n",
      "Currently parsing article: 10900000/13588400\n",
      "Currently parsing article: 11000000/13588400\n",
      "Currently parsing article: 11100000/13588400\n",
      "Currently parsing article: 11200000/13588400\n",
      "Currently parsing article: 11300000/13588400\n",
      "Currently parsing article: 11400000/13588400\n",
      "Currently parsing article: 11500000/13588400\n",
      "Currently parsing article: 11600000/13588400\n",
      "Currently parsing article: 11700000/13588400\n",
      "Currently parsing article: 11800000/13588400\n",
      "Currently parsing article: 11900000/13588400\n",
      "Currently parsing article: 12000000/13588400\n",
      "Currently parsing article: 12100000/13588400\n",
      "Currently parsing article: 12200000/13588400\n",
      "Currently parsing article: 12300000/13588400\n",
      "Currently parsing article: 12400000/13588400\n",
      "Currently parsing article: 12500000/13588400\n",
      "Currently parsing article: 12600000/13588400\n",
      "Currently parsing article: 12700000/13588400\n",
      "Currently parsing article: 12800000/13588400\n",
      "Currently parsing article: 12900000/13588400\n",
      "Currently parsing article: 13000000/13588400\n",
      "Currently parsing article: 13100000/13588400\n",
      "Currently parsing article: 13200000/13588400\n",
      "Currently parsing article: 13300000/13588400\n",
      "Currently parsing article: 13400000/13588400\n",
      "Currently parsing article: 13500000/13588400\n",
      "Last XML file parsed\n",
      "Parsing time: 7425.73 seconds\n"
     ]
    }
   ],
   "source": [
    "parsed_XML_output = []\n",
    "not_parsed_XML_files = []\n",
    "current_parsing_XML = ''\n",
    "\n",
    "start = time.time()\n",
    "parseXML(XML_dir, XML_file, parsed_XML_output, not_parsed_XML_files, current_parsing_XML, DF_output)\n",
    "print(\"Parsing time: \" + str(round(time.time()-start,2)) + \" seconds\")"
   ]
  },
  {
   "cell_type": "code",
   "execution_count": 13,
   "id": "78388482-25e1-44e3-9727-57838a531d34",
   "metadata": {},
   "outputs": [
    {
     "data": {
      "text/plain": [
       "['10135800.txt', '10896800.txt']"
      ]
     },
     "execution_count": 13,
     "metadata": {},
     "output_type": "execute_result"
    }
   ],
   "source": [
    "not_parsed_XML_files"
   ]
  },
  {
   "cell_type": "code",
   "execution_count": null,
   "id": "dee9cd4f-ce5e-4622-9dd0-e28997caa30d",
   "metadata": {},
   "outputs": [],
   "source": []
  }
 ],
 "metadata": {
  "kernelspec": {
   "display_name": "Python 3 (ipykernel)",
   "language": "python",
   "name": "python3"
  },
  "language_info": {
   "codemirror_mode": {
    "name": "ipython",
    "version": 3
   },
   "file_extension": ".py",
   "mimetype": "text/x-python",
   "name": "python",
   "nbconvert_exporter": "python",
   "pygments_lexer": "ipython3",
   "version": "3.12.7"
  }
 },
 "nbformat": 4,
 "nbformat_minor": 5
}
