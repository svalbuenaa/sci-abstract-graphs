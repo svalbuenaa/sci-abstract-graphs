{
 "cells": [
  {
   "cell_type": "code",
   "execution_count": 1,
   "id": "06a810e9-b076-4aac-834d-cf946ab6af0a",
   "metadata": {},
   "outputs": [],
   "source": [
    "import pandas as pd\n",
    "import xml.etree.ElementTree as ET"
   ]
  },
  {
   "cell_type": "code",
   "execution_count": null,
   "id": "df343344-305e-4352-8ac0-4531e8633677",
   "metadata": {},
   "outputs": [],
   "source": [
    "XML_input = input() "
   ]
  },
  {
   "cell_type": "code",
   "execution_count": null,
   "id": "69454c19-4443-4f7f-80fa-8ce76872fb4f",
   "metadata": {},
   "outputs": [],
   "source": [
    "DF_output = input()"
   ]
  },
  {
   "cell_type": "code",
   "execution_count": null,
   "id": "971b0592-18d2-424f-abbc-3140930445ca",
   "metadata": {},
   "outputs": [],
   "source": [
    "tree = ET.parse(XML_input)\n",
    "root = tree.getroot()"
   ]
  },
  {
   "cell_type": "code",
   "execution_count": null,
   "id": "d35ea893-1b43-4fd4-ad1d-f3908948abba",
   "metadata": {},
   "outputs": [],
   "source": [
    "data = []\n",
    "for node in root:\n",
    "    article_data = {}\n",
    "    if node.tag == 'PubmedArticle':\n",
    "        article_data['Type'] = 'Article'\n",
    "    elif node.tag == 'PubmedBookArticle':\n",
    "        article_data['Type'] = 'Book Article'\n",
    "    else:\n",
    "        continue\n",
    "\n",
    "    pmid_node = node.find('./MedlineCitation/PMID')\n",
    "    article_data['PMID'] = pmid_node.text.strip() if pmid_node is not None else None\n",
    "\n",
    "    journal_node = node.find('./MedlineCitation/Article/Journal/Title')\n",
    "    article_data['Journal'] = journal_node.text.strip() if journal_node is not None else None\n",
    "\n",
    "    article_title_node = node.find('./MedlineCitation/Article/ArticleTitle')\n",
    "    article_data['ArticleTitle'] = article_title_node.text.strip() if article_title_node is not None else None\n",
    "\n",
    "    abstract_node = node.find('./MedlineCitation/Article/Abstract')\n",
    "    if abstract_node is not None:\n",
    "        abstract_text = ''\n",
    "        for elem in abstract_node.iter():\n",
    "            if elem.text:\n",
    "                abstract_text += elem.text.strip() + ' '\n",
    "        article_data['Abstract'] = abstract_text.strip()\n",
    "    else:\n",
    "        article_data['Abstract'] = None\n",
    "\n",
    "    authors = []\n",
    "    for author in node.findall('./MedlineCitation/Article/AuthorList/Author'):\n",
    "        author_info = {}\n",
    "        forename_node = author.find('./ForeName')\n",
    "        lastname_node = author.find('./LastName')\n",
    "        if forename_node is not None and lastname_node is not None:\n",
    "            author_info['Name'] = forename_node.text.strip() + ' ' + lastname_node.text.strip()\n",
    "        else:\n",
    "            continue\n",
    "\n",
    "        affiliations = []\n",
    "        for affiliation in author.findall('./AffiliationInfo/Affiliation'):\n",
    "            affiliations.append(affiliation.text.strip())\n",
    "\n",
    "        author_info['Affiliation'] = affiliations\n",
    "        authors.append(author_info)\n",
    "\n",
    "    article_data['Authors'] = authors\n",
    "\n",
    "    mesh_headings = []\n",
    "    for mesh_heading in node.findall('./MedlineCitation/MeshHeadingList/MeshHeading'):\n",
    "        descriptor_name = mesh_heading.find('./DescriptorName').text.strip()\n",
    "        mesh_headings.append(descriptor_name)\n",
    "    article_data['MeshHeadings'] = ', '.join(mesh_headings) if mesh_headings else None\n",
    "\n",
    "    chemicals = []\n",
    "    for chemical in node.findall('./MedlineCitation/ChemicalList/Chemical'):\n",
    "        chemical_name = chemical.find('./NameOfSubstance').text.strip()\n",
    "        chemicals.append(chemical_name)\n",
    "    article_data['Chemicals'] = ', '.join(chemicals) if chemicals else None\n",
    "\n",
    "    publication_types = []\n",
    "    for publication_type in node.findall('./MedlineCitation/Article/PublicationTypeList/PublicationType'):\n",
    "        publication_types.append(publication_type.text.strip())\n",
    "    article_data['PublicationTypes'] = ', '.join(publication_types) if publication_types else None\n",
    "\n",
    "    pub_date_node = node.find('./MedlineCitation/Article/Journal/JournalIssue/PubDate/Year')\n",
    "    if pub_date_node is not None:\n",
    "        article_data['PublicationDate'] = pub_date_node.text.strip()\n",
    "    else:\n",
    "        article_data['PublicationDate'] = None\n",
    "\n",
    "    language_node = node.find('./MedlineCitation/Article/Language')\n",
    "    article_data['Language'] = language_node.text.strip() if language_node is not None else None\n",
    "\n",
    "    keywords = []\n",
    "    for keyword in node.findall('./MedlineCitation/KeywordList/Keyword'):\n",
    "        keywords.append(keyword.text.strip())\n",
    "    article_data['Keywords'] = ', '.join(keywords) if keywords else None\n",
    "\n",
    "    data.append(article_data)"
   ]
  },
  {
   "cell_type": "code",
   "execution_count": null,
   "id": "767e5c0f-dda8-4a16-b257-73ef764ce5bb",
   "metadata": {},
   "outputs": [],
   "source": [
    "df = pd.DataFrame(data)"
   ]
  },
  {
   "cell_type": "code",
   "execution_count": null,
   "id": "787e86dc-6734-4164-9669-f15d6e6a28a6",
   "metadata": {},
   "outputs": [],
   "source": [
    "df.to_csv(\"second extraction, full affiliation.csv\")"
   ]
  }
 ],
 "metadata": {
  "kernelspec": {
   "display_name": "Python 3 (ipykernel)",
   "language": "python",
   "name": "python3"
  },
  "language_info": {
   "codemirror_mode": {
    "name": "ipython",
    "version": 3
   },
   "file_extension": ".py",
   "mimetype": "text/x-python",
   "name": "python",
   "nbconvert_exporter": "python",
   "pygments_lexer": "ipython3",
   "version": "3.12.7"
  }
 },
 "nbformat": 4,
 "nbformat_minor": 5
}
