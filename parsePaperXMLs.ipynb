{
 "cells": [
  {
   "cell_type": "code",
   "execution_count": 1,
   "id": "b7714945-a580-47f3-9553-edaa4c2fc81f",
   "metadata": {},
   "outputs": [],
   "source": [
    "import time\n",
    "import os\n",
    "from parsingFunctions import parseXML\n",
    "from parsingFunctions import findPMIDInXML\n",
    "import pandas as pd\n",
    "pd.set_option('display.max_rows', 500)"
   ]
  },
  {
   "cell_type": "code",
   "execution_count": 2,
   "id": "dce93896-e719-4296-af95-c3c316635a74",
   "metadata": {},
   "outputs": [
    {
     "name": "stdin",
     "output_type": "stream",
     "text": [
      " E:\\sciAbstractsProject_XMLs\\not_parsed_first_round\\\n"
     ]
    }
   ],
   "source": [
    "XML_dir = input()"
   ]
  },
  {
   "cell_type": "code",
   "execution_count": 3,
   "id": "3ec2c899-02ad-4c96-a3f1-a533871a91d4",
   "metadata": {},
   "outputs": [
    {
     "name": "stdin",
     "output_type": "stream",
     "text": [
      "  E:\\sciAbstractsProject_parsedDFs\\not_parsed_first_round.csv\n"
     ]
    }
   ],
   "source": [
    "DF_output = input()"
   ]
  },
  {
   "cell_type": "code",
   "execution_count": 4,
   "id": "503216eb-4a77-4b8e-b9fe-afb4307c9474",
   "metadata": {},
   "outputs": [],
   "source": [
    "XML_dir_content = os.listdir(XML_dir)"
   ]
  },
  {
   "cell_type": "code",
   "execution_count": 5,
   "id": "3c0f7f26-66cd-49ef-92be-89213b3f91b2",
   "metadata": {},
   "outputs": [],
   "source": [
    "XML_numbers = []\n",
    "XML_file = []\n",
    "        \n",
    "for XML in range(len(XML_dir_content)):\n",
    "    XML_numbers.append(int(XML_dir_content[XML][:-4]))\n",
    "        \n",
    "XML_numbers.sort()\n",
    "\n",
    "for number in range(len(XML_numbers)):\n",
    "    XML_file.append(str(XML_numbers[number]) + \".txt\")"
   ]
  },
  {
   "cell_type": "code",
   "execution_count": 6,
   "id": "21435b38-2f97-42fe-9d65-3ffa055ba1f7",
   "metadata": {},
   "outputs": [
    {
     "name": "stdout",
     "output_type": "stream",
     "text": [
      "451400.txt not parsed\n",
      "2721000.txt not parsed\n",
      "3843600.txt not parsed\n",
      "4216400.txt not parsed\n",
      "4801600.txt not parsed\n",
      "5370800.txt not parsed\n",
      "6472200.txt not parsed\n",
      "6474800.txt not parsed\n",
      "6510800.txt not parsed\n",
      "8436200.txt not parsed\n",
      "8829000.txt not parsed\n",
      "8833200.txt not parsed\n",
      "8904600.txt not parsed\n",
      "8939200.txt not parsed\n",
      "8947600.txt not parsed\n",
      "8954600.txt not parsed\n",
      "9070400.txt not parsed\n",
      "9108000.txt not parsed\n",
      "10135800.txt not parsed\n",
      "10896800.txt not parsed\n",
      "Parsing time: 0.63 seconds\n"
     ]
    }
   ],
   "source": [
    "parsed_XML_output = []\n",
    "not_parsed_XML_files = []\n",
    "current_parsing_XML = ''\n",
    "\n",
    "start = time.time()\n",
    "parseXML(XML_dir, XML_file, parsed_XML_output, not_parsed_XML_files, current_parsing_XML, DF_output)\n",
    "print(\"Parsing time: \" + str(round(time.time()-start,2)) + \" seconds\")"
   ]
  },
  {
   "cell_type": "code",
   "execution_count": 8,
   "id": "78388482-25e1-44e3-9727-57838a531d34",
   "metadata": {},
   "outputs": [
    {
     "data": {
      "text/plain": [
       "[]"
      ]
     },
     "execution_count": 8,
     "metadata": {},
     "output_type": "execute_result"
    }
   ],
   "source": [
    "not_parsed_XML_files"
   ]
  },
  {
   "cell_type": "code",
   "execution_count": null,
   "id": "dee9cd4f-ce5e-4622-9dd0-e28997caa30d",
   "metadata": {},
   "outputs": [],
   "source": []
  }
 ],
 "metadata": {
  "kernelspec": {
   "display_name": "Python 3 (ipykernel)",
   "language": "python",
   "name": "python3"
  },
  "language_info": {
   "codemirror_mode": {
    "name": "ipython",
    "version": 3
   },
   "file_extension": ".py",
   "mimetype": "text/x-python",
   "name": "python",
   "nbconvert_exporter": "python",
   "pygments_lexer": "ipython3",
   "version": "3.12.7"
  }
 },
 "nbformat": 4,
 "nbformat_minor": 5
}
