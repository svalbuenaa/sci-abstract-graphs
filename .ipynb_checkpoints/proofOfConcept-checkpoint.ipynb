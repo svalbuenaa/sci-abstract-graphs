{
 "cells": [
  {
   "cell_type": "code",
   "execution_count": 21,
   "id": "1c581ad9-0390-4f6f-a6d4-1aa6d8d5821c",
   "metadata": {},
   "outputs": [],
   "source": [
    "import networkx as nx"
   ]
  },
  {
   "cell_type": "code",
   "execution_count": 24,
   "id": "ee9101dc-31aa-439d-9e39-d59a0057f911",
   "metadata": {},
   "outputs": [],
   "source": [
    "sentences = [\n",
    "    'Memory engram mouse LTP',\n",
    "    'Memory amnesia disease injury',\n",
    "    'spatial memory LTP CA1'\n",
    "]\n",
    "\n",
    "sentences_split = []\n",
    "\n",
    "for el in range(0, len(sentences)):\n",
    "    sentences_split.append(sentences[el].lower().split())"
   ]
  },
  {
   "cell_type": "code",
   "execution_count": 25,
   "id": "02147baa-4b86-4aae-8fdc-02425b86013d",
   "metadata": {},
   "outputs": [
    {
     "data": {
      "text/plain": [
       "[['memory', 'engram', 'mouse', 'ltp'],\n",
       " ['memory', 'amnesia', 'disease', 'injury'],\n",
       " ['spatial', 'memory', 'ltp', 'ca1']]"
      ]
     },
     "execution_count": 25,
     "metadata": {},
     "output_type": "execute_result"
    }
   ],
   "source": [
    "sentences_split"
   ]
  },
  {
   "cell_type": "code",
   "execution_count": 22,
   "id": "38ebfec2-db6b-4d67-8b7b-4afb9a0d2491",
   "metadata": {},
   "outputs": [],
   "source": [
    "G = nx.Graph()"
   ]
  },
  {
   "cell_type": "code",
   "execution_count": 26,
   "id": "4849a0e9-d77d-4516-aa0a-e76f77a7fb67",
   "metadata": {},
   "outputs": [],
   "source": [
    "for sentence in sentences_split:\n",
    "    for word in sentence:\n",
    "        if word not in G.nodes:\n",
    "            G.add_node(word)"
   ]
  },
  {
   "cell_type": "code",
   "execution_count": 27,
   "id": "6c1ced37-e81d-4ec4-a9da-0c28c98b4645",
   "metadata": {},
   "outputs": [
    {
     "data": {
      "text/plain": [
       "NodeView(('memory', 'engram', 'mouse', 'ltp', 'amnesia', 'disease', 'injury', 'spatial', 'ca1'))"
      ]
     },
     "execution_count": 27,
     "metadata": {},
     "output_type": "execute_result"
    }
   ],
   "source": [
    "G.nodes"
   ]
  },
  {
   "cell_type": "code",
   "execution_count": null,
   "id": "4d741350-e106-429d-a0de-962d8332b799",
   "metadata": {},
   "outputs": [],
   "source": []
  }
 ],
 "metadata": {
  "kernelspec": {
   "display_name": "Python 3 (ipykernel)",
   "language": "python",
   "name": "python3"
  },
  "language_info": {
   "codemirror_mode": {
    "name": "ipython",
    "version": 3
   },
   "file_extension": ".py",
   "mimetype": "text/x-python",
   "name": "python",
   "nbconvert_exporter": "python",
   "pygments_lexer": "ipython3",
   "version": "3.12.7"
  }
 },
 "nbformat": 4,
 "nbformat_minor": 5
}
