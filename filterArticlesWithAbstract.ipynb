{
 "cells": [
  {
   "cell_type": "code",
   "execution_count": 13,
   "id": "8e204e7c-1c32-4b6f-bf19-9633ec0cdbe6",
   "metadata": {},
   "outputs": [],
   "source": [
    "import pandas as pd\n",
    "import matplotlib.pyplot as plt\n",
    "import os\n",
    "import warnings\n",
    "\n",
    "# DType warning when importing .csv files with parsed PMIDs. Avoid showing the warning\n",
    "warnings.simplefilter(action='ignore', category=pd.errors.DtypeWarning)\n",
    "warnings.simplefilter(action='ignore', category=pd.errors.SettingWithCopyWarning)"
   ]
  },
  {
   "cell_type": "code",
   "execution_count": 14,
   "id": "30824517-bc5e-4df4-a3da-8bf67c7e6fff",
   "metadata": {},
   "outputs": [
    {
     "name": "stdin",
     "output_type": "stream",
     "text": [
      " E:\\sciAbstractsProject_parsedDFs\\\n"
     ]
    }
   ],
   "source": [
    "parsedDFs_input = input().strip()"
   ]
  },
  {
   "cell_type": "code",
   "execution_count": 15,
   "id": "505314f8-afce-4ad2-8237-e49f195a041f",
   "metadata": {},
   "outputs": [
    {
     "name": "stdin",
     "output_type": "stream",
     "text": [
      " E:\\sciAbstractsProject_filteredDFs\\\n"
     ]
    }
   ],
   "source": [
    "filteredDFs_output = input().strip()"
   ]
  },
  {
   "cell_type": "code",
   "execution_count": 49,
   "id": "5fe23779-42d4-480a-8da3-f2e915b8de29",
   "metadata": {},
   "outputs": [],
   "source": [
    "# Extract and add names of files in directories containing .csv files to a list, keep only .csv files\n",
    "parsed_DFs = []\n",
    "for root, dirs, files in os.walk(parsedDFs_input):\n",
    "        for file in files:\n",
    "            if file[-4:] == \".csv\":\n",
    "                parsed_DFs.append(os.path.join(root, file))"
   ]
  },
  {
   "cell_type": "code",
   "execution_count": 50,
   "id": "e6b2529b-7f98-446e-b818-b0def58e3df0",
   "metadata": {},
   "outputs": [],
   "source": [
    "columns_keep = ['Type', 'PMID', 'DOI', 'Journal', 'Title', 'Abstract', 'Authors',\n",
    "       'MeshHeadings', 'Chemicals', 'PublicationTypes', 'PublicationDate',\n",
    "       'Language', 'Keywords', 'Book Accession', 'Publisher', 'BookTitle']\n",
    "\n",
    "columns_keep_no_bookarticles = ['Type', 'PMID', 'DOI', 'Journal', 'Title', 'Abstract', 'Authors',\n",
    "       'MeshHeadings', 'Chemicals', 'PublicationTypes', 'PublicationDate',\n",
    "       'Language', 'Keywords']"
   ]
  },
  {
   "cell_type": "code",
   "execution_count": 51,
   "id": "6cf56930-9bbe-4065-b59b-22178cc38ccb",
   "metadata": {},
   "outputs": [],
   "source": [
    "df_filtered = []\n",
    "parsed_csvs = []"
   ]
  },
  {
   "cell_type": "code",
   "execution_count": null,
   "id": "d740e534-b404-4cc8-bb2a-44d04f6a1cff",
   "metadata": {},
   "outputs": [
    {
     "name": "stdout",
     "output_type": "stream",
     "text": [
      "Parsing csv: E:\\sciAbstractsProject_parsedDFs\\not_parsed_first_round_8400.csv (1/383)\n",
      "Parsing csv: E:\\sciAbstractsProject_parsedDFs\\not_parsed_third_round_52200.csv (2/383)\n"
     ]
    }
   ],
   "source": [
    "for csv in parsed_DFs:\n",
    "    print(\"Parsing csv: \" + csv + \" (\" + str(parsed_DFs.index(csv)+1) + \"/\" + str(len(parsed_DFs)) + \")\")\n",
    "    temp_df = pd.read_csv(csv)\n",
    "    try:\n",
    "        temp_df = temp_df[columns_keep]\n",
    "    except KeyError:\n",
    "        temp_df = temp_df[columns_keep_no_bookarticles]\n",
    "    temp_df = temp_df.loc[temp_df[\"Abstract\"].notna()]\n",
    "    df_filtered.append(temp_df)\n",
    "    if len(df_filtered) % 50 == 0:\n",
    "        df_save = pd.concat(df_filtered)\n",
    "        df_save.to_csv(filteredDFs_output + \"articlesWithAbstract_intermediate.csv\")\n",
    "    parsed_csvs.append(csv)   \n",
    "    with open(filteredDFs_output + \"filtered_csvs.txt\", \"w\") as f:\n",
    "        for el in parsed_csvs:\n",
    "            f.write(el + \"\\n\")"
   ]
  },
  {
   "cell_type": "code",
   "execution_count": null,
   "id": "f14ad38d-8f9a-4bb6-8c84-3e64ace3fe1b",
   "metadata": {},
   "outputs": [],
   "source": []
  }
 ],
 "metadata": {
  "kernelspec": {
   "display_name": "Python 3 (ipykernel)",
   "language": "python",
   "name": "python3"
  },
  "language_info": {
   "codemirror_mode": {
    "name": "ipython",
    "version": 3
   },
   "file_extension": ".py",
   "mimetype": "text/x-python",
   "name": "python",
   "nbconvert_exporter": "python",
   "pygments_lexer": "ipython3",
   "version": "3.12.7"
  }
 },
 "nbformat": 4,
 "nbformat_minor": 5
}
