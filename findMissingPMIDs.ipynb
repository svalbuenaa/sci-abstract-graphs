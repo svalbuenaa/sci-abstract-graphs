{
 "cells": [
  {
   "cell_type": "code",
   "execution_count": null,
   "id": "66f8b496-3edc-4b5a-a07d-f994374a1fe9",
   "metadata": {},
   "outputs": [],
   "source": []
  },
  {
   "cell_type": "code",
   "execution_count": 2,
   "id": "279a9b58-aa97-4f5b-b3d8-d971d017619f",
   "metadata": {},
   "outputs": [
    {
     "name": "stdin",
     "output_type": "stream",
     "text": [
      " C:\\Users\\svalb\\OneDrive\\Escritorio\\\n"
     ]
    }
   ],
   "source": [
    "PMID_input = input()"
   ]
  },
  {
   "cell_type": "code",
   "execution_count": 21,
   "id": "5c613f47-0869-463c-87e6-ec472f164fd2",
   "metadata": {},
   "outputs": [],
   "source": [
    "with open(PMID_input+\"pmids_until_19991231.txt\") as file_pmids_until_19991231:\n",
    "    articles_pmids = [line.rstrip() for line in file_pmids_until_19991231]\n",
    "\n",
    "with open(PMID_input+\"pmids_20000101_until_20091231.txt\") as file_pmids_20000101_until_20091231:\n",
    "    articles_pmids_20000101_until_20091231 = [line.rstrip() for line in file_pmids_20000101_until_20091231]\n",
    "\n",
    "with open(PMID_input+\"pmids_20100101_until_20191231.txt\") as file_pmids_20100101_until_20191231:\n",
    "    articles_pmids_20100101_until_20191231 = [line.rstrip() for line in file_pmids_20100101_until_20191231]\n",
    "\n",
    "with open(PMID_input+\"pmids_20200101_until_20240701.txt\") as file_pmids_20200101_until_20240701:\n",
    "    articles_pmids_20200101_until_20240701 = [line.rstrip() for line in file_pmids_20200101_until_20240701]\n",
    "\n",
    "\n",
    "articles_pmids.extend(articles_pmids_20000101_until_20091231)\n",
    "articles_pmids.extend(articles_pmids_20100101_until_20191231)\n",
    "articles_pmids.extend(articles_pmids_20200101_until_20240701)"
   ]
  },
  {
   "cell_type": "code",
   "execution_count": 23,
   "id": "52a38020-1ddb-4f1c-93f9-c7eb736fe700",
   "metadata": {},
   "outputs": [
    {
     "data": {
      "text/plain": [
       "37845132"
      ]
     },
     "execution_count": 23,
     "metadata": {},
     "output_type": "execute_result"
    }
   ],
   "source": [
    "len(articles_pmids)"
   ]
  },
  {
   "cell_type": "code",
   "execution_count": null,
   "id": "a3cd9dbd-afca-4b8d-a61e-162487deccfb",
   "metadata": {},
   "outputs": [],
   "source": [
    "set_articles_pmids = set()\n",
    "duplicated_articles_pmids = []\n",
    "\n",
    "for pmid in articles_pmids:\n",
    "    if pmid in set_articles_pmids:\n",
    "        duplicated_articles_pmids.append(pmid)\n",
    "    else:\n",
    "        set_articles_pmids.add(pmid)"
   ]
  }
 ],
 "metadata": {
  "kernelspec": {
   "display_name": "Python 3 (ipykernel)",
   "language": "python",
   "name": "python3"
  },
  "language_info": {
   "codemirror_mode": {
    "name": "ipython",
    "version": 3
   },
   "file_extension": ".py",
   "mimetype": "text/x-python",
   "name": "python",
   "nbconvert_exporter": "python",
   "pygments_lexer": "ipython3",
   "version": "3.12.7"
  }
 },
 "nbformat": 4,
 "nbformat_minor": 5
}
