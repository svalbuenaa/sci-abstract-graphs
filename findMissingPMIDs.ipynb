{
 "cells": [
  {
   "cell_type": "code",
   "execution_count": 25,
   "id": "66f8b496-3edc-4b5a-a07d-f994374a1fe9",
   "metadata": {},
   "outputs": [],
   "source": [
    "import os\n",
    "import re\n",
    "import copy\n",
    "import pandas as pd\n",
    "import warnings\n",
    "\n",
    "# DType warning when importing .csv files with parsed PMIDs. Avoid showing the warning\n",
    "warnings.simplefilter(action='ignore', category=pd.errors.DtypeWarning)"
   ]
  },
  {
   "cell_type": "code",
   "execution_count": 26,
   "id": "279a9b58-aa97-4f5b-b3d8-d971d017619f",
   "metadata": {},
   "outputs": [
    {
     "name": "stdin",
     "output_type": "stream",
     "text": [
      " C:\\Users\\svalb\\OneDrive\\Escritorio\\\n"
     ]
    }
   ],
   "source": [
    "# Directory containing .txt files containing PMIDs\n",
    "PMID_input = input().strip()"
   ]
  },
  {
   "cell_type": "code",
   "execution_count": 27,
   "id": "01d3e933-5156-48df-bea9-73f3dbc86d9d",
   "metadata": {},
   "outputs": [
    {
     "name": "stdin",
     "output_type": "stream",
     "text": [
      " E:\\sciAbstractsProject_parsedDFs\\\n"
     ]
    }
   ],
   "source": [
    "# Directory containing .csv files with parsed articles from XMLs\n",
    "parsedDFs_input = input().strip()"
   ]
  },
  {
   "cell_type": "code",
   "execution_count": 28,
   "id": "5c613f47-0869-463c-87e6-ec472f164fd2",
   "metadata": {},
   "outputs": [],
   "source": [
    "# Combine all PMIDs in a single list\n",
    "with open(PMID_input+\"pmids_until_19991231.txt\") as file_pmids_until_19991231:\n",
    "    articles_pmids = [line.rstrip() for line in file_pmids_until_19991231]\n",
    "\n",
    "with open(PMID_input+\"pmids_20000101_until_20091231.txt\") as file_pmids_20000101_until_20091231:\n",
    "    articles_pmids_20000101_until_20091231 = [line.rstrip() for line in file_pmids_20000101_until_20091231]\n",
    "\n",
    "with open(PMID_input+\"pmids_20100101_until_20191231.txt\") as file_pmids_20100101_until_20191231:\n",
    "    articles_pmids_20100101_until_20191231 = [line.rstrip() for line in file_pmids_20100101_until_20191231]\n",
    "\n",
    "with open(PMID_input+\"pmids_20200101_until_20240701.txt\") as file_pmids_20200101_until_20240701:\n",
    "    articles_pmids_20200101_until_20240701 = [line.rstrip() for line in file_pmids_20200101_until_20240701]\n",
    "\n",
    "\n",
    "articles_pmids.extend(articles_pmids_20000101_until_20091231)\n",
    "articles_pmids.extend(articles_pmids_20100101_until_20191231)\n",
    "articles_pmids.extend(articles_pmids_20200101_until_20240701)"
   ]
  },
  {
   "cell_type": "code",
   "execution_count": 29,
   "id": "52a38020-1ddb-4f1c-93f9-c7eb736fe700",
   "metadata": {},
   "outputs": [
    {
     "data": {
      "text/plain": [
       "37845132"
      ]
     },
     "execution_count": 29,
     "metadata": {},
     "output_type": "execute_result"
    }
   ],
   "source": [
    "# Number of PMIDs\n",
    "len(articles_pmids)"
   ]
  },
  {
   "cell_type": "code",
   "execution_count": 30,
   "id": "a3cd9dbd-afca-4b8d-a61e-162487deccfb",
   "metadata": {},
   "outputs": [],
   "source": [
    "# Separate in unique and duplicates PMIDs\n",
    "unique_pmids = set()\n",
    "duplicated_pmids = []\n",
    "\n",
    "for pmid in articles_pmids:\n",
    "    if pmid in unique_pmids:\n",
    "        duplicated_pmids.append(pmid)\n",
    "    else:\n",
    "        unique_pmids.add(pmid)"
   ]
  },
  {
   "cell_type": "code",
   "execution_count": 31,
   "id": "48f3f709-d5e9-4771-97e3-08e92d81b4b2",
   "metadata": {},
   "outputs": [
    {
     "data": {
      "text/plain": [
       "37544208"
      ]
     },
     "execution_count": 31,
     "metadata": {},
     "output_type": "execute_result"
    }
   ],
   "source": [
    "# Number of unique PMIDs\n",
    "len(unique_pmids)"
   ]
  },
  {
   "cell_type": "code",
   "execution_count": 32,
   "id": "bd778aec-202e-4e68-8cfe-c2f66e650334",
   "metadata": {},
   "outputs": [
    {
     "data": {
      "text/plain": [
       "300924"
      ]
     },
     "execution_count": 32,
     "metadata": {},
     "output_type": "execute_result"
    }
   ],
   "source": [
    "# Number of duplicated PMIDs\n",
    "len(duplicated_pmids)"
   ]
  },
  {
   "cell_type": "code",
   "execution_count": 9,
   "id": "8e92ae76-9067-418a-9da8-ad3bc632115d",
   "metadata": {},
   "outputs": [],
   "source": [
    "# Save lists of unique and duplicated PMIDs as .txt files\n",
    "with open(os.path.join(\"E:\", \"PMIDsInitialParsing\", \"unique_PMIDs.txt\"), 'w') as output:\n",
    "    for row in unique_pmids:\n",
    "        output.write(str(row) + '\\n')\n",
    "\n",
    "with open(os.path.join(\"E:\", \"PMIDsInitialParsing\", \"duplicated_PMIDs.txt\"), 'w') as output:\n",
    "    for row in duplicated_pmids:\n",
    "        output.write(str(row) + '\\n')"
   ]
  },
  {
   "cell_type": "code",
   "execution_count": 33,
   "id": "bd446585-7206-407e-9c75-c6d18996082f",
   "metadata": {},
   "outputs": [],
   "source": [
    "# Extract and add names of files in directories containing .csv files to a list, keep only .csv files\n",
    "parsed_DFs = []\n",
    "for root, dirs, files in os.walk(parsedDFs_input):\n",
    "        for file in files:\n",
    "            if file[-4:] == \".csv\":\n",
    "                parsed_DFs.append(os.path.join(root, file))"
   ]
  },
  {
   "cell_type": "code",
   "execution_count": 34,
   "id": "9437e2d0-38fb-4e74-9672-8b5a6f9d3e9c",
   "metadata": {
    "scrolled": true
   },
   "outputs": [
    {
     "name": "stdout",
     "output_type": "stream",
     "text": [
      "Extracting PMIDs from file: 1/383\n",
      "Extracting PMIDs from file: 2/383\n",
      "Extracting PMIDs from file: 3/383\n",
      "Extracting PMIDs from file: 4/383\n",
      "Extracting PMIDs from file: 5/383\n",
      "Extracting PMIDs from file: 6/383\n",
      "Extracting PMIDs from file: 7/383\n",
      "Extracting PMIDs from file: 8/383\n",
      "Extracting PMIDs from file: 9/383\n",
      "Extracting PMIDs from file: 10/383\n",
      "Extracting PMIDs from file: 11/383\n",
      "Extracting PMIDs from file: 12/383\n",
      "Extracting PMIDs from file: 13/383\n",
      "Extracting PMIDs from file: 14/383\n",
      "Extracting PMIDs from file: 15/383\n",
      "Extracting PMIDs from file: 16/383\n",
      "Extracting PMIDs from file: 17/383\n",
      "Extracting PMIDs from file: 18/383\n",
      "Extracting PMIDs from file: 19/383\n",
      "Extracting PMIDs from file: 20/383\n",
      "Extracting PMIDs from file: 21/383\n",
      "Extracting PMIDs from file: 22/383\n",
      "Extracting PMIDs from file: 23/383\n",
      "Extracting PMIDs from file: 24/383\n",
      "Extracting PMIDs from file: 25/383\n",
      "Extracting PMIDs from file: 26/383\n",
      "Extracting PMIDs from file: 27/383\n",
      "Extracting PMIDs from file: 28/383\n",
      "Extracting PMIDs from file: 29/383\n",
      "Extracting PMIDs from file: 30/383\n",
      "Extracting PMIDs from file: 31/383\n",
      "Extracting PMIDs from file: 32/383\n",
      "Extracting PMIDs from file: 33/383\n",
      "Extracting PMIDs from file: 34/383\n",
      "Extracting PMIDs from file: 35/383\n",
      "Extracting PMIDs from file: 36/383\n",
      "Extracting PMIDs from file: 37/383\n",
      "Extracting PMIDs from file: 38/383\n",
      "Extracting PMIDs from file: 39/383\n",
      "Extracting PMIDs from file: 40/383\n",
      "Extracting PMIDs from file: 41/383\n",
      "Extracting PMIDs from file: 42/383\n",
      "Extracting PMIDs from file: 43/383\n",
      "Extracting PMIDs from file: 44/383\n",
      "Extracting PMIDs from file: 45/383\n",
      "Extracting PMIDs from file: 46/383\n",
      "Extracting PMIDs from file: 47/383\n",
      "Extracting PMIDs from file: 48/383\n",
      "Extracting PMIDs from file: 49/383\n",
      "Extracting PMIDs from file: 50/383\n",
      "Extracting PMIDs from file: 51/383\n",
      "Extracting PMIDs from file: 52/383\n",
      "Extracting PMIDs from file: 53/383\n",
      "Extracting PMIDs from file: 54/383\n",
      "Extracting PMIDs from file: 55/383\n",
      "Extracting PMIDs from file: 56/383\n",
      "Extracting PMIDs from file: 57/383\n",
      "Extracting PMIDs from file: 58/383\n",
      "Extracting PMIDs from file: 59/383\n",
      "Extracting PMIDs from file: 60/383\n",
      "Extracting PMIDs from file: 61/383\n",
      "Extracting PMIDs from file: 62/383\n",
      "Extracting PMIDs from file: 63/383\n",
      "Extracting PMIDs from file: 64/383\n",
      "Extracting PMIDs from file: 65/383\n",
      "Extracting PMIDs from file: 66/383\n",
      "Extracting PMIDs from file: 67/383\n",
      "Extracting PMIDs from file: 68/383\n",
      "Extracting PMIDs from file: 69/383\n",
      "Extracting PMIDs from file: 70/383\n",
      "Extracting PMIDs from file: 71/383\n",
      "Extracting PMIDs from file: 72/383\n",
      "Extracting PMIDs from file: 73/383\n",
      "Extracting PMIDs from file: 74/383\n",
      "Extracting PMIDs from file: 75/383\n",
      "Extracting PMIDs from file: 76/383\n",
      "Extracting PMIDs from file: 77/383\n",
      "Extracting PMIDs from file: 78/383\n",
      "Extracting PMIDs from file: 79/383\n",
      "Extracting PMIDs from file: 80/383\n",
      "Extracting PMIDs from file: 81/383\n",
      "Extracting PMIDs from file: 82/383\n",
      "Extracting PMIDs from file: 83/383\n",
      "Extracting PMIDs from file: 84/383\n",
      "Extracting PMIDs from file: 85/383\n",
      "Extracting PMIDs from file: 86/383\n",
      "Extracting PMIDs from file: 87/383\n",
      "Extracting PMIDs from file: 88/383\n",
      "Extracting PMIDs from file: 89/383\n",
      "Extracting PMIDs from file: 90/383\n",
      "Extracting PMIDs from file: 91/383\n",
      "Extracting PMIDs from file: 92/383\n",
      "Extracting PMIDs from file: 93/383\n",
      "Extracting PMIDs from file: 94/383\n",
      "Extracting PMIDs from file: 95/383\n",
      "Extracting PMIDs from file: 96/383\n",
      "Extracting PMIDs from file: 97/383\n",
      "Extracting PMIDs from file: 98/383\n",
      "Extracting PMIDs from file: 99/383\n",
      "Extracting PMIDs from file: 100/383\n",
      "Extracting PMIDs from file: 101/383\n",
      "Extracting PMIDs from file: 102/383\n",
      "Extracting PMIDs from file: 103/383\n",
      "Extracting PMIDs from file: 104/383\n",
      "Extracting PMIDs from file: 105/383\n",
      "Extracting PMIDs from file: 106/383\n",
      "Extracting PMIDs from file: 107/383\n",
      "Extracting PMIDs from file: 108/383\n",
      "Extracting PMIDs from file: 109/383\n",
      "Extracting PMIDs from file: 110/383\n",
      "Extracting PMIDs from file: 111/383\n",
      "Extracting PMIDs from file: 112/383\n",
      "Extracting PMIDs from file: 113/383\n",
      "Extracting PMIDs from file: 114/383\n",
      "Extracting PMIDs from file: 115/383\n",
      "Extracting PMIDs from file: 116/383\n",
      "Extracting PMIDs from file: 117/383\n",
      "Extracting PMIDs from file: 118/383\n",
      "Extracting PMIDs from file: 119/383\n",
      "Extracting PMIDs from file: 120/383\n",
      "Extracting PMIDs from file: 121/383\n",
      "Extracting PMIDs from file: 122/383\n",
      "Extracting PMIDs from file: 123/383\n",
      "Extracting PMIDs from file: 124/383\n",
      "Extracting PMIDs from file: 125/383\n",
      "Extracting PMIDs from file: 126/383\n",
      "Extracting PMIDs from file: 127/383\n",
      "Extracting PMIDs from file: 128/383\n",
      "Extracting PMIDs from file: 129/383\n",
      "Extracting PMIDs from file: 130/383\n",
      "Extracting PMIDs from file: 131/383\n",
      "Extracting PMIDs from file: 132/383\n",
      "Extracting PMIDs from file: 133/383\n",
      "Extracting PMIDs from file: 134/383\n",
      "Extracting PMIDs from file: 135/383\n",
      "Extracting PMIDs from file: 136/383\n",
      "Extracting PMIDs from file: 137/383\n",
      "Extracting PMIDs from file: 138/383\n",
      "Extracting PMIDs from file: 139/383\n",
      "Extracting PMIDs from file: 140/383\n",
      "Extracting PMIDs from file: 141/383\n",
      "Extracting PMIDs from file: 142/383\n",
      "Extracting PMIDs from file: 143/383\n",
      "Extracting PMIDs from file: 144/383\n",
      "Extracting PMIDs from file: 145/383\n",
      "Extracting PMIDs from file: 146/383\n",
      "Extracting PMIDs from file: 147/383\n",
      "Extracting PMIDs from file: 148/383\n",
      "Extracting PMIDs from file: 149/383\n",
      "Extracting PMIDs from file: 150/383\n",
      "Extracting PMIDs from file: 151/383\n",
      "Extracting PMIDs from file: 152/383\n",
      "Extracting PMIDs from file: 153/383\n",
      "Extracting PMIDs from file: 154/383\n",
      "Extracting PMIDs from file: 155/383\n",
      "Extracting PMIDs from file: 156/383\n",
      "Extracting PMIDs from file: 157/383\n",
      "Extracting PMIDs from file: 158/383\n",
      "Extracting PMIDs from file: 159/383\n",
      "Extracting PMIDs from file: 160/383\n",
      "Extracting PMIDs from file: 161/383\n",
      "Extracting PMIDs from file: 162/383\n",
      "Extracting PMIDs from file: 163/383\n",
      "Extracting PMIDs from file: 164/383\n",
      "Extracting PMIDs from file: 165/383\n",
      "Extracting PMIDs from file: 166/383\n",
      "Extracting PMIDs from file: 167/383\n",
      "Extracting PMIDs from file: 168/383\n",
      "Extracting PMIDs from file: 169/383\n",
      "Extracting PMIDs from file: 170/383\n",
      "Extracting PMIDs from file: 171/383\n",
      "Extracting PMIDs from file: 172/383\n",
      "Extracting PMIDs from file: 173/383\n",
      "Extracting PMIDs from file: 174/383\n",
      "Extracting PMIDs from file: 175/383\n",
      "Extracting PMIDs from file: 176/383\n",
      "Extracting PMIDs from file: 177/383\n",
      "Extracting PMIDs from file: 178/383\n",
      "Extracting PMIDs from file: 179/383\n",
      "Extracting PMIDs from file: 180/383\n",
      "Extracting PMIDs from file: 181/383\n",
      "Extracting PMIDs from file: 182/383\n",
      "Extracting PMIDs from file: 183/383\n",
      "Extracting PMIDs from file: 184/383\n",
      "Extracting PMIDs from file: 185/383\n",
      "Extracting PMIDs from file: 186/383\n",
      "Extracting PMIDs from file: 187/383\n",
      "Extracting PMIDs from file: 188/383\n",
      "Extracting PMIDs from file: 189/383\n",
      "Extracting PMIDs from file: 190/383\n",
      "Extracting PMIDs from file: 191/383\n",
      "Extracting PMIDs from file: 192/383\n",
      "Extracting PMIDs from file: 193/383\n",
      "Extracting PMIDs from file: 194/383\n",
      "Extracting PMIDs from file: 195/383\n",
      "Extracting PMIDs from file: 196/383\n",
      "Extracting PMIDs from file: 197/383\n",
      "Extracting PMIDs from file: 198/383\n",
      "Extracting PMIDs from file: 199/383\n",
      "Extracting PMIDs from file: 200/383\n",
      "Extracting PMIDs from file: 201/383\n",
      "Extracting PMIDs from file: 202/383\n",
      "Extracting PMIDs from file: 203/383\n",
      "Extracting PMIDs from file: 204/383\n",
      "Extracting PMIDs from file: 205/383\n",
      "Extracting PMIDs from file: 206/383\n",
      "Extracting PMIDs from file: 207/383\n",
      "Extracting PMIDs from file: 208/383\n",
      "Extracting PMIDs from file: 209/383\n",
      "Extracting PMIDs from file: 210/383\n",
      "Extracting PMIDs from file: 211/383\n",
      "Extracting PMIDs from file: 212/383\n",
      "Extracting PMIDs from file: 213/383\n",
      "Extracting PMIDs from file: 214/383\n",
      "Extracting PMIDs from file: 215/383\n",
      "Extracting PMIDs from file: 216/383\n",
      "Extracting PMIDs from file: 217/383\n",
      "Extracting PMIDs from file: 218/383\n",
      "Extracting PMIDs from file: 219/383\n",
      "Extracting PMIDs from file: 220/383\n",
      "Extracting PMIDs from file: 221/383\n",
      "Extracting PMIDs from file: 222/383\n",
      "Extracting PMIDs from file: 223/383\n",
      "Extracting PMIDs from file: 224/383\n",
      "Extracting PMIDs from file: 225/383\n",
      "Extracting PMIDs from file: 226/383\n",
      "Extracting PMIDs from file: 227/383\n",
      "Extracting PMIDs from file: 228/383\n",
      "Extracting PMIDs from file: 229/383\n",
      "Extracting PMIDs from file: 230/383\n",
      "Extracting PMIDs from file: 231/383\n",
      "Extracting PMIDs from file: 232/383\n",
      "Extracting PMIDs from file: 233/383\n",
      "Extracting PMIDs from file: 234/383\n",
      "Extracting PMIDs from file: 235/383\n",
      "Extracting PMIDs from file: 236/383\n",
      "Extracting PMIDs from file: 237/383\n",
      "Extracting PMIDs from file: 238/383\n",
      "Extracting PMIDs from file: 239/383\n",
      "Extracting PMIDs from file: 240/383\n",
      "Extracting PMIDs from file: 241/383\n",
      "Extracting PMIDs from file: 242/383\n",
      "Extracting PMIDs from file: 243/383\n",
      "Extracting PMIDs from file: 244/383\n",
      "Extracting PMIDs from file: 245/383\n",
      "Extracting PMIDs from file: 246/383\n",
      "Extracting PMIDs from file: 247/383\n",
      "Extracting PMIDs from file: 248/383\n",
      "Extracting PMIDs from file: 249/383\n",
      "Extracting PMIDs from file: 250/383\n",
      "Extracting PMIDs from file: 251/383\n",
      "Extracting PMIDs from file: 252/383\n",
      "Extracting PMIDs from file: 253/383\n",
      "Extracting PMIDs from file: 254/383\n",
      "Extracting PMIDs from file: 255/383\n",
      "Extracting PMIDs from file: 256/383\n",
      "Extracting PMIDs from file: 257/383\n",
      "Extracting PMIDs from file: 258/383\n",
      "Extracting PMIDs from file: 259/383\n",
      "Extracting PMIDs from file: 260/383\n",
      "Extracting PMIDs from file: 261/383\n",
      "Extracting PMIDs from file: 262/383\n",
      "Extracting PMIDs from file: 263/383\n",
      "Extracting PMIDs from file: 264/383\n",
      "Extracting PMIDs from file: 265/383\n",
      "Extracting PMIDs from file: 266/383\n",
      "Extracting PMIDs from file: 267/383\n",
      "Extracting PMIDs from file: 268/383\n",
      "Extracting PMIDs from file: 269/383\n",
      "Extracting PMIDs from file: 270/383\n",
      "Extracting PMIDs from file: 271/383\n",
      "Extracting PMIDs from file: 272/383\n",
      "Extracting PMIDs from file: 273/383\n",
      "Extracting PMIDs from file: 274/383\n",
      "Extracting PMIDs from file: 275/383\n",
      "Extracting PMIDs from file: 276/383\n",
      "Extracting PMIDs from file: 277/383\n",
      "Extracting PMIDs from file: 278/383\n",
      "Extracting PMIDs from file: 279/383\n",
      "Extracting PMIDs from file: 280/383\n",
      "Extracting PMIDs from file: 281/383\n",
      "Extracting PMIDs from file: 282/383\n",
      "Extracting PMIDs from file: 283/383\n",
      "Extracting PMIDs from file: 284/383\n",
      "Extracting PMIDs from file: 285/383\n",
      "Extracting PMIDs from file: 286/383\n",
      "Extracting PMIDs from file: 287/383\n",
      "Extracting PMIDs from file: 288/383\n",
      "Extracting PMIDs from file: 289/383\n",
      "Extracting PMIDs from file: 290/383\n",
      "Extracting PMIDs from file: 291/383\n",
      "Extracting PMIDs from file: 292/383\n",
      "Extracting PMIDs from file: 293/383\n",
      "Extracting PMIDs from file: 294/383\n",
      "Extracting PMIDs from file: 295/383\n",
      "Extracting PMIDs from file: 296/383\n",
      "Extracting PMIDs from file: 297/383\n",
      "Extracting PMIDs from file: 298/383\n",
      "Extracting PMIDs from file: 299/383\n",
      "Extracting PMIDs from file: 300/383\n",
      "Extracting PMIDs from file: 301/383\n",
      "Extracting PMIDs from file: 302/383\n",
      "Extracting PMIDs from file: 303/383\n",
      "Extracting PMIDs from file: 304/383\n",
      "Extracting PMIDs from file: 305/383\n",
      "Extracting PMIDs from file: 306/383\n",
      "Extracting PMIDs from file: 307/383\n",
      "Extracting PMIDs from file: 308/383\n",
      "Extracting PMIDs from file: 309/383\n",
      "Extracting PMIDs from file: 310/383\n",
      "Extracting PMIDs from file: 311/383\n",
      "Extracting PMIDs from file: 312/383\n",
      "Extracting PMIDs from file: 313/383\n",
      "Extracting PMIDs from file: 314/383\n",
      "Extracting PMIDs from file: 315/383\n",
      "Extracting PMIDs from file: 316/383\n",
      "Extracting PMIDs from file: 317/383\n",
      "Extracting PMIDs from file: 318/383\n",
      "Extracting PMIDs from file: 319/383\n",
      "Extracting PMIDs from file: 320/383\n",
      "Extracting PMIDs from file: 321/383\n",
      "Extracting PMIDs from file: 322/383\n",
      "Extracting PMIDs from file: 323/383\n",
      "Extracting PMIDs from file: 324/383\n",
      "Extracting PMIDs from file: 325/383\n",
      "Extracting PMIDs from file: 326/383\n",
      "Extracting PMIDs from file: 327/383\n",
      "Extracting PMIDs from file: 328/383\n",
      "Extracting PMIDs from file: 329/383\n",
      "Extracting PMIDs from file: 330/383\n",
      "Extracting PMIDs from file: 331/383\n",
      "Extracting PMIDs from file: 332/383\n",
      "Extracting PMIDs from file: 333/383\n",
      "Extracting PMIDs from file: 334/383\n",
      "Extracting PMIDs from file: 335/383\n",
      "Extracting PMIDs from file: 336/383\n",
      "Extracting PMIDs from file: 337/383\n",
      "Extracting PMIDs from file: 338/383\n",
      "Extracting PMIDs from file: 339/383\n",
      "Extracting PMIDs from file: 340/383\n",
      "Extracting PMIDs from file: 341/383\n",
      "Extracting PMIDs from file: 342/383\n",
      "Extracting PMIDs from file: 343/383\n",
      "Extracting PMIDs from file: 344/383\n",
      "Extracting PMIDs from file: 345/383\n",
      "Extracting PMIDs from file: 346/383\n",
      "Extracting PMIDs from file: 347/383\n",
      "Extracting PMIDs from file: 348/383\n",
      "Extracting PMIDs from file: 349/383\n",
      "Extracting PMIDs from file: 350/383\n",
      "Extracting PMIDs from file: 351/383\n",
      "Extracting PMIDs from file: 352/383\n",
      "Extracting PMIDs from file: 353/383\n",
      "Extracting PMIDs from file: 354/383\n",
      "Extracting PMIDs from file: 355/383\n",
      "Extracting PMIDs from file: 356/383\n",
      "Extracting PMIDs from file: 357/383\n",
      "Extracting PMIDs from file: 358/383\n",
      "Extracting PMIDs from file: 359/383\n",
      "Extracting PMIDs from file: 360/383\n",
      "Extracting PMIDs from file: 361/383\n",
      "Extracting PMIDs from file: 362/383\n",
      "Extracting PMIDs from file: 363/383\n",
      "Extracting PMIDs from file: 364/383\n",
      "Extracting PMIDs from file: 365/383\n",
      "Extracting PMIDs from file: 366/383\n",
      "Extracting PMIDs from file: 367/383\n",
      "Extracting PMIDs from file: 368/383\n",
      "Extracting PMIDs from file: 369/383\n",
      "Extracting PMIDs from file: 370/383\n",
      "Extracting PMIDs from file: 371/383\n",
      "Extracting PMIDs from file: 372/383\n",
      "Extracting PMIDs from file: 373/383\n",
      "Extracting PMIDs from file: 374/383\n",
      "Extracting PMIDs from file: 375/383\n",
      "Extracting PMIDs from file: 376/383\n",
      "Extracting PMIDs from file: 377/383\n",
      "Extracting PMIDs from file: 378/383\n",
      "Extracting PMIDs from file: 379/383\n",
      "Extracting PMIDs from file: 380/383\n",
      "Extracting PMIDs from file: 381/383\n",
      "Extracting PMIDs from file: 382/383\n",
      "Extracting PMIDs from file: 383/383\n"
     ]
    }
   ],
   "source": [
    "# For each .csv file, extract the values of 'PMID' column and add to a list\n",
    "parsedDFs_PMIDs = []\n",
    "for DF in parsed_DFs:\n",
    "    print(\"Extracting PMIDs from file: \" + str(parsed_DFs.index(DF)+1) + \"/\" + str(len(parsed_DFs)))\n",
    "    df = pd.read_csv(DF)\n",
    "    parsedDFs_PMIDs.extend(list(df[\"PMID\"].values))"
   ]
  },
  {
   "cell_type": "code",
   "execution_count": 35,
   "id": "3d3e3a42-c844-47cf-8a6a-9645738802d2",
   "metadata": {},
   "outputs": [],
   "source": [
    "# Separate in unique and duplicates parsed PMIDs\n",
    "unique_pmids_parsed_DFs = set()\n",
    "duplicated_pmids_parsed_DFs = []\n",
    "\n",
    "for parsed_pmid in parsedDFs_PMIDs:\n",
    "    if str(parsed_pmid) in unique_pmids_parsed_DFs:\n",
    "        duplicated_pmids_parsed_DFs.append(str(parsed_pmid))\n",
    "    else:\n",
    "        unique_pmids_parsed_DFs.add(str(parsed_pmid))"
   ]
  },
  {
   "cell_type": "code",
   "execution_count": 36,
   "id": "930156cf-53e2-4ffc-8738-902acff4805d",
   "metadata": {},
   "outputs": [
    {
     "data": {
      "text/plain": [
       "37543881"
      ]
     },
     "execution_count": 36,
     "metadata": {},
     "output_type": "execute_result"
    }
   ],
   "source": [
    "len(parsedDFs_PMIDs)"
   ]
  },
  {
   "cell_type": "code",
   "execution_count": 37,
   "id": "4b346c54-02e9-4398-bbff-0fb4e96d8781",
   "metadata": {},
   "outputs": [
    {
     "data": {
      "text/plain": [
       "37543881"
      ]
     },
     "execution_count": 37,
     "metadata": {},
     "output_type": "execute_result"
    }
   ],
   "source": [
    "len(unique_pmids_parsed_DFs)"
   ]
  },
  {
   "cell_type": "code",
   "execution_count": 38,
   "id": "f5886f33-f9cf-4caf-ac9c-0d0d034b2729",
   "metadata": {},
   "outputs": [
    {
     "data": {
      "text/plain": [
       "0"
      ]
     },
     "execution_count": 38,
     "metadata": {},
     "output_type": "execute_result"
    }
   ],
   "source": [
    "len(duplicated_pmids_parsed_DFs)"
   ]
  },
  {
   "cell_type": "code",
   "execution_count": 39,
   "id": "afe6d62a-ab8d-4c3d-a051-ecab00ee939d",
   "metadata": {},
   "outputs": [],
   "source": [
    "# Save lists of unique and duplicated parsed PMIDs as .txt files\n",
    "with open(os.path.join(\"E:\", \"PMIDsInitialParsing\", \"parsed_unique_PMIDs_after_removing_duplicates.txt\"), 'w') as output:\n",
    "    for row in unique_pmids_parsed_DFs:\n",
    "        output.write(str(row) + '\\n')\n",
    "\n",
    "with open(os.path.join(\"E:\", \"PMIDsInitialParsing\", \"parsed_duplicated_PMIDs_after_removing_duplicates.txt\"), 'w') as output:\n",
    "    for row in duplicated_pmids_parsed_DFs:\n",
    "        output.write(str(row) + '\\n')"
   ]
  },
  {
   "cell_type": "code",
   "execution_count": 40,
   "id": "14c02861-94f3-41ad-a308-7f7c5e3d1f98",
   "metadata": {},
   "outputs": [],
   "source": [
    "# Subtract unique PMIDs - unique parsed PMIDs to get missing (not parsed) PMIDs\n",
    "notParsedPMIDs = unique_pmids.difference(unique_pmids_parsed_DFs)"
   ]
  },
  {
   "cell_type": "code",
   "execution_count": 42,
   "id": "12da5d31-1b0e-49c7-b2cf-4dcc8d08ae9b",
   "metadata": {},
   "outputs": [],
   "source": [
    "# Save missing (not parsed) PMIDs\n",
    "with open(os.path.join(\"E:\", \"PMIDsInitialParsing\", \"not_parsed_PMIDS_after_removing_duplicates.txt\"), 'w') as output:\n",
    "    for row in notParsedPMIDs:\n",
    "        output.write(str(row) + '\\n')"
   ]
  },
  {
   "cell_type": "code",
   "execution_count": 41,
   "id": "e5e0432f-640b-4821-a299-c7d446e9fa00",
   "metadata": {},
   "outputs": [
    {
     "data": {
      "text/plain": [
       "327"
      ]
     },
     "execution_count": 41,
     "metadata": {},
     "output_type": "execute_result"
    }
   ],
   "source": [
    "# Number of not parsed PMIDs\n",
    "len(notParsedPMIDs)"
   ]
  },
  {
   "cell_type": "markdown",
   "id": "d66cba3c-9a2a-492a-8fd1-8909148c8b89",
   "metadata": {},
   "source": [
    "The PMIDs that are not parsed are not associated to any paper"
   ]
  }
 ],
 "metadata": {
  "kernelspec": {
   "display_name": "Python 3 (ipykernel)",
   "language": "python",
   "name": "python3"
  },
  "language_info": {
   "codemirror_mode": {
    "name": "ipython",
    "version": 3
   },
   "file_extension": ".py",
   "mimetype": "text/x-python",
   "name": "python",
   "nbconvert_exporter": "python",
   "pygments_lexer": "ipython3",
   "version": "3.12.7"
  }
 },
 "nbformat": 4,
 "nbformat_minor": 5
}
