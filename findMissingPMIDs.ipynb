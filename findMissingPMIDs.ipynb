{
 "cells": [
  {
   "cell_type": "code",
   "execution_count": 1,
   "id": "66f8b496-3edc-4b5a-a07d-f994374a1fe9",
   "metadata": {},
   "outputs": [],
   "source": [
    "import os\n",
    "import re\n",
    "import copy\n",
    "import pandas as pd\n",
    "import warnings\n",
    "\n",
    "# DType warning when importing .csv files with parsed PMIDs. Avoid showing the warning\n",
    "warnings.simplefilter(action='ignore', category=pd.errors.DtypeWarning)"
   ]
  },
  {
   "cell_type": "code",
   "execution_count": 2,
   "id": "279a9b58-aa97-4f5b-b3d8-d971d017619f",
   "metadata": {},
   "outputs": [
    {
     "name": "stdin",
     "output_type": "stream",
     "text": [
      " C:\\Users\\svalb\\OneDrive\\Escritorio\\\n"
     ]
    }
   ],
   "source": [
    "# Directory containing .txt files containing PMIDs\n",
    "PMID_input = input().strip()"
   ]
  },
  {
   "cell_type": "code",
   "execution_count": 3,
   "id": "01d3e933-5156-48df-bea9-73f3dbc86d9d",
   "metadata": {},
   "outputs": [
    {
     "name": "stdin",
     "output_type": "stream",
     "text": [
      " E:\\sciAbstractsProject_parsedDFs\\\n"
     ]
    }
   ],
   "source": [
    "# Directory containing .csv files with parsed articles from XMLs\n",
    "parsedDFs_input = input().strip()"
   ]
  },
  {
   "cell_type": "code",
   "execution_count": 4,
   "id": "5c613f47-0869-463c-87e6-ec472f164fd2",
   "metadata": {},
   "outputs": [],
   "source": [
    "# Combine all PMIDs in a single list\n",
    "with open(PMID_input+\"pmids_until_19991231.txt\") as file_pmids_until_19991231:\n",
    "    articles_pmids = [line.rstrip() for line in file_pmids_until_19991231]\n",
    "\n",
    "with open(PMID_input+\"pmids_20000101_until_20091231.txt\") as file_pmids_20000101_until_20091231:\n",
    "    articles_pmids_20000101_until_20091231 = [line.rstrip() for line in file_pmids_20000101_until_20091231]\n",
    "\n",
    "with open(PMID_input+\"pmids_20100101_until_20191231.txt\") as file_pmids_20100101_until_20191231:\n",
    "    articles_pmids_20100101_until_20191231 = [line.rstrip() for line in file_pmids_20100101_until_20191231]\n",
    "\n",
    "with open(PMID_input+\"pmids_20200101_until_20240701.txt\") as file_pmids_20200101_until_20240701:\n",
    "    articles_pmids_20200101_until_20240701 = [line.rstrip() for line in file_pmids_20200101_until_20240701]\n",
    "\n",
    "\n",
    "articles_pmids.extend(articles_pmids_20000101_until_20091231)\n",
    "articles_pmids.extend(articles_pmids_20100101_until_20191231)\n",
    "articles_pmids.extend(articles_pmids_20200101_until_20240701)"
   ]
  },
  {
   "cell_type": "code",
   "execution_count": 5,
   "id": "52a38020-1ddb-4f1c-93f9-c7eb736fe700",
   "metadata": {},
   "outputs": [
    {
     "data": {
      "text/plain": [
       "37845132"
      ]
     },
     "execution_count": 5,
     "metadata": {},
     "output_type": "execute_result"
    }
   ],
   "source": [
    "# Number of PMIDs\n",
    "len(articles_pmids)"
   ]
  },
  {
   "cell_type": "code",
   "execution_count": 6,
   "id": "a3cd9dbd-afca-4b8d-a61e-162487deccfb",
   "metadata": {},
   "outputs": [],
   "source": [
    "# Separate in unique and duplicates PMIDs\n",
    "unique_pmids = set()\n",
    "duplicated_pmids = []\n",
    "\n",
    "for pmid in articles_pmids:\n",
    "    if pmid in unique_pmids:\n",
    "        duplicated_pmids.append(pmid)\n",
    "    else:\n",
    "        unique_pmids.add(pmid)"
   ]
  },
  {
   "cell_type": "code",
   "execution_count": 7,
   "id": "48f3f709-d5e9-4771-97e3-08e92d81b4b2",
   "metadata": {},
   "outputs": [
    {
     "data": {
      "text/plain": [
       "37544208"
      ]
     },
     "execution_count": 7,
     "metadata": {},
     "output_type": "execute_result"
    }
   ],
   "source": [
    "# Number of unique PMIDs\n",
    "len(unique_pmids)"
   ]
  },
  {
   "cell_type": "code",
   "execution_count": 8,
   "id": "bd778aec-202e-4e68-8cfe-c2f66e650334",
   "metadata": {},
   "outputs": [
    {
     "data": {
      "text/plain": [
       "300924"
      ]
     },
     "execution_count": 8,
     "metadata": {},
     "output_type": "execute_result"
    }
   ],
   "source": [
    "# Number of duplicated PMIDs\n",
    "len(duplicated_pmids)"
   ]
  },
  {
   "cell_type": "code",
   "execution_count": 9,
   "id": "8e92ae76-9067-418a-9da8-ad3bc632115d",
   "metadata": {},
   "outputs": [],
   "source": [
    "# Save lists of unique and duplicated PMIDs as .txt files\n",
    "with open(os.path.join(\"E:\", \"PMIDsInitialParsing\", \"unique_PMIDs.txt\"), 'w') as output:\n",
    "    for row in unique_pmids:\n",
    "        output.write(str(row) + '\\n')\n",
    "\n",
    "with open(os.path.join(\"E:\", \"PMIDsInitialParsing\", \"duplicated_PMIDs.txt\"), 'w') as output:\n",
    "    for row in duplicated_pmids:\n",
    "        output.write(str(row) + '\\n')"
   ]
  },
  {
   "cell_type": "code",
   "execution_count": 10,
   "id": "963094bd-0b88-4ccf-9772-f5d21c9144e8",
   "metadata": {},
   "outputs": [
    {
     "data": {
      "text/plain": [
       "['20000101_until_20091231',\n",
       " '20100101_until_20191231',\n",
       " '20200101_until_20240701',\n",
       " '_until_19991231']"
      ]
     },
     "execution_count": 10,
     "metadata": {},
     "output_type": "execute_result"
    }
   ],
   "source": [
    "# Directories containing .csv files with parsed articles\n",
    "os.listdir(parsedDFs_input)"
   ]
  },
  {
   "cell_type": "code",
   "execution_count": 11,
   "id": "bd446585-7206-407e-9c75-c6d18996082f",
   "metadata": {},
   "outputs": [],
   "source": [
    "# Extract and add names of files in these directories to a list\n",
    "raw_parsedDFs = os.listdir(parsedDFs_input+'_until_19991231')\n",
    "raw_parsedDFs_2000s = os.listdir(parsedDFs_input+'20000101_until_20091231')\n",
    "raw_parsedDFs_2010s = os.listdir(parsedDFs_input+'20100101_until_20191231')\n",
    "raw_parsedDFs_2020s = os.listdir(parsedDFs_input+'20200101_until_20240701')\n",
    "\n",
    "for el in range(len(raw_parsedDFs)):\n",
    "    raw_parsedDFs[el] = os.path.join('_until_19991231', raw_parsedDFs[el])\n",
    "\n",
    "for el in range(len(raw_parsedDFs_2000s)):\n",
    "    raw_parsedDFs_2000s[el] = os.path.join('20000101_until_20091231', raw_parsedDFs_2000s[el])\n",
    "\n",
    "for el in range(len(raw_parsedDFs_2010s)):\n",
    "    raw_parsedDFs_2010s[el] = os.path.join('20100101_until_20191231', raw_parsedDFs_2010s[el])\n",
    "\n",
    "for el in range(len(raw_parsedDFs_2020s)):\n",
    "    raw_parsedDFs_2020s[el] = os.path.join('20200101_until_20240701', raw_parsedDFs_2020s[el])\n",
    "\n",
    "raw_parsedDFs.extend(raw_parsedDFs_2000s)\n",
    "raw_parsedDFs.extend(raw_parsedDFs_2010s)\n",
    "raw_parsedDFs.extend(raw_parsedDFs_2020s)"
   ]
  },
  {
   "cell_type": "code",
   "execution_count": 12,
   "id": "f77d8b1b-e56f-448e-91b0-762e137351a9",
   "metadata": {},
   "outputs": [],
   "source": [
    "# Keep only .csv files\n",
    "parsedDFs = []\n",
    "for DF in raw_parsedDFs:\n",
    "    if DF[-4:] == \".csv\":\n",
    "        parsedDFs.append(DF)"
   ]
  },
  {
   "cell_type": "code",
   "execution_count": 14,
   "id": "9437e2d0-38fb-4e74-9672-8b5a6f9d3e9c",
   "metadata": {
    "scrolled": true
   },
   "outputs": [
    {
     "name": "stdout",
     "output_type": "stream",
     "text": [
      "Extracting PMIDs from file: 0/381\n",
      "Extracting PMIDs from file: 1/381\n",
      "Extracting PMIDs from file: 2/381\n",
      "Extracting PMIDs from file: 3/381\n",
      "Extracting PMIDs from file: 4/381\n",
      "Extracting PMIDs from file: 5/381\n",
      "Extracting PMIDs from file: 6/381\n",
      "Extracting PMIDs from file: 7/381\n",
      "Extracting PMIDs from file: 8/381\n",
      "Extracting PMIDs from file: 9/381\n",
      "Extracting PMIDs from file: 10/381\n",
      "Extracting PMIDs from file: 11/381\n",
      "Extracting PMIDs from file: 12/381\n",
      "Extracting PMIDs from file: 13/381\n",
      "Extracting PMIDs from file: 14/381\n",
      "Extracting PMIDs from file: 15/381\n",
      "Extracting PMIDs from file: 16/381\n",
      "Extracting PMIDs from file: 17/381\n",
      "Extracting PMIDs from file: 18/381\n",
      "Extracting PMIDs from file: 19/381\n",
      "Extracting PMIDs from file: 20/381\n",
      "Extracting PMIDs from file: 21/381\n",
      "Extracting PMIDs from file: 22/381\n",
      "Extracting PMIDs from file: 23/381\n",
      "Extracting PMIDs from file: 24/381\n",
      "Extracting PMIDs from file: 25/381\n",
      "Extracting PMIDs from file: 26/381\n",
      "Extracting PMIDs from file: 27/381\n",
      "Extracting PMIDs from file: 28/381\n",
      "Extracting PMIDs from file: 29/381\n",
      "Extracting PMIDs from file: 30/381\n",
      "Extracting PMIDs from file: 31/381\n",
      "Extracting PMIDs from file: 32/381\n",
      "Extracting PMIDs from file: 33/381\n",
      "Extracting PMIDs from file: 34/381\n",
      "Extracting PMIDs from file: 35/381\n",
      "Extracting PMIDs from file: 36/381\n",
      "Extracting PMIDs from file: 37/381\n",
      "Extracting PMIDs from file: 38/381\n",
      "Extracting PMIDs from file: 39/381\n",
      "Extracting PMIDs from file: 40/381\n",
      "Extracting PMIDs from file: 41/381\n",
      "Extracting PMIDs from file: 42/381\n",
      "Extracting PMIDs from file: 43/381\n",
      "Extracting PMIDs from file: 44/381\n",
      "Extracting PMIDs from file: 45/381\n",
      "Extracting PMIDs from file: 46/381\n",
      "Extracting PMIDs from file: 47/381\n",
      "Extracting PMIDs from file: 48/381\n",
      "Extracting PMIDs from file: 49/381\n",
      "Extracting PMIDs from file: 50/381\n",
      "Extracting PMIDs from file: 51/381\n",
      "Extracting PMIDs from file: 52/381\n",
      "Extracting PMIDs from file: 53/381\n",
      "Extracting PMIDs from file: 54/381\n",
      "Extracting PMIDs from file: 55/381\n",
      "Extracting PMIDs from file: 56/381\n",
      "Extracting PMIDs from file: 57/381\n",
      "Extracting PMIDs from file: 58/381\n",
      "Extracting PMIDs from file: 59/381\n",
      "Extracting PMIDs from file: 60/381\n",
      "Extracting PMIDs from file: 61/381\n",
      "Extracting PMIDs from file: 62/381\n",
      "Extracting PMIDs from file: 63/381\n",
      "Extracting PMIDs from file: 64/381\n",
      "Extracting PMIDs from file: 65/381\n",
      "Extracting PMIDs from file: 66/381\n",
      "Extracting PMIDs from file: 67/381\n",
      "Extracting PMIDs from file: 68/381\n",
      "Extracting PMIDs from file: 69/381\n",
      "Extracting PMIDs from file: 70/381\n",
      "Extracting PMIDs from file: 71/381\n",
      "Extracting PMIDs from file: 72/381\n",
      "Extracting PMIDs from file: 73/381\n",
      "Extracting PMIDs from file: 74/381\n",
      "Extracting PMIDs from file: 75/381\n",
      "Extracting PMIDs from file: 76/381\n",
      "Extracting PMIDs from file: 77/381\n",
      "Extracting PMIDs from file: 78/381\n",
      "Extracting PMIDs from file: 79/381\n",
      "Extracting PMIDs from file: 80/381\n",
      "Extracting PMIDs from file: 81/381\n",
      "Extracting PMIDs from file: 82/381\n",
      "Extracting PMIDs from file: 83/381\n",
      "Extracting PMIDs from file: 84/381\n",
      "Extracting PMIDs from file: 85/381\n",
      "Extracting PMIDs from file: 86/381\n",
      "Extracting PMIDs from file: 87/381\n",
      "Extracting PMIDs from file: 88/381\n",
      "Extracting PMIDs from file: 89/381\n",
      "Extracting PMIDs from file: 90/381\n",
      "Extracting PMIDs from file: 91/381\n",
      "Extracting PMIDs from file: 92/381\n",
      "Extracting PMIDs from file: 93/381\n",
      "Extracting PMIDs from file: 94/381\n",
      "Extracting PMIDs from file: 95/381\n",
      "Extracting PMIDs from file: 96/381\n",
      "Extracting PMIDs from file: 97/381\n",
      "Extracting PMIDs from file: 98/381\n",
      "Extracting PMIDs from file: 99/381\n",
      "Extracting PMIDs from file: 100/381\n",
      "Extracting PMIDs from file: 101/381\n",
      "Extracting PMIDs from file: 102/381\n",
      "Extracting PMIDs from file: 103/381\n",
      "Extracting PMIDs from file: 104/381\n",
      "Extracting PMIDs from file: 105/381\n",
      "Extracting PMIDs from file: 106/381\n",
      "Extracting PMIDs from file: 107/381\n",
      "Extracting PMIDs from file: 108/381\n",
      "Extracting PMIDs from file: 109/381\n",
      "Extracting PMIDs from file: 110/381\n",
      "Extracting PMIDs from file: 111/381\n",
      "Extracting PMIDs from file: 112/381\n",
      "Extracting PMIDs from file: 113/381\n",
      "Extracting PMIDs from file: 114/381\n",
      "Extracting PMIDs from file: 115/381\n",
      "Extracting PMIDs from file: 116/381\n",
      "Extracting PMIDs from file: 117/381\n",
      "Extracting PMIDs from file: 118/381\n",
      "Extracting PMIDs from file: 119/381\n",
      "Extracting PMIDs from file: 120/381\n",
      "Extracting PMIDs from file: 121/381\n",
      "Extracting PMIDs from file: 122/381\n",
      "Extracting PMIDs from file: 123/381\n",
      "Extracting PMIDs from file: 124/381\n",
      "Extracting PMIDs from file: 125/381\n",
      "Extracting PMIDs from file: 126/381\n",
      "Extracting PMIDs from file: 127/381\n",
      "Extracting PMIDs from file: 128/381\n",
      "Extracting PMIDs from file: 129/381\n",
      "Extracting PMIDs from file: 130/381\n",
      "Extracting PMIDs from file: 131/381\n",
      "Extracting PMIDs from file: 132/381\n",
      "Extracting PMIDs from file: 133/381\n",
      "Extracting PMIDs from file: 134/381\n",
      "Extracting PMIDs from file: 135/381\n",
      "Extracting PMIDs from file: 136/381\n",
      "Extracting PMIDs from file: 137/381\n",
      "Extracting PMIDs from file: 138/381\n",
      "Extracting PMIDs from file: 139/381\n",
      "Extracting PMIDs from file: 140/381\n",
      "Extracting PMIDs from file: 141/381\n",
      "Extracting PMIDs from file: 142/381\n",
      "Extracting PMIDs from file: 143/381\n",
      "Extracting PMIDs from file: 144/381\n",
      "Extracting PMIDs from file: 145/381\n",
      "Extracting PMIDs from file: 146/381\n",
      "Extracting PMIDs from file: 147/381\n",
      "Extracting PMIDs from file: 148/381\n",
      "Extracting PMIDs from file: 149/381\n",
      "Extracting PMIDs from file: 150/381\n",
      "Extracting PMIDs from file: 151/381\n",
      "Extracting PMIDs from file: 152/381\n",
      "Extracting PMIDs from file: 153/381\n",
      "Extracting PMIDs from file: 154/381\n",
      "Extracting PMIDs from file: 155/381\n",
      "Extracting PMIDs from file: 156/381\n",
      "Extracting PMIDs from file: 157/381\n",
      "Extracting PMIDs from file: 158/381\n",
      "Extracting PMIDs from file: 159/381\n",
      "Extracting PMIDs from file: 160/381\n",
      "Extracting PMIDs from file: 161/381\n",
      "Extracting PMIDs from file: 162/381\n",
      "Extracting PMIDs from file: 163/381\n",
      "Extracting PMIDs from file: 164/381\n",
      "Extracting PMIDs from file: 165/381\n",
      "Extracting PMIDs from file: 166/381\n",
      "Extracting PMIDs from file: 167/381\n",
      "Extracting PMIDs from file: 168/381\n",
      "Extracting PMIDs from file: 169/381\n",
      "Extracting PMIDs from file: 170/381\n",
      "Extracting PMIDs from file: 171/381\n",
      "Extracting PMIDs from file: 172/381\n",
      "Extracting PMIDs from file: 173/381\n",
      "Extracting PMIDs from file: 174/381\n",
      "Extracting PMIDs from file: 175/381\n",
      "Extracting PMIDs from file: 176/381\n",
      "Extracting PMIDs from file: 177/381\n",
      "Extracting PMIDs from file: 178/381\n",
      "Extracting PMIDs from file: 179/381\n",
      "Extracting PMIDs from file: 180/381\n",
      "Extracting PMIDs from file: 181/381\n",
      "Extracting PMIDs from file: 182/381\n",
      "Extracting PMIDs from file: 183/381\n",
      "Extracting PMIDs from file: 184/381\n",
      "Extracting PMIDs from file: 185/381\n",
      "Extracting PMIDs from file: 186/381\n",
      "Extracting PMIDs from file: 187/381\n",
      "Extracting PMIDs from file: 188/381\n",
      "Extracting PMIDs from file: 189/381\n",
      "Extracting PMIDs from file: 190/381\n",
      "Extracting PMIDs from file: 191/381\n",
      "Extracting PMIDs from file: 192/381\n",
      "Extracting PMIDs from file: 193/381\n",
      "Extracting PMIDs from file: 194/381\n",
      "Extracting PMIDs from file: 195/381\n",
      "Extracting PMIDs from file: 196/381\n",
      "Extracting PMIDs from file: 197/381\n",
      "Extracting PMIDs from file: 198/381\n",
      "Extracting PMIDs from file: 199/381\n",
      "Extracting PMIDs from file: 200/381\n",
      "Extracting PMIDs from file: 201/381\n",
      "Extracting PMIDs from file: 202/381\n",
      "Extracting PMIDs from file: 203/381\n",
      "Extracting PMIDs from file: 204/381\n",
      "Extracting PMIDs from file: 205/381\n",
      "Extracting PMIDs from file: 206/381\n",
      "Extracting PMIDs from file: 207/381\n",
      "Extracting PMIDs from file: 208/381\n",
      "Extracting PMIDs from file: 209/381\n",
      "Extracting PMIDs from file: 210/381\n",
      "Extracting PMIDs from file: 211/381\n",
      "Extracting PMIDs from file: 212/381\n",
      "Extracting PMIDs from file: 213/381\n",
      "Extracting PMIDs from file: 214/381\n",
      "Extracting PMIDs from file: 215/381\n",
      "Extracting PMIDs from file: 216/381\n",
      "Extracting PMIDs from file: 217/381\n",
      "Extracting PMIDs from file: 218/381\n",
      "Extracting PMIDs from file: 219/381\n",
      "Extracting PMIDs from file: 220/381\n",
      "Extracting PMIDs from file: 221/381\n",
      "Extracting PMIDs from file: 222/381\n",
      "Extracting PMIDs from file: 223/381\n",
      "Extracting PMIDs from file: 224/381\n",
      "Extracting PMIDs from file: 225/381\n",
      "Extracting PMIDs from file: 226/381\n",
      "Extracting PMIDs from file: 227/381\n",
      "Extracting PMIDs from file: 228/381\n",
      "Extracting PMIDs from file: 229/381\n",
      "Extracting PMIDs from file: 230/381\n",
      "Extracting PMIDs from file: 231/381\n",
      "Extracting PMIDs from file: 232/381\n",
      "Extracting PMIDs from file: 233/381\n",
      "Extracting PMIDs from file: 234/381\n",
      "Extracting PMIDs from file: 235/381\n",
      "Extracting PMIDs from file: 236/381\n",
      "Extracting PMIDs from file: 237/381\n",
      "Extracting PMIDs from file: 238/381\n",
      "Extracting PMIDs from file: 239/381\n",
      "Extracting PMIDs from file: 240/381\n",
      "Extracting PMIDs from file: 241/381\n",
      "Extracting PMIDs from file: 242/381\n",
      "Extracting PMIDs from file: 243/381\n",
      "Extracting PMIDs from file: 244/381\n",
      "Extracting PMIDs from file: 245/381\n",
      "Extracting PMIDs from file: 246/381\n",
      "Extracting PMIDs from file: 247/381\n",
      "Extracting PMIDs from file: 248/381\n",
      "Extracting PMIDs from file: 249/381\n",
      "Extracting PMIDs from file: 250/381\n",
      "Extracting PMIDs from file: 251/381\n",
      "Extracting PMIDs from file: 252/381\n",
      "Extracting PMIDs from file: 253/381\n",
      "Extracting PMIDs from file: 254/381\n",
      "Extracting PMIDs from file: 255/381\n",
      "Extracting PMIDs from file: 256/381\n",
      "Extracting PMIDs from file: 257/381\n",
      "Extracting PMIDs from file: 258/381\n",
      "Extracting PMIDs from file: 259/381\n",
      "Extracting PMIDs from file: 260/381\n",
      "Extracting PMIDs from file: 261/381\n",
      "Extracting PMIDs from file: 262/381\n",
      "Extracting PMIDs from file: 263/381\n",
      "Extracting PMIDs from file: 264/381\n",
      "Extracting PMIDs from file: 265/381\n",
      "Extracting PMIDs from file: 266/381\n",
      "Extracting PMIDs from file: 267/381\n",
      "Extracting PMIDs from file: 268/381\n",
      "Extracting PMIDs from file: 269/381\n",
      "Extracting PMIDs from file: 270/381\n",
      "Extracting PMIDs from file: 271/381\n",
      "Extracting PMIDs from file: 272/381\n",
      "Extracting PMIDs from file: 273/381\n",
      "Extracting PMIDs from file: 274/381\n",
      "Extracting PMIDs from file: 275/381\n",
      "Extracting PMIDs from file: 276/381\n",
      "Extracting PMIDs from file: 277/381\n",
      "Extracting PMIDs from file: 278/381\n",
      "Extracting PMIDs from file: 279/381\n",
      "Extracting PMIDs from file: 280/381\n",
      "Extracting PMIDs from file: 281/381\n",
      "Extracting PMIDs from file: 282/381\n",
      "Extracting PMIDs from file: 283/381\n",
      "Extracting PMIDs from file: 284/381\n",
      "Extracting PMIDs from file: 285/381\n",
      "Extracting PMIDs from file: 286/381\n",
      "Extracting PMIDs from file: 287/381\n",
      "Extracting PMIDs from file: 288/381\n",
      "Extracting PMIDs from file: 289/381\n",
      "Extracting PMIDs from file: 290/381\n",
      "Extracting PMIDs from file: 291/381\n",
      "Extracting PMIDs from file: 292/381\n",
      "Extracting PMIDs from file: 293/381\n",
      "Extracting PMIDs from file: 294/381\n",
      "Extracting PMIDs from file: 295/381\n",
      "Extracting PMIDs from file: 296/381\n",
      "Extracting PMIDs from file: 297/381\n",
      "Extracting PMIDs from file: 298/381\n",
      "Extracting PMIDs from file: 299/381\n",
      "Extracting PMIDs from file: 300/381\n",
      "Extracting PMIDs from file: 301/381\n",
      "Extracting PMIDs from file: 302/381\n",
      "Extracting PMIDs from file: 303/381\n",
      "Extracting PMIDs from file: 304/381\n",
      "Extracting PMIDs from file: 305/381\n",
      "Extracting PMIDs from file: 306/381\n",
      "Extracting PMIDs from file: 307/381\n",
      "Extracting PMIDs from file: 308/381\n",
      "Extracting PMIDs from file: 309/381\n",
      "Extracting PMIDs from file: 310/381\n",
      "Extracting PMIDs from file: 311/381\n",
      "Extracting PMIDs from file: 312/381\n",
      "Extracting PMIDs from file: 313/381\n",
      "Extracting PMIDs from file: 314/381\n",
      "Extracting PMIDs from file: 315/381\n",
      "Extracting PMIDs from file: 316/381\n",
      "Extracting PMIDs from file: 317/381\n",
      "Extracting PMIDs from file: 318/381\n",
      "Extracting PMIDs from file: 319/381\n",
      "Extracting PMIDs from file: 320/381\n",
      "Extracting PMIDs from file: 321/381\n",
      "Extracting PMIDs from file: 322/381\n",
      "Extracting PMIDs from file: 323/381\n",
      "Extracting PMIDs from file: 324/381\n",
      "Extracting PMIDs from file: 325/381\n",
      "Extracting PMIDs from file: 326/381\n",
      "Extracting PMIDs from file: 327/381\n",
      "Extracting PMIDs from file: 328/381\n",
      "Extracting PMIDs from file: 329/381\n",
      "Extracting PMIDs from file: 330/381\n",
      "Extracting PMIDs from file: 331/381\n",
      "Extracting PMIDs from file: 332/381\n",
      "Extracting PMIDs from file: 333/381\n",
      "Extracting PMIDs from file: 334/381\n",
      "Extracting PMIDs from file: 335/381\n",
      "Extracting PMIDs from file: 336/381\n",
      "Extracting PMIDs from file: 337/381\n",
      "Extracting PMIDs from file: 338/381\n",
      "Extracting PMIDs from file: 339/381\n",
      "Extracting PMIDs from file: 340/381\n",
      "Extracting PMIDs from file: 341/381\n",
      "Extracting PMIDs from file: 342/381\n",
      "Extracting PMIDs from file: 343/381\n",
      "Extracting PMIDs from file: 344/381\n",
      "Extracting PMIDs from file: 345/381\n",
      "Extracting PMIDs from file: 346/381\n",
      "Extracting PMIDs from file: 347/381\n",
      "Extracting PMIDs from file: 348/381\n",
      "Extracting PMIDs from file: 349/381\n",
      "Extracting PMIDs from file: 350/381\n",
      "Extracting PMIDs from file: 351/381\n",
      "Extracting PMIDs from file: 352/381\n",
      "Extracting PMIDs from file: 353/381\n",
      "Extracting PMIDs from file: 354/381\n",
      "Extracting PMIDs from file: 355/381\n",
      "Extracting PMIDs from file: 356/381\n",
      "Extracting PMIDs from file: 357/381\n",
      "Extracting PMIDs from file: 358/381\n",
      "Extracting PMIDs from file: 359/381\n",
      "Extracting PMIDs from file: 360/381\n",
      "Extracting PMIDs from file: 361/381\n",
      "Extracting PMIDs from file: 362/381\n",
      "Extracting PMIDs from file: 363/381\n",
      "Extracting PMIDs from file: 364/381\n",
      "Extracting PMIDs from file: 365/381\n",
      "Extracting PMIDs from file: 366/381\n",
      "Extracting PMIDs from file: 367/381\n",
      "Extracting PMIDs from file: 368/381\n",
      "Extracting PMIDs from file: 369/381\n",
      "Extracting PMIDs from file: 370/381\n",
      "Extracting PMIDs from file: 371/381\n",
      "Extracting PMIDs from file: 372/381\n",
      "Extracting PMIDs from file: 373/381\n",
      "Extracting PMIDs from file: 374/381\n",
      "Extracting PMIDs from file: 375/381\n",
      "Extracting PMIDs from file: 376/381\n",
      "Extracting PMIDs from file: 377/381\n",
      "Extracting PMIDs from file: 378/381\n",
      "Extracting PMIDs from file: 379/381\n",
      "Extracting PMIDs from file: 380/381\n"
     ]
    }
   ],
   "source": [
    "# For each .csv file, extract the values of 'PMID' column and add to a list\n",
    "parsedDFs_PMIDs = []\n",
    "for DF in parsedDFs:\n",
    "    print(\"Extracting PMIDs from file: \" + str(parsedDFs.index(DF)) + \"/\" + str(len(parsedDFs)))\n",
    "    df = pd.read_csv(parsedDFs_input+DF)\n",
    "    parsedDFs_PMIDs.extend(list(df[\"PMID\"].values))"
   ]
  },
  {
   "cell_type": "code",
   "execution_count": 45,
   "id": "3d3e3a42-c844-47cf-8a6a-9645738802d2",
   "metadata": {},
   "outputs": [],
   "source": [
    "# Separate in unique and duplicates parsed PMIDs\n",
    "unique_pmids_parsed_DFs = set()\n",
    "duplicated_pmids_parsed_DFs = []\n",
    "\n",
    "for parsed_pmid in parsedDFs_PMIDs:\n",
    "    if str(parsed_pmid) in unique_pmids_parsed_DFs:\n",
    "        duplicated_pmids_parsed_DFs.append(str(parsed_pmid))\n",
    "    else:\n",
    "        unique_pmids_parsed_DFs.add(str(parsed_pmid))"
   ]
  },
  {
   "cell_type": "code",
   "execution_count": 46,
   "id": "930156cf-53e2-4ffc-8738-902acff4805d",
   "metadata": {},
   "outputs": [
    {
     "data": {
      "text/plain": [
       "37836648"
      ]
     },
     "execution_count": 46,
     "metadata": {},
     "output_type": "execute_result"
    }
   ],
   "source": [
    "len(parsedDFs_PMIDs)"
   ]
  },
  {
   "cell_type": "code",
   "execution_count": 47,
   "id": "4b346c54-02e9-4398-bbff-0fb4e96d8781",
   "metadata": {},
   "outputs": [
    {
     "data": {
      "text/plain": [
       "37535754"
      ]
     },
     "execution_count": 47,
     "metadata": {},
     "output_type": "execute_result"
    }
   ],
   "source": [
    "len(unique_pmids_parsed_DFs)"
   ]
  },
  {
   "cell_type": "code",
   "execution_count": 48,
   "id": "f5886f33-f9cf-4caf-ac9c-0d0d034b2729",
   "metadata": {},
   "outputs": [
    {
     "data": {
      "text/plain": [
       "300894"
      ]
     },
     "execution_count": 48,
     "metadata": {},
     "output_type": "execute_result"
    }
   ],
   "source": [
    "len(duplicated_pmids_parsed_DFs)"
   ]
  },
  {
   "cell_type": "code",
   "execution_count": 49,
   "id": "afe6d62a-ab8d-4c3d-a051-ecab00ee939d",
   "metadata": {},
   "outputs": [],
   "source": [
    "# Save lists of unique and duplicated parsed PMIDs as .txt files\n",
    "with open(os.path.join(\"E:\", \"PMIDsInitialParsing\", \"parsed_unique_PMIDs.txt\"), 'w') as output:\n",
    "    for row in unique_pmids_parsed_DFs:\n",
    "        output.write(str(row) + '\\n')\n",
    "\n",
    "with open(os.path.join(\"E:\", \"PMIDsInitialParsing\", \"parsed_duplicated_PMIDs.txt\"), 'w') as output:\n",
    "    for row in duplicated_pmids_parsed_DFs:\n",
    "        output.write(str(row) + '\\n')"
   ]
  },
  {
   "cell_type": "code",
   "execution_count": 50,
   "id": "14c02861-94f3-41ad-a308-7f7c5e3d1f98",
   "metadata": {},
   "outputs": [],
   "source": [
    "# Subtract unique PMIDs - unique parsed PMIDs to get missing (not parsed) PMIDs\n",
    "notParsedPMIDs = unique_pmids.difference(unique_pmids_parsed_DFs)"
   ]
  },
  {
   "cell_type": "code",
   "execution_count": 51,
   "id": "12da5d31-1b0e-49c7-b2cf-4dcc8d08ae9b",
   "metadata": {},
   "outputs": [],
   "source": [
    "# Save missing (not parsed) PMIDs\n",
    "with open(os.path.join(\"E:\", \"PMIDsInitialParsing\", \"not_parsed_PMIDS.txt\"), 'w') as output:\n",
    "    for row in notParsedPMIDs:\n",
    "        output.write(str(row) + '\\n')"
   ]
  }
 ],
 "metadata": {
  "kernelspec": {
   "display_name": "Python 3 (ipykernel)",
   "language": "python",
   "name": "python3"
  },
  "language_info": {
   "codemirror_mode": {
    "name": "ipython",
    "version": 3
   },
   "file_extension": ".py",
   "mimetype": "text/x-python",
   "name": "python",
   "nbconvert_exporter": "python",
   "pygments_lexer": "ipython3",
   "version": "3.12.7"
  }
 },
 "nbformat": 4,
 "nbformat_minor": 5
}
