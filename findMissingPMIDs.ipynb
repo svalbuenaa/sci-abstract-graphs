{
 "cells": [
  {
   "cell_type": "code",
   "execution_count": 1,
   "id": "66f8b496-3edc-4b5a-a07d-f994374a1fe9",
   "metadata": {},
   "outputs": [],
   "source": [
    "import os\n",
    "import re\n",
    "import copy\n",
    "import pandas as pd\n",
    "import warnings\n",
    "\n",
    "# DType warning when importing .csv files with parsed PMIDs. Avoid showing the warning\n",
    "warnings.simplefilter(action='ignore', category=pd.errors.DtypeWarning)"
   ]
  },
  {
   "cell_type": "code",
   "execution_count": 2,
   "id": "279a9b58-aa97-4f5b-b3d8-d971d017619f",
   "metadata": {},
   "outputs": [
    {
     "name": "stdin",
     "output_type": "stream",
     "text": [
      " C:\\Users\\svalb\\OneDrive\\Escritorio\\\n"
     ]
    }
   ],
   "source": [
    "# Directory containing .txt files containing PMIDs\n",
    "PMID_input = input().strip()"
   ]
  },
  {
   "cell_type": "code",
   "execution_count": 3,
   "id": "01d3e933-5156-48df-bea9-73f3dbc86d9d",
   "metadata": {},
   "outputs": [
    {
     "name": "stdin",
     "output_type": "stream",
     "text": [
      " E:\\sciAbstractsProject_parsedDFs\\\n"
     ]
    }
   ],
   "source": [
    "# Directory containing .csv files with parsed articles from XMLs\n",
    "parsedDFs_input = input().strip()"
   ]
  },
  {
   "cell_type": "code",
   "execution_count": 4,
   "id": "5c613f47-0869-463c-87e6-ec472f164fd2",
   "metadata": {},
   "outputs": [],
   "source": [
    "# Combine all PMIDs in a single list\n",
    "with open(PMID_input+\"pmids_until_19991231.txt\") as file_pmids_until_19991231:\n",
    "    articles_pmids = [line.rstrip() for line in file_pmids_until_19991231]\n",
    "\n",
    "with open(PMID_input+\"pmids_20000101_until_20091231.txt\") as file_pmids_20000101_until_20091231:\n",
    "    articles_pmids_20000101_until_20091231 = [line.rstrip() for line in file_pmids_20000101_until_20091231]\n",
    "\n",
    "with open(PMID_input+\"pmids_20100101_until_20191231.txt\") as file_pmids_20100101_until_20191231:\n",
    "    articles_pmids_20100101_until_20191231 = [line.rstrip() for line in file_pmids_20100101_until_20191231]\n",
    "\n",
    "with open(PMID_input+\"pmids_20200101_until_20240701.txt\") as file_pmids_20200101_until_20240701:\n",
    "    articles_pmids_20200101_until_20240701 = [line.rstrip() for line in file_pmids_20200101_until_20240701]\n",
    "\n",
    "\n",
    "articles_pmids.extend(articles_pmids_20000101_until_20091231)\n",
    "articles_pmids.extend(articles_pmids_20100101_until_20191231)\n",
    "articles_pmids.extend(articles_pmids_20200101_until_20240701)"
   ]
  },
  {
   "cell_type": "code",
   "execution_count": 5,
   "id": "52a38020-1ddb-4f1c-93f9-c7eb736fe700",
   "metadata": {},
   "outputs": [
    {
     "data": {
      "text/plain": [
       "37845132"
      ]
     },
     "execution_count": 5,
     "metadata": {},
     "output_type": "execute_result"
    }
   ],
   "source": [
    "# Number of PMIDs\n",
    "len(articles_pmids)"
   ]
  },
  {
   "cell_type": "code",
   "execution_count": 6,
   "id": "a3cd9dbd-afca-4b8d-a61e-162487deccfb",
   "metadata": {},
   "outputs": [],
   "source": [
    "# Separate in unique and duplicates PMIDs\n",
    "unique_pmids = set()\n",
    "duplicated_pmids = []\n",
    "\n",
    "for pmid in articles_pmids:\n",
    "    if pmid in unique_pmids:\n",
    "        duplicated_pmids.append(pmid)\n",
    "    else:\n",
    "        unique_pmids.add(pmid)"
   ]
  },
  {
   "cell_type": "code",
   "execution_count": 7,
   "id": "48f3f709-d5e9-4771-97e3-08e92d81b4b2",
   "metadata": {},
   "outputs": [
    {
     "data": {
      "text/plain": [
       "37544208"
      ]
     },
     "execution_count": 7,
     "metadata": {},
     "output_type": "execute_result"
    }
   ],
   "source": [
    "# Number of unique PMIDs\n",
    "len(unique_pmids)"
   ]
  },
  {
   "cell_type": "code",
   "execution_count": 8,
   "id": "bd778aec-202e-4e68-8cfe-c2f66e650334",
   "metadata": {},
   "outputs": [
    {
     "data": {
      "text/plain": [
       "300924"
      ]
     },
     "execution_count": 8,
     "metadata": {},
     "output_type": "execute_result"
    }
   ],
   "source": [
    "# Number of duplicated PMIDs\n",
    "len(duplicated_pmids)"
   ]
  },
  {
   "cell_type": "code",
   "execution_count": 9,
   "id": "8e92ae76-9067-418a-9da8-ad3bc632115d",
   "metadata": {},
   "outputs": [],
   "source": [
    "# Save lists of unique and duplicated PMIDs as .txt files\n",
    "with open(os.path.join(\"E:\", \"PMIDsInitialParsing\", \"unique_PMIDs.txt\"), 'w') as output:\n",
    "    for row in unique_pmids:\n",
    "        output.write(str(row) + '\\n')\n",
    "\n",
    "with open(os.path.join(\"E:\", \"PMIDsInitialParsing\", \"duplicated_PMIDs.txt\"), 'w') as output:\n",
    "    for row in duplicated_pmids:\n",
    "        output.write(str(row) + '\\n')"
   ]
  },
  {
   "cell_type": "code",
   "execution_count": 9,
   "id": "bd446585-7206-407e-9c75-c6d18996082f",
   "metadata": {},
   "outputs": [],
   "source": [
    "# Extract and add names of files in directories containing .csv files to a list, keep only .csv files\n",
    "parsed_DFs = []\n",
    "for root, dirs, files in os.walk(parsedDFs_input):\n",
    "        for file in files:\n",
    "            if file[-4:] == \".csv\":\n",
    "                parsed_DFs.append(os.path.join(root, file))"
   ]
  },
  {
   "cell_type": "code",
   "execution_count": null,
   "id": "9437e2d0-38fb-4e74-9672-8b5a6f9d3e9c",
   "metadata": {},
   "outputs": [
    {
     "name": "stdout",
     "output_type": "stream",
     "text": [
      "Extracting PMIDs from file: 1/382\n",
      "Extracting PMIDs from file: 2/382\n"
     ]
    }
   ],
   "source": [
    "# For each .csv file, extract the values of 'PMID' column and add to a list\n",
    "parsedDFs_PMIDs = []\n",
    "for DF in parsed_DFs:\n",
    "    print(\"Extracting PMIDs from file: \" + str(parsed_DFs.index(DF)+1) + \"/\" + str(len(parsed_DFs)))\n",
    "    df = pd.read_csv(DF)\n",
    "    parsedDFs_PMIDs.extend(list(df[\"PMID\"].values))"
   ]
  },
  {
   "cell_type": "code",
   "execution_count": 14,
   "id": "3d3e3a42-c844-47cf-8a6a-9645738802d2",
   "metadata": {},
   "outputs": [],
   "source": [
    "# Separate in unique and duplicates parsed PMIDs\n",
    "unique_pmids_parsed_DFs = set()\n",
    "duplicated_pmids_parsed_DFs = []\n",
    "\n",
    "for parsed_pmid in parsedDFs_PMIDs:\n",
    "    if str(parsed_pmid) in unique_pmids_parsed_DFs:\n",
    "        duplicated_pmids_parsed_DFs.append(str(parsed_pmid))\n",
    "    else:\n",
    "        unique_pmids_parsed_DFs.add(str(parsed_pmid))"
   ]
  },
  {
   "cell_type": "code",
   "execution_count": 19,
   "id": "930156cf-53e2-4ffc-8738-902acff4805d",
   "metadata": {},
   "outputs": [
    {
     "data": {
      "text/plain": [
       "37844775"
      ]
     },
     "execution_count": 19,
     "metadata": {},
     "output_type": "execute_result"
    }
   ],
   "source": [
    "len(parsedDFs_PMIDs)"
   ]
  },
  {
   "cell_type": "code",
   "execution_count": 20,
   "id": "4b346c54-02e9-4398-bbff-0fb4e96d8781",
   "metadata": {},
   "outputs": [
    {
     "data": {
      "text/plain": [
       "37543881"
      ]
     },
     "execution_count": 20,
     "metadata": {},
     "output_type": "execute_result"
    }
   ],
   "source": [
    "len(unique_pmids_parsed_DFs)"
   ]
  },
  {
   "cell_type": "code",
   "execution_count": 21,
   "id": "f5886f33-f9cf-4caf-ac9c-0d0d034b2729",
   "metadata": {},
   "outputs": [
    {
     "data": {
      "text/plain": [
       "300894"
      ]
     },
     "execution_count": 21,
     "metadata": {},
     "output_type": "execute_result"
    }
   ],
   "source": [
    "len(duplicated_pmids_parsed_DFs)"
   ]
  },
  {
   "cell_type": "code",
   "execution_count": 22,
   "id": "afe6d62a-ab8d-4c3d-a051-ecab00ee939d",
   "metadata": {},
   "outputs": [],
   "source": [
    "# Save lists of unique and duplicated parsed PMIDs as .txt files\n",
    "with open(os.path.join(\"E:\", \"PMIDsInitialParsing\", \"parsed_unique_PMIDs.txt\"), 'w') as output:\n",
    "    for row in unique_pmids_parsed_DFs:\n",
    "        output.write(str(row) + '\\n')\n",
    "\n",
    "with open(os.path.join(\"E:\", \"PMIDsInitialParsing\", \"parsed_duplicated_PMIDs.txt\"), 'w') as output:\n",
    "    for row in duplicated_pmids_parsed_DFs:\n",
    "        output.write(str(row) + '\\n')"
   ]
  },
  {
   "cell_type": "code",
   "execution_count": 23,
   "id": "14c02861-94f3-41ad-a308-7f7c5e3d1f98",
   "metadata": {},
   "outputs": [],
   "source": [
    "# Subtract unique PMIDs - unique parsed PMIDs to get missing (not parsed) PMIDs\n",
    "notParsedPMIDs = unique_pmids.difference(unique_pmids_parsed_DFs)"
   ]
  },
  {
   "cell_type": "code",
   "execution_count": 24,
   "id": "12da5d31-1b0e-49c7-b2cf-4dcc8d08ae9b",
   "metadata": {},
   "outputs": [],
   "source": [
    "# Save missing (not parsed) PMIDs\n",
    "with open(os.path.join(\"E:\", \"PMIDsInitialParsing\", \"not_parsed_PMIDS.txt\"), 'w') as output:\n",
    "    for row in notParsedPMIDs:\n",
    "        output.write(str(row) + '\\n')"
   ]
  },
  {
   "cell_type": "code",
   "execution_count": 26,
   "id": "e5e0432f-640b-4821-a299-c7d446e9fa00",
   "metadata": {},
   "outputs": [
    {
     "data": {
      "text/plain": [
       "327"
      ]
     },
     "execution_count": 26,
     "metadata": {},
     "output_type": "execute_result"
    }
   ],
   "source": [
    "len(notParsedPMIDs)"
   ]
  },
  {
   "cell_type": "code",
   "execution_count": 27,
   "id": "4caf4a1e-995b-407a-935a-dbfab8de134a",
   "metadata": {
    "scrolled": true
   },
   "outputs": [
    {
     "data": {
      "text/plain": [
       "{'26641866',\n",
       " '26641867',\n",
       " '26641871',\n",
       " '26641872',\n",
       " '27270254',\n",
       " '27270255',\n",
       " '27270256',\n",
       " '27845535',\n",
       " '27845536',\n",
       " '27845537',\n",
       " '27845538',\n",
       " '27977291',\n",
       " '29283619',\n",
       " '29283620',\n",
       " '29608087',\n",
       " '29608088',\n",
       " '29902042',\n",
       " '29902043',\n",
       " '30589330',\n",
       " '30920266',\n",
       " '30920267',\n",
       " '31033592',\n",
       " '31512912',\n",
       " '31512913',\n",
       " '31512914',\n",
       " '31613213',\n",
       " '31687108',\n",
       " '31713074',\n",
       " '31815517',\n",
       " '31988696',\n",
       " '32202837',\n",
       " '32202839',\n",
       " '32202840',\n",
       " '32378917',\n",
       " '32525357',\n",
       " '32525358',\n",
       " '32525359',\n",
       " '32525360',\n",
       " '32525361',\n",
       " '32760179',\n",
       " '32869736',\n",
       " '32940509',\n",
       " '32955288',\n",
       " '32955289',\n",
       " '32981335',\n",
       " '32984194',\n",
       " '33483229',\n",
       " '33591786',\n",
       " '33591787',\n",
       " '33591788',\n",
       " '34053074',\n",
       " '34223521',\n",
       " '34410782',\n",
       " '34807650',\n",
       " '34824687',\n",
       " '34852679',\n",
       " '34931577',\n",
       " '35112295',\n",
       " '35225061',\n",
       " '35414849',\n",
       " '35811169',\n",
       " '35838395',\n",
       " '35848347',\n",
       " '35848356',\n",
       " '35848357',\n",
       " '35848360',\n",
       " '35848374',\n",
       " '35850556',\n",
       " '35866530',\n",
       " '35900525',\n",
       " '35944616',\n",
       " '35981213',\n",
       " '36190112',\n",
       " '36222400',\n",
       " '36222401',\n",
       " '36222402',\n",
       " '36222403',\n",
       " '36222404',\n",
       " '36222405',\n",
       " '36416804',\n",
       " '36458745',\n",
       " '36585262',\n",
       " '36595208',\n",
       " '36624958',\n",
       " '36656257',\n",
       " '36656259',\n",
       " '36725344',\n",
       " '36753359',\n",
       " '36789770',\n",
       " '36870050',\n",
       " '36910547',\n",
       " '36922276',\n",
       " '36927200',\n",
       " '37017944',\n",
       " '37022740',\n",
       " '37023380',\n",
       " '37038443',\n",
       " '37077110',\n",
       " '37078968',\n",
       " '37122281',\n",
       " '37204047',\n",
       " '37213884',\n",
       " '37273815',\n",
       " '37279770',\n",
       " '37294564',\n",
       " '37314269',\n",
       " '37315315',\n",
       " '37318558',\n",
       " '37355739',\n",
       " '37384943',\n",
       " '37401359',\n",
       " '37413686',\n",
       " '37424614',\n",
       " '37424719',\n",
       " '37424840',\n",
       " '37426557',\n",
       " '37434907',\n",
       " '37450620',\n",
       " '37527525',\n",
       " '37530374',\n",
       " '37575552',\n",
       " '37669899',\n",
       " '37681711',\n",
       " '37683124',\n",
       " '37704767',\n",
       " '37723079',\n",
       " '37730317',\n",
       " '37732612',\n",
       " '37746548',\n",
       " '37746549',\n",
       " '37768442',\n",
       " '37769146',\n",
       " '37770651',\n",
       " '37772591',\n",
       " '37773569',\n",
       " '37774164',\n",
       " '37774381',\n",
       " '37792573',\n",
       " '37795319',\n",
       " '37803180',\n",
       " '37807504',\n",
       " '37812798',\n",
       " '37812799',\n",
       " '37812800',\n",
       " '37812801',\n",
       " '37812802',\n",
       " '37812803',\n",
       " '37812804',\n",
       " '37812805',\n",
       " '37812806',\n",
       " '37812807',\n",
       " '37813504',\n",
       " '37828244',\n",
       " '37831516',\n",
       " '37867586',\n",
       " '37877632',\n",
       " '37880128',\n",
       " '37880129',\n",
       " '37880649',\n",
       " '37880660',\n",
       " '37880810',\n",
       " '37899574',\n",
       " '37899605',\n",
       " '37905739',\n",
       " '37906031',\n",
       " '37906340',\n",
       " '37915209',\n",
       " '37922050',\n",
       " '37946217',\n",
       " '37962131',\n",
       " '37985189',\n",
       " '37997683',\n",
       " '37999853',\n",
       " '38000796',\n",
       " '38008896',\n",
       " '38014638',\n",
       " '38014641',\n",
       " '38014994',\n",
       " '38015741',\n",
       " '38015816',\n",
       " '38031037',\n",
       " '38031693',\n",
       " '38038827',\n",
       " '38039399',\n",
       " '38040809',\n",
       " '38040810',\n",
       " '38040811',\n",
       " '38046993',\n",
       " '38084568',\n",
       " '38090776',\n",
       " '38097905',\n",
       " '38102372',\n",
       " '38103131',\n",
       " '38108669',\n",
       " '38109150',\n",
       " '38109151',\n",
       " '38112422',\n",
       " '38135747',\n",
       " '38135807',\n",
       " '38145272',\n",
       " '38153383',\n",
       " '38153591',\n",
       " '38157545',\n",
       " '38166471',\n",
       " '38178823',\n",
       " '38193105',\n",
       " '38193107',\n",
       " '38227757',\n",
       " '38227758',\n",
       " '38231031',\n",
       " '38241627',\n",
       " '38252161',\n",
       " '38258984',\n",
       " '38282488',\n",
       " '38284978',\n",
       " '38299669',\n",
       " '38305741',\n",
       " '38308363',\n",
       " '38310586',\n",
       " '38323493',\n",
       " '38352923',\n",
       " '38352928',\n",
       " '38352936',\n",
       " '38386598',\n",
       " '38408275',\n",
       " '38408739',\n",
       " '38408743',\n",
       " '38408744',\n",
       " '38408746',\n",
       " '38408747',\n",
       " '38410941',\n",
       " '38412390',\n",
       " '38424635',\n",
       " '38434495',\n",
       " '38443973',\n",
       " '38457103',\n",
       " '38462949',\n",
       " '38470462',\n",
       " '38477683',\n",
       " '38479869',\n",
       " '38489167',\n",
       " '38489168',\n",
       " '38495334',\n",
       " '38495335',\n",
       " '38503964',\n",
       " '38504368',\n",
       " '38504700',\n",
       " '38510736',\n",
       " '38535761',\n",
       " '38562059',\n",
       " '38576130',\n",
       " '38579333',\n",
       " '38602965',\n",
       " '38605819',\n",
       " '38605820',\n",
       " '38605821',\n",
       " '38605822',\n",
       " '38605823',\n",
       " '38605824',\n",
       " '38605825',\n",
       " '38617099',\n",
       " '38647063',\n",
       " '38647500',\n",
       " '38648337',\n",
       " '38662210',\n",
       " '38726629',\n",
       " '38750580',\n",
       " '38756787',\n",
       " '38759873',\n",
       " '38797774',\n",
       " '38817157',\n",
       " '38840264',\n",
       " '38856815',\n",
       " '38860985',\n",
       " '38869411',\n",
       " '38869412',\n",
       " '38869413',\n",
       " '38869414',\n",
       " '38869415',\n",
       " '38869416',\n",
       " '38877583',\n",
       " '38880811',\n",
       " '38904563',\n",
       " '38912879',\n",
       " '38920707',\n",
       " '38922781',\n",
       " '38923232',\n",
       " '38923739',\n",
       " '38924622',\n",
       " '38941114',\n",
       " '38941126',\n",
       " '38941129',\n",
       " '38941130',\n",
       " '38941136',\n",
       " '38941142',\n",
       " '38941143',\n",
       " '38941146',\n",
       " '38966178',\n",
       " '38982648',\n",
       " '39078984',\n",
       " '39078985',\n",
       " '39121206',\n",
       " '39137309',\n",
       " '39220840',\n",
       " '39243131',\n",
       " '39259463',\n",
       " '39280105',\n",
       " '39290491',\n",
       " '39290647',\n",
       " '39371615',\n",
       " '39414435',\n",
       " '39414436',\n",
       " '39428466',\n",
       " '39481361',\n",
       " '39491149',\n",
       " '39491220',\n",
       " '39491845',\n",
       " '39495018',\n",
       " '39539930',\n",
       " '39540241',\n",
       " '39585113',\n",
       " '39611507',\n",
       " '39697805',\n",
       " '39697870',\n",
       " '39698298',\n",
       " '39698412',\n",
       " '39699391'}"
      ]
     },
     "execution_count": 27,
     "metadata": {},
     "output_type": "execute_result"
    }
   ],
   "source": [
    "notParsedPMIDs"
   ]
  },
  {
   "cell_type": "markdown",
   "id": "d66cba3c-9a2a-492a-8fd1-8909148c8b89",
   "metadata": {},
   "source": [
    "THESE PMIDS ARE NOT ASSOCIATED TO ANY PAPER IN PUBMED"
   ]
  },
  {
   "cell_type": "code",
   "execution_count": 29,
   "id": "0a2e19f9-1b1f-4345-84d2-6a1ff6b81825",
   "metadata": {},
   "outputs": [
    {
     "name": "stdout",
     "output_type": "stream",
     "text": [
      "0\n",
      "10000\n",
      "20000\n",
      "30000\n",
      "40000\n",
      "50000\n",
      "60000\n",
      "70000\n",
      "80000\n",
      "90000\n",
      "23316251\n",
      "23317426\n",
      "23326896\n",
      "23596640\n",
      "23596641\n",
      "23596642\n",
      "23596643\n",
      "100000\n",
      "29651827\n",
      "29651831\n",
      "29651832\n",
      "29651833\n",
      "29651920\n",
      "29651921\n",
      "29651922\n",
      "29651923\n",
      "29651924\n",
      "30098369\n",
      "30226401\n",
      "30387724\n",
      "30387737\n",
      "30387758\n",
      "30387759\n",
      "30387760\n",
      "110000\n",
      "30939070\n",
      "30939076\n",
      "30939080\n",
      "30939081\n",
      "30939103\n",
      "30939105\n",
      "120000\n",
      "130000\n",
      "140000\n",
      "150000\n",
      "160000\n",
      "170000\n",
      "180000\n",
      "190000\n",
      "200000\n",
      "210000\n",
      "220000\n",
      "230000\n",
      "240000\n",
      "250000\n",
      "260000\n",
      "270000\n",
      "280000\n",
      "290000\n",
      "300000\n",
      "37437081\n",
      "38630970\n"
     ]
    }
   ],
   "source": [
    "for el in duplicated_pmids:\n",
    "    if duplicated_pmids.index(el) % 10000 == 0:\n",
    "        print(duplicated_pmids.index(el))\n",
    "    if el not in duplicated_pmids_parsed_DFs:\n",
    "        print(el)"
   ]
  },
  {
   "cell_type": "code",
   "execution_count": null,
   "id": "50b6b2fb-e3ca-4e93-96b4-d87482c8597c",
   "metadata": {},
   "outputs": [],
   "source": []
  }
 ],
 "metadata": {
  "kernelspec": {
   "display_name": "Python 3 (ipykernel)",
   "language": "python",
   "name": "python3"
  },
  "language_info": {
   "codemirror_mode": {
    "name": "ipython",
    "version": 3
   },
   "file_extension": ".py",
   "mimetype": "text/x-python",
   "name": "python",
   "nbconvert_exporter": "python",
   "pygments_lexer": "ipython3",
   "version": "3.12.7"
  }
 },
 "nbformat": 4,
 "nbformat_minor": 5
}
