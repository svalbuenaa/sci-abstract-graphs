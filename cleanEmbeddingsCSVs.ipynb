{
 "cells": [
  {
   "cell_type": "code",
   "execution_count": 1,
   "id": "ee51d839-ba00-4c55-a22c-c1861d342fd3",
   "metadata": {},
   "outputs": [],
   "source": [
    "import pandas as pd\n",
    "import os\n",
    "import json\n",
    "import time\n",
    "import warnings\n",
    "import gc\n",
    "\n",
    "# DType warning when importing .csv files with parsed PMIDs. Avoid showing the warning\n",
    "warnings.simplefilter(action='ignore', category=pd.errors.DtypeWarning)"
   ]
  },
  {
   "cell_type": "code",
   "execution_count": 2,
   "id": "8edc21c4-89b5-482c-b489-f3e2e27cbee5",
   "metadata": {},
   "outputs": [
    {
     "name": "stdin",
     "output_type": "stream",
     "text": [
      " E:\\sciAbstractsProject_DFsWithEmbeddings\\\n"
     ]
    }
   ],
   "source": [
    "embeddingsCSVs_input = input().strip()"
   ]
  },
  {
   "cell_type": "code",
   "execution_count": 3,
   "id": "49d410cd-bbb8-4838-ba7a-d16fa2e61bb2",
   "metadata": {},
   "outputs": [],
   "source": [
    "# Extract and add names of files in directories containing .csv files to a list, keep only .csv files\n",
    "embeddingsCSVs = []\n",
    "cleanedCSVs = set()\n",
    "\n",
    "for root, dirs, files in os.walk(embeddingsCSVs_input):\n",
    "        for file in files:            \n",
    "            if file[-15:] == \"cleanedCSVs.txt\":\n",
    "                with open (os.path.join(root, file), \"r\") as f:\n",
    "                    for line in f:\n",
    "                        cleanedCSVs.add(line[:-1])\n",
    "            if file[-4:] == \".csv\":\n",
    "                embeddingsCSVs.append(os.path.join(root, file))"
   ]
  },
  {
   "cell_type": "code",
   "execution_count": 5,
   "id": "4d4f0966-6553-4656-a990-ce63fa6f5cf4",
   "metadata": {},
   "outputs": [
    {
     "name": "stdout",
     "output_type": "stream",
     "text": [
      "Cleaning csv: DFsEmbedding_19248582_to_20059111_nomic-embed-text-v2-moe.csv\n",
      "--Cleaning time: 879.54s\n",
      "Cleaning csv: DFsEmbedding_20059112_to_21043262_nomic-embed-text-v2-moe.csv\n",
      "--Cleaning time: 764.54s\n",
      "Cleaning csv: DFsEmbedding_21043263_to_21814842_nomic-embed-text-v2-moe.csv\n",
      "--Cleaning time: 802.67s\n",
      "Cleaning csv: DFsEmbedding_21814843_to_22570866_nomic-embed-text-v2-moe.csv\n",
      "--Cleaning time: 822.59s\n",
      "Cleaning csv: DFsEmbedding_22570867_to_23377586_nomic-embed-text-v2-moe.csv\n",
      "--Cleaning time: 840.45s\n",
      "Cleaning csv: DFsEmbedding_23377587_to_24131880_nomic-embed-text-v2-moe.csv\n",
      "--Cleaning time: 871.97s\n"
     ]
    }
   ],
   "source": [
    "columns_embeddings = []\n",
    "for embedding in range(768):\n",
    "    columns_embeddings.append(\"Embedding_\" + str(embedding))\n",
    "\n",
    "columns_keep = [\"PMID\", \"DOI\", \"Title\"] + columns_embeddings\n",
    "\n",
    "for CSV in embeddingsCSVs:\n",
    "    if CSV not in cleanedCSVs:\n",
    "        print(\"Cleaning csv: \" + CSV.split(\"\\\\\")[-1])\n",
    "        start_time = time.time()\n",
    "        df_full = pd.read_csv(CSV)\n",
    "        df_full[\"AbstractEmbedding_list\"] = df_full[\"AbstractEmbedding\"].map(json.loads)\n",
    "        df_embeddings = pd.DataFrame(df_full[\"AbstractEmbedding_list\"].tolist(), columns=columns_embeddings)\n",
    "        df_full = pd.concat([df_full, df_embeddings], axis = 1)\n",
    "        df_save = df_full[columns_keep]\n",
    "        df_save.to_csv(CSV, index=False)\n",
    "        cleanedCSVs.add(CSV)\n",
    "        with open (os.path.join(embeddingsCSVs_input, \"cleanedCSVs.txt\"), \"a\") as f:\n",
    "            f.write(CSV + \"\\n\")\n",
    "        print(\"--Cleaning time: \" + str(round(time.time()-start_time,2)) + \"s\")\n",
    "        del df_full, df_embeddings, df_save\n",
    "        gc.collect()"
   ]
  },
  {
   "cell_type": "code",
   "execution_count": null,
   "id": "39b6ee61-1121-4a71-be5d-62c437f467cf",
   "metadata": {},
   "outputs": [],
   "source": []
  }
 ],
 "metadata": {
  "kernelspec": {
   "display_name": "Python 3 (ipykernel)",
   "language": "python",
   "name": "python3"
  },
  "language_info": {
   "codemirror_mode": {
    "name": "ipython",
    "version": 3
   },
   "file_extension": ".py",
   "mimetype": "text/x-python",
   "name": "python",
   "nbconvert_exporter": "python",
   "pygments_lexer": "ipython3",
   "version": "3.12.7"
  }
 },
 "nbformat": 4,
 "nbformat_minor": 5
}
