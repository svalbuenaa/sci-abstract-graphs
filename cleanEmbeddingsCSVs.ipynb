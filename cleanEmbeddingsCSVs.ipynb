{
 "cells": [
  {
   "cell_type": "code",
   "execution_count": 1,
   "id": "ee51d839-ba00-4c55-a22c-c1861d342fd3",
   "metadata": {},
   "outputs": [],
   "source": [
    "import pandas as pd\n",
    "import os\n",
    "import json\n",
    "import time\n",
    "import warnings\n",
    "import gc\n",
    "\n",
    "# DType warning when importing .csv files with parsed PMIDs. Avoid showing the warning\n",
    "warnings.simplefilter(action='ignore', category=pd.errors.DtypeWarning)"
   ]
  },
  {
   "cell_type": "code",
   "execution_count": 2,
   "id": "8edc21c4-89b5-482c-b489-f3e2e27cbee5",
   "metadata": {},
   "outputs": [
    {
     "name": "stdin",
     "output_type": "stream",
     "text": [
      " E:\\sciAbstractsProject_DFsWithEmbeddings\\\n"
     ]
    }
   ],
   "source": [
    "embeddingsCSVs_input = input().strip()"
   ]
  },
  {
   "cell_type": "code",
   "execution_count": 3,
   "id": "49d410cd-bbb8-4838-ba7a-d16fa2e61bb2",
   "metadata": {},
   "outputs": [],
   "source": [
    "# Extract and add names of files in directories containing .csv files to a list, keep only .csv files\n",
    "embeddingsCSVs = []\n",
    "cleanedCSVs = set()\n",
    "\n",
    "for root, dirs, files in os.walk(embeddingsCSVs_input):\n",
    "        for file in files:            \n",
    "            if file[-15:] == \"cleanedCSVs.txt\":\n",
    "                with open (os.path.join(root, file), \"r\") as f:\n",
    "                    for line in f:\n",
    "                        cleanedCSVs.add(line[:-1])\n",
    "            if file[-4:] == \".csv\":\n",
    "                embeddingsCSVs.append(os.path.join(root, file))"
   ]
  },
  {
   "cell_type": "code",
   "execution_count": 4,
   "id": "4d4f0966-6553-4656-a990-ce63fa6f5cf4",
   "metadata": {},
   "outputs": [
    {
     "name": "stdout",
     "output_type": "stream",
     "text": [
      "Cleaning csv: DFsEmbedding_10682871_to_11495371_nomic-embed-text-v2-moe.csv\n",
      "--Cleaning time: 734.47s\n",
      "Cleaning csv: DFsEmbedding_11495372_to_12464342_nomic-embed-text-v2-moe.csv\n",
      "--Cleaning time: 745.07s\n",
      "Cleaning csv: DFsEmbedding_12464343_to_14981757_nomic-embed-text-v2-moe.csv\n",
      "--Cleaning time: 711.13s\n",
      "Cleaning csv: DFsEmbedding_1374716_to_2187872_nomic-embed-text-v2-moe.csv\n",
      "--Cleaning time: 858.63s\n",
      "Cleaning csv: DFsEmbedding_14981758_to_15833681_nomic-embed-text-v2-moe.csv\n",
      "--Cleaning time: 731.6s\n",
      "Cleaning csv: DFsEmbedding_15833682_to_16646696_nomic-embed-text-v2-moe.csv\n",
      "--Cleaning time: 821.33s\n",
      "Cleaning csv: DFsEmbedding_16646697_to_17450535_nomic-embed-text-v2-moe.csv\n",
      "--Cleaning time: 849.24s\n",
      "Cleaning csv: DFsEmbedding_17450536_to_18382222_nomic-embed-text-v2-moe.csv\n",
      "--Cleaning time: 882.83s\n",
      "Cleaning csv: DFsEmbedding_2187873_to_3028603_nomic-embed-text-v2-moe.csv\n",
      "--Cleaning time: 880.37s\n",
      "Cleaning csv: DFsEmbedding_21_to_1374715_nomic-embed-text-v2-moe.csv\n",
      "--Cleaning time: 831.6s\n",
      "Cleaning csv: DFsEmbedding_3028604_to_4090815_nomic-embed-text-v2-moe.csv\n",
      "--Cleaning time: 867.17s\n",
      "Cleaning csv: DFsEmbedding_33059270_to_33762189_nomic-embed-text-v2-moe.csv\n",
      "--Cleaning time: 952.9s\n",
      "Cleaning csv: DFsEmbedding_4090816_to_7099710_nomic-embed-text-v2-moe.csv\n",
      "--Cleaning time: 852.36s\n",
      "Cleaning csv: DFsEmbedding_7099711_to_8036683_nomic-embed-text-v2-moe.csv\n",
      "--Cleaning time: 962.54s\n",
      "Cleaning csv: DFsEmbedding_8036685_to_8841992_nomic-embed-text-v2-moe.csv\n",
      "--Cleaning time: 908.58s\n",
      "Cleaning csv: DFsEmbedding_8841993_to_9657422_nomic-embed-text-v2-moe.csv\n",
      "--Cleaning time: 931.59s\n",
      "Cleaning csv: DFsEmbedding_9657423_to_10682870_nomic-embed-text-v2-moe.csv\n",
      "--Cleaning time: 904.03s\n"
     ]
    }
   ],
   "source": [
    "columns_embeddings = []\n",
    "for embedding in range(768):\n",
    "    columns_embeddings.append(\"Embedding_\" + str(embedding))\n",
    "\n",
    "columns_keep = [\"PMID\", \"DOI\", \"Title\"] + columns_embeddings\n",
    "\n",
    "for CSV in embeddingsCSVs:\n",
    "    if CSV not in cleanedCSVs:\n",
    "        print(\"Cleaning csv: \" + CSV.split(\"\\\\\")[-1])\n",
    "        start_time = time.time()\n",
    "        df_full = pd.read_csv(CSV)\n",
    "        df_full[\"AbstractEmbedding_list\"] = df_full[\"AbstractEmbedding\"].map(json.loads)\n",
    "        df_embeddings = pd.DataFrame(df_full[\"AbstractEmbedding_list\"].tolist(), columns=columns_embeddings)\n",
    "        df_full = pd.concat([df_full, df_embeddings], axis = 1)\n",
    "        df_save = df_full[columns_keep]\n",
    "        df_save.to_csv(CSV, index=False)\n",
    "        cleanedCSVs.add(CSV)\n",
    "        with open (os.path.join(embeddingsCSVs_input, \"cleanedCSVs.txt\"), \"a\") as f:\n",
    "            f.write(CSV + \"\\n\")\n",
    "        print(\"--Cleaning time: \" + str(round(time.time()-start_time,2)) + \"s\")\n",
    "        del df_full, df_embeddings, df_save\n",
    "        gc.collect()"
   ]
  },
  {
   "cell_type": "code",
   "execution_count": null,
   "id": "39b6ee61-1121-4a71-be5d-62c437f467cf",
   "metadata": {},
   "outputs": [],
   "source": []
  }
 ],
 "metadata": {
  "kernelspec": {
   "display_name": "Python 3 (ipykernel)",
   "language": "python",
   "name": "python3"
  },
  "language_info": {
   "codemirror_mode": {
    "name": "ipython",
    "version": 3
   },
   "file_extension": ".py",
   "mimetype": "text/x-python",
   "name": "python",
   "nbconvert_exporter": "python",
   "pygments_lexer": "ipython3",
   "version": "3.12.7"
  }
 },
 "nbformat": 4,
 "nbformat_minor": 5
}
