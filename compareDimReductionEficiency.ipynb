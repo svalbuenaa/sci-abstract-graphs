{
 "cells": [
  {
   "cell_type": "code",
   "execution_count": 15,
   "id": "73be1301-4b93-478a-b28a-4d73b5ba5470",
   "metadata": {},
   "outputs": [],
   "source": [
    "import pandas as pd\n",
    "import os\n",
    "import umap\n",
    "from scipy.spatial import KDTree"
   ]
  },
  {
   "cell_type": "code",
   "execution_count": 7,
   "id": "b553bb04-2631-4f0e-a8e8-228e535cd0d2",
   "metadata": {},
   "outputs": [
    {
     "name": "stdin",
     "output_type": "stream",
     "text": [
      " E:\\sciAbstractsProject_DFsWithEmbeddings\\DFsEmbeddings_37937191_to_38631939_nomic_embed_text_v2_moe.csv\n"
     ]
    }
   ],
   "source": [
    "input_UMAP = input().strip()"
   ]
  },
  {
   "cell_type": "code",
   "execution_count": 2,
   "id": "455ecaaa-72b0-48f7-a9ce-8ed4354d7c56",
   "metadata": {},
   "outputs": [
    {
     "name": "stdin",
     "output_type": "stream",
     "text": [
      " C:\\Users\\svalb\\Downloads\\output_autoencoder_1_hidden_37937191_to_38631939.csv\n"
     ]
    }
   ],
   "source": [
    "input_cudaUMAP = input().strip()"
   ]
  },
  {
   "cell_type": "code",
   "execution_count": 3,
   "id": "111690e9-5979-47bb-ac22-33c98e900896",
   "metadata": {},
   "outputs": [],
   "source": [
    "df_cudaUMAP = pd.read_csv(input_cudaUMAP)"
   ]
  },
  {
   "cell_type": "code",
   "execution_count": 23,
   "id": "2c3e067c-03cb-4ab4-97fe-df3e1a531f3c",
   "metadata": {},
   "outputs": [
    {
     "data": {
      "text/html": [
       "<div>\n",
       "<style scoped>\n",
       "    .dataframe tbody tr th:only-of-type {\n",
       "        vertical-align: middle;\n",
       "    }\n",
       "\n",
       "    .dataframe tbody tr th {\n",
       "        vertical-align: top;\n",
       "    }\n",
       "\n",
       "    .dataframe thead th {\n",
       "        text-align: right;\n",
       "    }\n",
       "</style>\n",
       "<table border=\"1\" class=\"dataframe\">\n",
       "  <thead>\n",
       "    <tr style=\"text-align: right;\">\n",
       "      <th></th>\n",
       "      <th>0</th>\n",
       "      <th>1</th>\n",
       "      <th>PMID</th>\n",
       "      <th>Title</th>\n",
       "    </tr>\n",
       "  </thead>\n",
       "  <tbody>\n",
       "    <tr>\n",
       "      <th>0</th>\n",
       "      <td>4.981930</td>\n",
       "      <td>8.668157</td>\n",
       "      <td>37937191</td>\n",
       "      <td>Effect of Laser-Exposed Volume and Irradiation...</td>\n",
       "    </tr>\n",
       "    <tr>\n",
       "      <th>1</th>\n",
       "      <td>5.155158</td>\n",
       "      <td>8.201132</td>\n",
       "      <td>37937192</td>\n",
       "      <td>Epitaxial Growth of (-201) β-Ga</td>\n",
       "    </tr>\n",
       "    <tr>\n",
       "      <th>2</th>\n",
       "      <td>5.061707</td>\n",
       "      <td>8.686628</td>\n",
       "      <td>37937193</td>\n",
       "      <td>Lateral Tunnel Epitaxy of GaAs in Lithographic...</td>\n",
       "    </tr>\n",
       "    <tr>\n",
       "      <th>3</th>\n",
       "      <td>5.984900</td>\n",
       "      <td>4.072961</td>\n",
       "      <td>37937194</td>\n",
       "      <td>Population genetics and external proficiency t...</td>\n",
       "    </tr>\n",
       "    <tr>\n",
       "      <th>4</th>\n",
       "      <td>4.879137</td>\n",
       "      <td>4.465532</td>\n",
       "      <td>37937195</td>\n",
       "      <td>Validation of next-generation sequencing-based...</td>\n",
       "    </tr>\n",
       "    <tr>\n",
       "      <th>...</th>\n",
       "      <td>...</td>\n",
       "      <td>...</td>\n",
       "      <td>...</td>\n",
       "      <td>...</td>\n",
       "    </tr>\n",
       "    <tr>\n",
       "      <th>599995</th>\n",
       "      <td>6.609159</td>\n",
       "      <td>5.024236</td>\n",
       "      <td>38631935</td>\n",
       "      <td>BCLA CLEAR Presbyopia: Management with contact...</td>\n",
       "    </tr>\n",
       "    <tr>\n",
       "      <th>599996</th>\n",
       "      <td>6.339095</td>\n",
       "      <td>3.773745</td>\n",
       "      <td>38631936</td>\n",
       "      <td>Coronary Microvascular Disease Registry (CMDR)...</td>\n",
       "    </tr>\n",
       "    <tr>\n",
       "      <th>599997</th>\n",
       "      <td>7.226109</td>\n",
       "      <td>3.241844</td>\n",
       "      <td>38631937</td>\n",
       "      <td>2023 ACC/AHA Chronic Coronary Disease Guidelin...</td>\n",
       "    </tr>\n",
       "    <tr>\n",
       "      <th>599998</th>\n",
       "      <td>9.941117</td>\n",
       "      <td>3.409442</td>\n",
       "      <td>38631938</td>\n",
       "      <td>Experiences of parents visiting an adult famil...</td>\n",
       "    </tr>\n",
       "    <tr>\n",
       "      <th>599999</th>\n",
       "      <td>6.309180</td>\n",
       "      <td>4.951887</td>\n",
       "      <td>38631939</td>\n",
       "      <td>Taping alone for persistent ventral curvature ...</td>\n",
       "    </tr>\n",
       "  </tbody>\n",
       "</table>\n",
       "<p>600000 rows × 4 columns</p>\n",
       "</div>"
      ],
      "text/plain": [
       "               0         1      PMID  \\\n",
       "0       4.981930  8.668157  37937191   \n",
       "1       5.155158  8.201132  37937192   \n",
       "2       5.061707  8.686628  37937193   \n",
       "3       5.984900  4.072961  37937194   \n",
       "4       4.879137  4.465532  37937195   \n",
       "...          ...       ...       ...   \n",
       "599995  6.609159  5.024236  38631935   \n",
       "599996  6.339095  3.773745  38631936   \n",
       "599997  7.226109  3.241844  38631937   \n",
       "599998  9.941117  3.409442  38631938   \n",
       "599999  6.309180  4.951887  38631939   \n",
       "\n",
       "                                                    Title  \n",
       "0       Effect of Laser-Exposed Volume and Irradiation...  \n",
       "1                         Epitaxial Growth of (-201) β-Ga  \n",
       "2       Lateral Tunnel Epitaxy of GaAs in Lithographic...  \n",
       "3       Population genetics and external proficiency t...  \n",
       "4       Validation of next-generation sequencing-based...  \n",
       "...                                                   ...  \n",
       "599995  BCLA CLEAR Presbyopia: Management with contact...  \n",
       "599996  Coronary Microvascular Disease Registry (CMDR)...  \n",
       "599997  2023 ACC/AHA Chronic Coronary Disease Guidelin...  \n",
       "599998  Experiences of parents visiting an adult famil...  \n",
       "599999  Taping alone for persistent ventral curvature ...  \n",
       "\n",
       "[600000 rows x 4 columns]"
      ]
     },
     "execution_count": 23,
     "metadata": {},
     "output_type": "execute_result"
    }
   ],
   "source": [
    "df_cudaUMAP"
   ]
  },
  {
   "cell_type": "code",
   "execution_count": 8,
   "id": "556f30df-1ec6-451b-8c57-9f3186609a46",
   "metadata": {},
   "outputs": [],
   "source": [
    "df_for_UMAP = pd.read_csv(input_UMAP)"
   ]
  },
  {
   "cell_type": "code",
   "execution_count": 9,
   "id": "622c6ac3-1a0b-4982-a57f-f0cad84e14f0",
   "metadata": {},
   "outputs": [],
   "source": [
    "colnames = []\n",
    "for el in range(768):\n",
    "    colnames.append(\"Embedding_\"+str(el))"
   ]
  },
  {
   "cell_type": "code",
   "execution_count": 10,
   "id": "3a1046da-9c30-456a-8e4b-ec755b6a4b9e",
   "metadata": {},
   "outputs": [
    {
     "name": "stderr",
     "output_type": "stream",
     "text": [
      "C:\\Users\\svalb\\anaconda3\\envs\\env_sci-abstract-graphs\\Lib\\site-packages\\sklearn\\utils\\deprecation.py:151: FutureWarning: 'force_all_finite' was renamed to 'ensure_all_finite' in 1.6 and will be removed in 1.8.\n",
      "  warnings.warn(\n"
     ]
    }
   ],
   "source": [
    "mapper = umap.UMAP().fit_transform(df_for_UMAP[colnames])"
   ]
  },
  {
   "cell_type": "code",
   "execution_count": 11,
   "id": "9de79775-3a8d-4c70-a2f2-8212ccceb0e0",
   "metadata": {},
   "outputs": [],
   "source": [
    "df_umap = df_for_UMAP[[\"PMID\", \"Title\"]]"
   ]
  },
  {
   "cell_type": "code",
   "execution_count": 13,
   "id": "54c019e3-33d9-41b5-94f7-fe1c9cf68582",
   "metadata": {},
   "outputs": [
    {
     "name": "stderr",
     "output_type": "stream",
     "text": [
      "C:\\Users\\svalb\\AppData\\Local\\Temp\\ipykernel_15640\\2597269515.py:1: SettingWithCopyWarning: \n",
      "A value is trying to be set on a copy of a slice from a DataFrame.\n",
      "Try using .loc[row_indexer,col_indexer] = value instead\n",
      "\n",
      "See the caveats in the documentation: https://pandas.pydata.org/pandas-docs/stable/user_guide/indexing.html#returning-a-view-versus-a-copy\n",
      "  df_umap[\"UMAP_0\"] = mapper[:,0]\n",
      "C:\\Users\\svalb\\AppData\\Local\\Temp\\ipykernel_15640\\2597269515.py:2: SettingWithCopyWarning: \n",
      "A value is trying to be set on a copy of a slice from a DataFrame.\n",
      "Try using .loc[row_indexer,col_indexer] = value instead\n",
      "\n",
      "See the caveats in the documentation: https://pandas.pydata.org/pandas-docs/stable/user_guide/indexing.html#returning-a-view-versus-a-copy\n",
      "  df_umap[\"UMAP_1\"] = mapper[:,1]\n"
     ]
    }
   ],
   "source": [
    "df_umap[\"UMAP_0\"] = mapper[:,0]\n",
    "df_umap[\"UMAP_1\"] = mapper[:,1]"
   ]
  },
  {
   "cell_type": "code",
   "execution_count": 14,
   "id": "373c786f-fd8a-4717-9021-ea019d28a724",
   "metadata": {},
   "outputs": [
    {
     "data": {
      "text/html": [
       "<div>\n",
       "<style scoped>\n",
       "    .dataframe tbody tr th:only-of-type {\n",
       "        vertical-align: middle;\n",
       "    }\n",
       "\n",
       "    .dataframe tbody tr th {\n",
       "        vertical-align: top;\n",
       "    }\n",
       "\n",
       "    .dataframe thead th {\n",
       "        text-align: right;\n",
       "    }\n",
       "</style>\n",
       "<table border=\"1\" class=\"dataframe\">\n",
       "  <thead>\n",
       "    <tr style=\"text-align: right;\">\n",
       "      <th></th>\n",
       "      <th>PMID</th>\n",
       "      <th>Title</th>\n",
       "      <th>UMAP_0</th>\n",
       "      <th>UMAP_1</th>\n",
       "    </tr>\n",
       "  </thead>\n",
       "  <tbody>\n",
       "    <tr>\n",
       "      <th>0</th>\n",
       "      <td>37937191</td>\n",
       "      <td>Effect of Laser-Exposed Volume and Irradiation...</td>\n",
       "      <td>4.446158</td>\n",
       "      <td>11.810011</td>\n",
       "    </tr>\n",
       "    <tr>\n",
       "      <th>1</th>\n",
       "      <td>37937192</td>\n",
       "      <td>Epitaxial Growth of (-201) β-Ga</td>\n",
       "      <td>3.196453</td>\n",
       "      <td>13.058400</td>\n",
       "    </tr>\n",
       "    <tr>\n",
       "      <th>2</th>\n",
       "      <td>37937193</td>\n",
       "      <td>Lateral Tunnel Epitaxy of GaAs in Lithographic...</td>\n",
       "      <td>5.311638</td>\n",
       "      <td>12.242271</td>\n",
       "    </tr>\n",
       "    <tr>\n",
       "      <th>3</th>\n",
       "      <td>37937194</td>\n",
       "      <td>Population genetics and external proficiency t...</td>\n",
       "      <td>7.392202</td>\n",
       "      <td>0.388532</td>\n",
       "    </tr>\n",
       "    <tr>\n",
       "      <th>4</th>\n",
       "      <td>37937195</td>\n",
       "      <td>Validation of next-generation sequencing-based...</td>\n",
       "      <td>7.669742</td>\n",
       "      <td>0.524625</td>\n",
       "    </tr>\n",
       "  </tbody>\n",
       "</table>\n",
       "</div>"
      ],
      "text/plain": [
       "       PMID                                              Title    UMAP_0  \\\n",
       "0  37937191  Effect of Laser-Exposed Volume and Irradiation...  4.446158   \n",
       "1  37937192                    Epitaxial Growth of (-201) β-Ga  3.196453   \n",
       "2  37937193  Lateral Tunnel Epitaxy of GaAs in Lithographic...  5.311638   \n",
       "3  37937194  Population genetics and external proficiency t...  7.392202   \n",
       "4  37937195  Validation of next-generation sequencing-based...  7.669742   \n",
       "\n",
       "      UMAP_1  \n",
       "0  11.810011  \n",
       "1  13.058400  \n",
       "2  12.242271  \n",
       "3   0.388532  \n",
       "4   0.524625  "
      ]
     },
     "execution_count": 14,
     "metadata": {},
     "output_type": "execute_result"
    }
   ],
   "source": [
    "df_umap.head()"
   ]
  },
  {
   "cell_type": "code",
   "execution_count": 18,
   "id": "5b23f46a-36ea-4822-a090-8941a2612d10",
   "metadata": {},
   "outputs": [],
   "source": [
    "distances_fullEmbeddings = KDTree(df_for_UMAP[colnames].values)"
   ]
  },
  {
   "cell_type": "code",
   "execution_count": 20,
   "id": "e60644e0-4ecf-44e2-8c1e-a86761d2bf54",
   "metadata": {},
   "outputs": [],
   "source": [
    "distances_UMAP = KDTree(df_umap[[\"UMAP_0\", \"UMAP_1\"]].values)"
   ]
  },
  {
   "cell_type": "code",
   "execution_count": 24,
   "id": "831cf0ca-afd8-456e-b8bc-7ecd6f03c527",
   "metadata": {},
   "outputs": [],
   "source": [
    "distances_cudaUMAP = KDTree(df_cudaUMAP[[\"0\", \"1\"]].values)"
   ]
  },
  {
   "cell_type": "code",
   "execution_count": 30,
   "id": "dd2d77f4-345f-4ea8-9855-b7ac52ea4526",
   "metadata": {},
   "outputs": [],
   "source": [
    "query_distances_fullEmbedding = distances_fullEmbeddings.query(df_for_UMAP[colnames].values[0], k=1000)"
   ]
  },
  {
   "cell_type": "code",
   "execution_count": 31,
   "id": "47dff7c9-895d-4b2f-908f-552493733559",
   "metadata": {},
   "outputs": [],
   "source": [
    "query_distances_UMAP = distances_UMAP.query(df_umap[[\"UMAP_0\", \"UMAP_1\"]].values[0], k=1000)"
   ]
  },
  {
   "cell_type": "code",
   "execution_count": 34,
   "id": "caf7250a-e7b9-4d57-b94d-f33320f0a16a",
   "metadata": {},
   "outputs": [],
   "source": [
    "query_distances_cudaUMAP = distances_cudaUMAP.query(df_cudaUMAP[[\"0\", \"1\"]].values[0], k=1000)"
   ]
  },
  {
   "cell_type": "code",
   "execution_count": 44,
   "id": "b8b70e60-553f-4b4a-bc06-f322752f681c",
   "metadata": {},
   "outputs": [],
   "source": [
    "closest_1000_fullEmbeddings = set(query_distances_fullEmbedding[1])\n",
    "closest_1000_UMAP = set(query_distances_UMAP[1])\n",
    "closest_1000_cudaUMAP = set(query_distances_cudaUMAP[1])"
   ]
  },
  {
   "cell_type": "code",
   "execution_count": 53,
   "id": "ad7281d8-6ce8-41f0-b773-a1f59ce048ed",
   "metadata": {},
   "outputs": [],
   "source": [
    "full_vs_UMAP_1000 = closest_1000_fullEmbeddings.intersection(closest_1000_UMAP)\n",
    "full_vs_cudaUMAP_1000 = closest_1000_fullEmbeddings.intersection(closest_1000_cudaUMAP)"
   ]
  },
  {
   "cell_type": "code",
   "execution_count": 57,
   "id": "851f5da3-f392-461e-8a57-6ea08ed7f44a",
   "metadata": {},
   "outputs": [
    {
     "data": {
      "text/plain": [
       "106"
      ]
     },
     "execution_count": 57,
     "metadata": {},
     "output_type": "execute_result"
    }
   ],
   "source": [
    "len(full_vs_UMAP_1000)"
   ]
  },
  {
   "cell_type": "code",
   "execution_count": 58,
   "id": "ad864dca-3bd1-4c1f-90ea-99578d656ef2",
   "metadata": {},
   "outputs": [
    {
     "data": {
      "text/plain": [
       "10"
      ]
     },
     "execution_count": 58,
     "metadata": {},
     "output_type": "execute_result"
    }
   ],
   "source": [
    "len(full_vs_cudaUMAP_1000)"
   ]
  },
  {
   "cell_type": "code",
   "execution_count": 52,
   "id": "3d5022b0-9f0b-4721-8090-eccdbbc7725b",
   "metadata": {},
   "outputs": [],
   "source": [
    "closest_100_fullEmbeddings = set(query_distances_fullEmbedding[1][:100])\n",
    "closest_100_UMAP = set(query_distances_UMAP[1][:100])\n",
    "closest_100_cudaUMAP = set(query_distances_cudaUMAP[1][:100])"
   ]
  },
  {
   "cell_type": "code",
   "execution_count": 56,
   "id": "4a7643dd-31d8-4904-ae70-451dbfb6686a",
   "metadata": {},
   "outputs": [],
   "source": [
    "full_vs_UMAP_100 = closest_100_fullEmbeddings.intersection(closest_100_UMAP)\n",
    "full_vs_cudaUMAP_100 = closest_100_fullEmbeddings.intersection(closest_100_cudaUMAP)"
   ]
  },
  {
   "cell_type": "code",
   "execution_count": 61,
   "id": "fc14cb00-de5f-40bb-9130-029064553259",
   "metadata": {},
   "outputs": [
    {
     "data": {
      "text/plain": [
       "2"
      ]
     },
     "execution_count": 61,
     "metadata": {},
     "output_type": "execute_result"
    }
   ],
   "source": [
    "len(full_vs_UMAP_100)"
   ]
  },
  {
   "cell_type": "code",
   "execution_count": 62,
   "id": "2abf9d2d-fa81-4eba-8f20-609fd552fe64",
   "metadata": {},
   "outputs": [
    {
     "data": {
      "text/plain": [
       "1"
      ]
     },
     "execution_count": 62,
     "metadata": {},
     "output_type": "execute_result"
    }
   ],
   "source": [
    "len(full_vs_cudaUMAP_100)"
   ]
  },
  {
   "cell_type": "code",
   "execution_count": null,
   "id": "41d6201a-e554-40f4-ba4f-a38314ffdc40",
   "metadata": {},
   "outputs": [],
   "source": []
  }
 ],
 "metadata": {
  "kernelspec": {
   "display_name": "Python 3 (ipykernel)",
   "language": "python",
   "name": "python3"
  },
  "language_info": {
   "codemirror_mode": {
    "name": "ipython",
    "version": 3
   },
   "file_extension": ".py",
   "mimetype": "text/x-python",
   "name": "python",
   "nbconvert_exporter": "python",
   "pygments_lexer": "ipython3",
   "version": "3.12.7"
  }
 },
 "nbformat": 4,
 "nbformat_minor": 5
}
